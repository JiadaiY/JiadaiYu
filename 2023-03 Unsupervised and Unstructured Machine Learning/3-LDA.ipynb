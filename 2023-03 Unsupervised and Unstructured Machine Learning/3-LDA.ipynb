{
 "cells": [
  {
   "cell_type": "markdown",
   "metadata": {
    "id": "1ozalcZj6GnO"
   },
   "source": [
    "# BA 820 Homework 3 (100 Points)\n",
    "\n",
    "Group Member Names:\n",
    "\n",
    "Reminder: you should not be sharing code across groups\n",
    "\n",
    "Please submit 1) PDF answers and 2) python notebook. Grading will be based on the homework answer write up PDF. Python notebook is for reference and back up only. So please make sure that your all the outputs and answers are clearly visible in the pdf.\n",
    "\n",
    "## 1 Latent Dirichlet Allocation [60pts]\n",
    "\n",
    "In this problem, we will use Latent Dirichlet Allocation to perform topic modeling on Amazon Review datasets. In particular, we will take an in-depth look at different aspects of LDA model.\n",
    "\n",
    "## 1.1 Installation\n",
    "\n",
    "To perform LDA and visualize, please use Python 3.X. You will also need to install Numpy, Scipy, gensim, nltk, pyLDAvis library. Refer to requirements.txt for more details.\n",
    "Use the following code to install the labraries."
   ]
  },
  {
   "cell_type": "code",
   "execution_count": 1,
   "metadata": {
    "id": "K7m0zKTQLP-a"
   },
   "outputs": [
    {
     "name": "stdout",
     "output_type": "stream",
     "text": [
      "Requirement already satisfied: gensim in c:\\users\\yujia\\anaconda3\\lib\\site-packages (4.1.2)\n",
      "Requirement already satisfied: smart-open>=1.8.1 in c:\\users\\yujia\\anaconda3\\lib\\site-packages (from gensim) (6.3.0)\n",
      "Requirement already satisfied: scipy>=0.18.1 in c:\\users\\yujia\\anaconda3\\lib\\site-packages (from gensim) (1.7.3)\n",
      "Requirement already satisfied: numpy>=1.17.0 in c:\\users\\yujia\\anaconda3\\lib\\site-packages (from gensim) (1.22.4)\n",
      "Note: you may need to restart the kernel to use updated packages.\n",
      "Requirement already satisfied: nltk in c:\\users\\yujia\\anaconda3\\lib\\site-packages (3.7)\n",
      "Requirement already satisfied: joblib in c:\\users\\yujia\\anaconda3\\lib\\site-packages (from nltk) (1.2.0)\n",
      "Requirement already satisfied: tqdm in c:\\users\\yujia\\anaconda3\\lib\\site-packages (from nltk) (4.64.0)\n",
      "Requirement already satisfied: regex>=2021.8.3 in c:\\users\\yujia\\anaconda3\\lib\\site-packages (from nltk) (2022.3.15)\n",
      "Requirement already satisfied: click in c:\\users\\yujia\\anaconda3\\lib\\site-packages (from nltk) (8.0.4)\n",
      "Requirement already satisfied: colorama in c:\\users\\yujia\\anaconda3\\lib\\site-packages (from click->nltk) (0.4.4)\n",
      "Note: you may need to restart the kernel to use updated packages.\n",
      "Requirement already satisfied: pyldavis in c:\\users\\yujia\\anaconda3\\lib\\site-packages (3.4.0)\n",
      "Requirement already satisfied: numexpr in c:\\users\\yujia\\anaconda3\\lib\\site-packages (from pyldavis) (2.8.1)\n",
      "Requirement already satisfied: setuptools in c:\\users\\yujia\\anaconda3\\lib\\site-packages (from pyldavis) (61.2.0)\n",
      "Requirement already satisfied: joblib>=1.2.0 in c:\\users\\yujia\\anaconda3\\lib\\site-packages (from pyldavis) (1.2.0)\n",
      "Requirement already satisfied: pandas>=1.3.4 in c:\\users\\yujia\\anaconda3\\lib\\site-packages (from pyldavis) (1.4.2)\n",
      "Requirement already satisfied: numpy>=1.22.0 in c:\\users\\yujia\\anaconda3\\lib\\site-packages (from pyldavis) (1.22.4)\n",
      "Requirement already satisfied: funcy in c:\\users\\yujia\\anaconda3\\lib\\site-packages (from pyldavis) (1.18)\n",
      "Requirement already satisfied: scikit-learn>=1.0.0 in c:\\users\\yujia\\anaconda3\\lib\\site-packages (from pyldavis) (1.0.2)\n",
      "Requirement already satisfied: gensim in c:\\users\\yujia\\anaconda3\\lib\\site-packages (from pyldavis) (4.1.2)\n",
      "Requirement already satisfied: scipy in c:\\users\\yujia\\anaconda3\\lib\\site-packages (from pyldavis) (1.7.3)\n",
      "Requirement already satisfied: jinja2 in c:\\users\\yujia\\anaconda3\\lib\\site-packages (from pyldavis) (2.11.3)\n",
      "Requirement already satisfied: pytz>=2020.1 in c:\\users\\yujia\\anaconda3\\lib\\site-packages (from pandas>=1.3.4->pyldavis) (2021.3)\n",
      "Requirement already satisfied: python-dateutil>=2.8.1 in c:\\users\\yujia\\anaconda3\\lib\\site-packages (from pandas>=1.3.4->pyldavis) (2.8.2)\n",
      "Requirement already satisfied: six>=1.5 in c:\\users\\yujia\\anaconda3\\lib\\site-packages (from python-dateutil>=2.8.1->pandas>=1.3.4->pyldavis) (1.16.0)\n",
      "Requirement already satisfied: threadpoolctl>=2.0.0 in c:\\users\\yujia\\anaconda3\\lib\\site-packages (from scikit-learn>=1.0.0->pyldavis) (2.2.0)\n",
      "Requirement already satisfied: smart-open>=1.8.1 in c:\\users\\yujia\\anaconda3\\lib\\site-packages (from gensim->pyldavis) (6.3.0)\n",
      "Requirement already satisfied: MarkupSafe>=0.23 in c:\\users\\yujia\\anaconda3\\lib\\site-packages (from jinja2->pyldavis) (2.0.1)\n",
      "Requirement already satisfied: packaging in c:\\users\\yujia\\anaconda3\\lib\\site-packages (from numexpr->pyldavis) (21.3)\n",
      "Requirement already satisfied: pyparsing!=3.0.5,>=2.0.2 in c:\\users\\yujia\\anaconda3\\lib\\site-packages (from packaging->numexpr->pyldavis) (3.0.4)\n",
      "Note: you may need to restart the kernel to use updated packages.\n",
      "Requirement already satisfied: matplotlib in c:\\users\\yujia\\anaconda3\\lib\\site-packages (3.5.1)\n",
      "Requirement already satisfied: pillow>=6.2.0 in c:\\users\\yujia\\anaconda3\\lib\\site-packages (from matplotlib) (9.0.1)\n",
      "Requirement already satisfied: packaging>=20.0 in c:\\users\\yujia\\anaconda3\\lib\\site-packages (from matplotlib) (21.3)\n",
      "Requirement already satisfied: fonttools>=4.22.0 in c:\\users\\yujia\\anaconda3\\lib\\site-packages (from matplotlib) (4.25.0)\n",
      "Requirement already satisfied: cycler>=0.10 in c:\\users\\yujia\\anaconda3\\lib\\site-packages (from matplotlib) (0.11.0)\n",
      "Requirement already satisfied: python-dateutil>=2.7 in c:\\users\\yujia\\anaconda3\\lib\\site-packages (from matplotlib) (2.8.2)\n",
      "Requirement already satisfied: numpy>=1.17 in c:\\users\\yujia\\anaconda3\\lib\\site-packages (from matplotlib) (1.22.4)\n",
      "Requirement already satisfied: pyparsing>=2.2.1 in c:\\users\\yujia\\anaconda3\\lib\\site-packages (from matplotlib) (3.0.4)\n",
      "Requirement already satisfied: kiwisolver>=1.0.1 in c:\\users\\yujia\\anaconda3\\lib\\site-packages (from matplotlib) (1.3.2)\n",
      "Requirement already satisfied: six>=1.5 in c:\\users\\yujia\\anaconda3\\lib\\site-packages (from python-dateutil>=2.7->matplotlib) (1.16.0)\n",
      "Note: you may need to restart the kernel to use updated packages.\n"
     ]
    }
   ],
   "source": [
    "%pip install gensim\n",
    "# install gensim for LDA\n",
    "%pip install nltk \n",
    "# install nltk to preprocess sentences\n",
    "%pip install pyldavis\n",
    "# to visualize LDA topics\n",
    "%pip install matplotlib \n",
    "# for plotting"
   ]
  },
  {
   "cell_type": "markdown",
   "metadata": {
    "id": "QFDfBgMF6Rsu"
   },
   "source": [
    "The cell below tests if the packages we need have been installed correctly, and that we are in the correct environment."
   ]
  },
  {
   "cell_type": "code",
   "execution_count": 2,
   "metadata": {
    "id": "9iRwy_ck6SLL"
   },
   "outputs": [
    {
     "name": "stderr",
     "output_type": "stream",
     "text": [
      "[nltk_data] Downloading package stopwords to\n",
      "[nltk_data]     C:\\Users\\yujia\\AppData\\Roaming\\nltk_data...\n",
      "[nltk_data]   Package stopwords is already up-to-date!\n"
     ]
    }
   ],
   "source": [
    "import gensim\n",
    "import nltk\n",
    "nltk.download(\"stopwords\")\n",
    "\n",
    "import matplotlib\n",
    "%matplotlib inline\n",
    "import gzip # to unzip the data\n",
    "import re # to replace punctuations\n",
    "from nltk.corpus import stopwords # list of stopwords"
   ]
  },
  {
   "cell_type": "code",
   "execution_count": 3,
   "metadata": {},
   "outputs": [
    {
     "name": "stdout",
     "output_type": "stream",
     "text": [
      "Requirement already satisfied: pyLDAvis in c:\\users\\yujia\\anaconda3\\lib\\site-packages (3.4.0)\n",
      "Requirement already satisfied: pandas>=1.3.4 in c:\\users\\yujia\\anaconda3\\lib\\site-packages (from pyLDAvis) (1.4.2)\n",
      "Requirement already satisfied: numexpr in c:\\users\\yujia\\anaconda3\\lib\\site-packages (from pyLDAvis) (2.8.1)\n",
      "Requirement already satisfied: joblib>=1.2.0 in c:\\users\\yujia\\anaconda3\\lib\\site-packages (from pyLDAvis) (1.2.0)\n",
      "Requirement already satisfied: setuptools in c:\\users\\yujia\\anaconda3\\lib\\site-packages (from pyLDAvis) (61.2.0)\n",
      "Requirement already satisfied: gensim in c:\\users\\yujia\\anaconda3\\lib\\site-packages (from pyLDAvis) (4.1.2)\n",
      "Requirement already satisfied: scipy in c:\\users\\yujia\\anaconda3\\lib\\site-packages (from pyLDAvis) (1.7.3)\n",
      "Requirement already satisfied: numpy>=1.22.0 in c:\\users\\yujia\\anaconda3\\lib\\site-packages (from pyLDAvis) (1.22.4)\n",
      "Requirement already satisfied: jinja2 in c:\\users\\yujia\\anaconda3\\lib\\site-packages (from pyLDAvis) (2.11.3)\n",
      "Requirement already satisfied: scikit-learn>=1.0.0 in c:\\users\\yujia\\anaconda3\\lib\\site-packages (from pyLDAvis) (1.0.2)\n",
      "Requirement already satisfied: funcy in c:\\users\\yujia\\anaconda3\\lib\\site-packages (from pyLDAvis) (1.18)\n",
      "Requirement already satisfied: pytz>=2020.1 in c:\\users\\yujia\\anaconda3\\lib\\site-packages (from pandas>=1.3.4->pyLDAvis) (2021.3)\n",
      "Requirement already satisfied: python-dateutil>=2.8.1 in c:\\users\\yujia\\anaconda3\\lib\\site-packages (from pandas>=1.3.4->pyLDAvis) (2.8.2)\n",
      "Requirement already satisfied: six>=1.5 in c:\\users\\yujia\\anaconda3\\lib\\site-packages (from python-dateutil>=2.8.1->pandas>=1.3.4->pyLDAvis) (1.16.0)\n",
      "Requirement already satisfied: threadpoolctl>=2.0.0 in c:\\users\\yujia\\anaconda3\\lib\\site-packages (from scikit-learn>=1.0.0->pyLDAvis) (2.2.0)\n",
      "Requirement already satisfied: smart-open>=1.8.1 in c:\\users\\yujia\\anaconda3\\lib\\site-packages (from gensim->pyLDAvis) (6.3.0)\n",
      "Requirement already satisfied: MarkupSafe>=0.23 in c:\\users\\yujia\\anaconda3\\lib\\site-packages (from jinja2->pyLDAvis) (2.0.1)\n",
      "Requirement already satisfied: packaging in c:\\users\\yujia\\anaconda3\\lib\\site-packages (from numexpr->pyLDAvis) (21.3)\n",
      "Requirement already satisfied: pyparsing!=3.0.5,>=2.0.2 in c:\\users\\yujia\\anaconda3\\lib\\site-packages (from packaging->numexpr->pyLDAvis) (3.0.4)\n"
     ]
    }
   ],
   "source": [
    "!python -m pip install -U pyLDAvis"
   ]
  },
  {
   "cell_type": "markdown",
   "metadata": {
    "id": "aLu3zAuv6m0r"
   },
   "source": [
    "## 1.2 Datasets\n",
    "\n",
    "You can download the Amazon reviews dataset of Cellphones & Accessory 5-Core Data [here](http://snap.stanford.edu/data/amazon/productGraph/categoryFiles/reviews_Cell_Phones_and_Accessories_5.json.gz). Place the downloaded dataset in the same folder as this notebook. You can use the following code to read a datat from GZIp file"
   ]
  },
  {
   "cell_type": "code",
   "execution_count": 4,
   "metadata": {
    "id": "gbSEVGKw6nV7"
   },
   "outputs": [],
   "source": [
    "# A function to read the zipped data at a specfic path\n",
    "#\n",
    "# How to use:\n",
    "# PATH = \"/path/to/file\"\n",
    "# for line in parse(PATH):\n",
    "#   do something with line\n",
    "#\n",
    "def parse(path):\n",
    "    g = gzip.open(path, 'r')\n",
    "    for l in g:\n",
    "        yield eval(l)"
   ]
  },
  {
   "cell_type": "markdown",
   "metadata": {
    "id": "B48OODRf70mY"
   },
   "source": [
    "## 1.3 Data Cleaning\n",
    "\n",
    "Now we will preprocess the data using the following steps:\n",
    "   1. Remove stopwords\n",
    "   2. Lower-case all words\n",
    "   3. Remove words with less than 2 characters\n",
    "   4. Remove punctuation\n",
    "   5. Split each sentence into a list of words"
   ]
  },
  {
   "cell_type": "code",
   "execution_count": 5,
   "metadata": {},
   "outputs": [],
   "source": [
    "import re"
   ]
  },
  {
   "cell_type": "code",
   "execution_count": 6,
   "metadata": {
    "id": "6JVvT5kh7qO9"
   },
   "outputs": [],
   "source": [
    "# A function to clean a single line of text\n",
    "def clean_line(line):\n",
    "    \"\"\" Clean stopwords and punction for each line\n",
    "    \n",
    "    Args: \n",
    "        line (string): one line in file\n",
    "        \n",
    "    Returns:\n",
    "        list(str): a list of all words in the sentence\n",
    "    \"\"\"\n",
    "    punctuationRegex = r'\\W+|\\d+'\n",
    "    stopWords = set(stopwords.words('english'))\n",
    "    line = line.split(\" \")\n",
    "    filtered_content = []\n",
    "    \n",
    "    for word in line:\n",
    "        word = word.lower()\n",
    "        \n",
    "        if (word not in stopWords) and (len(word)) > 1:\n",
    "            filtered_content.append(re.sub(punctuationRegex,'', word))\n",
    "        #remove empty string\n",
    "        filtered_content = list(filter(None, filtered_content))\n",
    "            \n",
    "    \n",
    "    \n",
    "    \n",
    "    return filtered_content"
   ]
  },
  {
   "cell_type": "markdown",
   "metadata": {
    "id": "fYnnn1KC8jZ8"
   },
   "source": [
    "Finally, we put parse() and clean_line() function together and then extract the first 10,000 reviews into a new text file as your experiment dataset"
   ]
  },
  {
   "cell_type": "code",
   "execution_count": 7,
   "metadata": {
    "id": "FXjJSwnD8jvK"
   },
   "outputs": [],
   "source": [
    "def read_dataset(fname):\n",
    "    \"\"\" Read the 10000 lines in given dataset into list and clean stop words. \n",
    "        \n",
    "    Args: \n",
    "        fname (string): filename of Amazon Review Dataset\n",
    "        \n",
    "    Returns:\n",
    "        list of list of words: we view each document as a list, including a list of all words \n",
    "    \"\"\"\n",
    "    count = 0\n",
    "    exp_dataset = []\n",
    "    for review in parse(fname):\n",
    "        line = review[\"reviewText\"]\n",
    "        new_line = clean_line(line)\n",
    "        exp_dataset.append(new_line)\n",
    "        count += 1\n",
    "        if count > 10000:\n",
    "            break\n",
    "    return exp_dataset"
   ]
  },
  {
   "cell_type": "code",
   "execution_count": 8,
   "metadata": {
    "id": "4cRY1JaN8mIM"
   },
   "outputs": [
    {
     "name": "stdout",
     "output_type": "stream",
     "text": [
      "CPU times: total: 6.8 s\n",
      "Wall time: 11 s\n"
     ]
    }
   ],
   "source": [
    "%%time\n",
    "r = read_dataset(\"reviews_Cell_Phones_and_Accessories_5.json.gz\")"
   ]
  },
  {
   "cell_type": "markdown",
   "metadata": {
    "id": "2FQFnMjb8l1B"
   },
   "source": [
    "## 1.4 Topic Analysis\n",
    "\n",
    "**[5pts] Q1.4.1.1** Use topic numbers 3, 6, 9, 12, 15 respectively and print out all topics with 5 words.\n",
    "\n",
    "For this We will use gensim to train an LDA model. gensim requires the following steps:\n",
    "\n",
    "Construct a gensim.corpora.dictionary from the dataset\n",
    "Construct a gensim \"corpus\" using this dictionary, by mapping each word to an index in the dictionary\n",
    "Run LDA on this corpus"
   ]
  },
  {
   "cell_type": "code",
   "execution_count": 9,
   "metadata": {},
   "outputs": [],
   "source": [
    "import gensim\n",
    "\n",
    "from gensim import corpora"
   ]
  },
  {
   "cell_type": "code",
   "execution_count": 11,
   "metadata": {
    "id": "JzfOjF9I9kDD"
   },
   "outputs": [],
   "source": [
    "dictionary = corpora.Dictionary(r) # create a gensim dictionary, store it in variable \"dictionary\"\n",
    "corpus = [dictionary.doc2bow(word) for word in r]# create the gensim corpus, store it in variable \"corpus\""
   ]
  },
  {
   "cell_type": "markdown",
   "metadata": {},
   "source": [
    "The function below prints the top num words in each topic for a given model."
   ]
  },
  {
   "cell_type": "code",
   "execution_count": 12,
   "metadata": {},
   "outputs": [],
   "source": [
    "import pprint\n",
    "\n",
    "def print_topic_words(model,num):\n",
    "    \"\"\" print top words in model topics.\n",
    "    \n",
    "    Args: \n",
    "        model: LDA model\n",
    "        \n",
    "    Returns:\n",
    "        none\n",
    "    \"\"\"    \n",
    "    for topic_id, topic in model.show_topics(num_topics=-1, num_words=num, formatted=False):\n",
    "        print(f\"Topic {topic_id}: \")\n",
    "        for word, weight in topic:\n",
    "            print(f\"    {word} ({weight:.2f})\")\n",
    "        print()"
   ]
  },
  {
   "cell_type": "markdown",
   "metadata": {
    "id": "56Sv1l9S-JeI"
   },
   "source": [
    "The following function builds multiple LDA models with number of topics specified in the list `num_topics`."
   ]
  },
  {
   "cell_type": "code",
   "execution_count": 13,
   "metadata": {
    "id": "NhGPQYTo-Jxx"
   },
   "outputs": [],
   "source": [
    "def build_num_topic_model(dictionary, corpus, num_topics):\n",
    "    \"\"\" Build lda model with given parameters, use print_topic_words to print words\n",
    "    \n",
    "    Args: \n",
    "        dictionary: dictionary built from dataset\n",
    "        corpus: corpus built from dataset\n",
    "        num_topics: list of numbers\n",
    "        \n",
    "    Returns:\n",
    "        none\n",
    "    \"\"\"    \n",
    "    for num_topic in num_topics:\n",
    "        model = gensim.models.ldamodel.LdaModel(corpus=corpus,\n",
    "                                                id2word=dictionary,\n",
    "                                                num_topics=num_topic,\n",
    "                                                random_state=100,\n",
    "                                                update_every=1,\n",
    "                                                chunksize=100,\n",
    "                                                passes=10,\n",
    "                                                alpha='auto',\n",
    "                                                per_word_topics=True)\n",
    "        # Print the top 5 words for each topic\n",
    "        print(f\"Top 5 words for {num_topic} topics:\")\n",
    "        print_topic_words(model,5)\n",
    "    return"
   ]
  },
  {
   "cell_type": "code",
   "execution_count": 14,
   "metadata": {
    "id": "k8NtFThx-Od0"
   },
   "outputs": [
    {
     "name": "stdout",
     "output_type": "stream",
     "text": [
      "Top 5 words for 3 topics:\n",
      "Topic 0: \n",
      "    battery (0.03)\n",
      "    iphone (0.02)\n",
      "    pack (0.01)\n",
      "    juice (0.01)\n",
      "    phone (0.01)\n",
      "\n",
      "Topic 1: \n",
      "    screen (0.03)\n",
      "    phone (0.02)\n",
      "    camera (0.01)\n",
      "    n (0.01)\n",
      "    nokia (0.01)\n",
      "\n",
      "Topic 2: \n",
      "    case (0.03)\n",
      "    iphone (0.01)\n",
      "    headset (0.01)\n",
      "    use (0.01)\n",
      "    pocket (0.01)\n",
      "\n",
      "Top 5 words for 6 topics:\n",
      "Topic 0: \n",
      "    one (0.03)\n",
      "    great (0.02)\n",
      "    good (0.02)\n",
      "    would (0.01)\n",
      "    battery (0.01)\n",
      "\n",
      "Topic 1: \n",
      "    gs (0.03)\n",
      "    iphones (0.02)\n",
      "    increase (0.02)\n",
      "    addon (0.02)\n",
      "    nokia (0.02)\n",
      "\n",
      "Topic 2: \n",
      "    iphone (0.07)\n",
      "    case (0.06)\n",
      "    mophie (0.03)\n",
      "    juice (0.03)\n",
      "    fit (0.02)\n",
      "\n",
      "Topic 3: \n",
      "    home (0.12)\n",
      "    convenient (0.09)\n",
      "    button (0.05)\n",
      "    again (0.04)\n",
      "    broke (0.02)\n",
      "\n",
      "Topic 4: \n",
      "    headset (0.03)\n",
      "    bluetooth (0.02)\n",
      "    ear (0.02)\n",
      "    sound (0.02)\n",
      "    quality (0.02)\n",
      "\n",
      "Topic 5: \n",
      "    phone (0.05)\n",
      "    battery (0.04)\n",
      "    use (0.03)\n",
      "    pack (0.03)\n",
      "    need (0.02)\n",
      "\n",
      "Top 5 words for 9 topics:\n",
      "Topic 0: \n",
      "    one (0.04)\n",
      "    great (0.03)\n",
      "    it (0.02)\n",
      "    good (0.02)\n",
      "    work (0.02)\n",
      "\n",
      "Topic 1: \n",
      "    gs (0.07)\n",
      "    rather (0.06)\n",
      "    something (0.03)\n",
      "    cables (0.03)\n",
      "    quite (0.03)\n",
      "\n",
      "Topic 2: \n",
      "    iphone (0.10)\n",
      "    case (0.08)\n",
      "    mophie (0.04)\n",
      "    pocket (0.03)\n",
      "    bottom (0.02)\n",
      "\n",
      "Topic 3: \n",
      "    pack (0.38)\n",
      "    uses (0.10)\n",
      "    inside (0.02)\n",
      "    making (0.02)\n",
      "    mount (0.02)\n",
      "\n",
      "Topic 4: \n",
      "    headset (0.08)\n",
      "    bluetooth (0.07)\n",
      "    screen (0.06)\n",
      "    wife (0.03)\n",
      "    quality (0.03)\n",
      "\n",
      "Topic 5: \n",
      "    need (0.03)\n",
      "    use (0.03)\n",
      "    cable (0.02)\n",
      "    charge (0.02)\n",
      "    extra (0.02)\n",
      "\n",
      "Topic 6: \n",
      "    battery (0.12)\n",
      "    phone (0.10)\n",
      "    life (0.04)\n",
      "    doubles (0.03)\n",
      "    available (0.02)\n",
      "\n",
      "Topic 7: \n",
      "    use (0.02)\n",
      "    juice (0.02)\n",
      "    better (0.01)\n",
      "    ear (0.01)\n",
      "    using (0.01)\n",
      "\n",
      "Topic 8: \n",
      "    glad (0.06)\n",
      "    led (0.06)\n",
      "    afford (0.06)\n",
      "    pro (0.06)\n",
      "    slimmer (0.05)\n",
      "\n",
      "Top 5 words for 12 topics:\n",
      "Topic 0: \n",
      "    one (0.06)\n",
      "    great (0.06)\n",
      "    works (0.03)\n",
      "    work (0.03)\n",
      "    product (0.02)\n",
      "\n",
      "Topic 1: \n",
      "    gs (0.22)\n",
      "    something (0.11)\n",
      "    cables (0.11)\n",
      "    apply (0.03)\n",
      "    husband (0.03)\n",
      "\n",
      "Topic 2: \n",
      "    case (0.29)\n",
      "    thanks (0.04)\n",
      "    putting (0.04)\n",
      "    bulk (0.04)\n",
      "    jeans (0.04)\n",
      "\n",
      "Topic 3: \n",
      "    iphone (0.22)\n",
      "    fit (0.05)\n",
      "    bottom (0.05)\n",
      "    size (0.04)\n",
      "    theres (0.03)\n",
      "\n",
      "Topic 4: \n",
      "    juice (0.08)\n",
      "    cable (0.03)\n",
      "    charge (0.03)\n",
      "    g (0.03)\n",
      "    plug (0.03)\n",
      "\n",
      "Topic 5: \n",
      "    protective (0.08)\n",
      "    quite (0.05)\n",
      "    longer (0.04)\n",
      "    item (0.04)\n",
      "    cover (0.03)\n",
      "\n",
      "Topic 6: \n",
      "    battery (0.23)\n",
      "    mophie (0.11)\n",
      "    life (0.07)\n",
      "    doubles (0.05)\n",
      "    handy (0.03)\n",
      "\n",
      "Topic 7: \n",
      "    phone (0.06)\n",
      "    use (0.05)\n",
      "    pack (0.03)\n",
      "    little (0.02)\n",
      "    need (0.02)\n",
      "\n",
      "Topic 8: \n",
      "    good (0.03)\n",
      "    would (0.03)\n",
      "    bluetooth (0.02)\n",
      "    screen (0.02)\n",
      "    around (0.02)\n",
      "\n",
      "Topic 9: \n",
      "    otherwise (0.15)\n",
      "    started (0.04)\n",
      "    sometimes (0.04)\n",
      "    black (0.03)\n",
      "    htc (0.03)\n",
      "\n",
      "Topic 10: \n",
      "    headset (0.04)\n",
      "    ear (0.03)\n",
      "    quality (0.03)\n",
      "    sound (0.03)\n",
      "    device (0.02)\n",
      "\n",
      "Topic 11: \n",
      "    convenient (0.10)\n",
      "    excellent (0.04)\n",
      "    everything (0.04)\n",
      "    service (0.03)\n",
      "    you (0.03)\n",
      "\n",
      "Top 5 words for 15 topics:\n",
      "Topic 0: \n",
      "    try (0.11)\n",
      "    oem (0.08)\n",
      "    decided (0.05)\n",
      "    poor (0.05)\n",
      "    picture (0.03)\n",
      "\n",
      "Topic 1: \n",
      "    iphone (0.14)\n",
      "    great (0.06)\n",
      "    one (0.06)\n",
      "    need (0.05)\n",
      "    works (0.03)\n",
      "\n",
      "Topic 2: \n",
      "    good (0.07)\n",
      "    time (0.04)\n",
      "    quality (0.04)\n",
      "    well (0.04)\n",
      "    ive (0.03)\n",
      "\n",
      "Topic 3: \n",
      "    samsung (0.15)\n",
      "    keep (0.10)\n",
      "    s (0.08)\n",
      "    highly (0.05)\n",
      "    update (0.04)\n",
      "\n",
      "Topic 4: \n",
      "    uses (0.16)\n",
      "    problems (0.08)\n",
      "    devices (0.07)\n",
      "    verizon (0.07)\n",
      "    issues (0.05)\n",
      "\n",
      "Topic 5: \n",
      "    case (0.08)\n",
      "    little (0.04)\n",
      "    like (0.03)\n",
      "    would (0.03)\n",
      "    get (0.03)\n",
      "\n",
      "Topic 6: \n",
      "    battery (0.21)\n",
      "    pack (0.10)\n",
      "    juice (0.10)\n",
      "    life (0.06)\n",
      "    doubles (0.05)\n",
      "\n",
      "Topic 7: \n",
      "    probably (0.12)\n",
      "    afford (0.08)\n",
      "    hear (0.07)\n",
      "    find (0.06)\n",
      "    unit (0.06)\n",
      "\n",
      "Topic 8: \n",
      "    headset (0.05)\n",
      "    bluetooth (0.04)\n",
      "    ear (0.04)\n",
      "    sound (0.03)\n",
      "    device (0.03)\n",
      "\n",
      "Topic 9: \n",
      "    remove (0.14)\n",
      "    otherwise (0.12)\n",
      "    tried (0.08)\n",
      "    old (0.06)\n",
      "    feel (0.05)\n",
      "\n",
      "Topic 10: \n",
      "    convenient (0.18)\n",
      "    finish (0.17)\n",
      "    almost (0.07)\n",
      "    simple (0.06)\n",
      "    install (0.04)\n",
      "\n",
      "Topic 11: \n",
      "    wall (0.10)\n",
      "    shape (0.02)\n",
      "    direct (0.02)\n",
      "    rounded (0.01)\n",
      "    popping (0.01)\n",
      "\n",
      "Topic 12: \n",
      "    wife (0.07)\n",
      "    plus (0.07)\n",
      "    got (0.06)\n",
      "    want (0.05)\n",
      "    thing (0.05)\n",
      "\n",
      "Topic 13: \n",
      "    phone (0.14)\n",
      "    use (0.13)\n",
      "    using (0.04)\n",
      "    around (0.03)\n",
      "    may (0.03)\n",
      "\n",
      "Topic 14: \n",
      "    so (0.13)\n",
      "    quite (0.06)\n",
      "    hold (0.06)\n",
      "    all (0.05)\n",
      "    second (0.04)\n",
      "\n"
     ]
    }
   ],
   "source": [
    "build_num_topic_model(dictionary, corpus, [3, 6, 9, 12, 15])"
   ]
  },
  {
   "cell_type": "markdown",
   "metadata": {
    "id": "m8vkk6bo-UEi"
   },
   "source": [
    "**[3pts] Q1.4.1.2**  Explain what could be interpreted for each topics, and describe the similarity and difference between different topic numbers."
   ]
  },
  {
   "cell_type": "markdown",
   "metadata": {
    "id": "BRLNs647-VF7"
   },
   "source": [
    "These topics are related to customer reviews for a product,they can be interpreted as:  \n",
    "(1) Overall positive reviews, e.g. \"great\", \"good\", \"well\"  \n",
    "(2) Description of the product's performance, e.g. \"quality\", \"fit\", \"worked\"  \n",
    "(3) Reviews of personal purchasing and using experience, e.g. \"bought\", \"got\", \"used\", \"ordered\"  \n",
    "(4) Different types of phone accessories, e.g. \"battery\", \"cable\", \"headset\", \"charger\", \"screen\", \"bluetooth\"  \n",
    "(5) Some brands of phone manufacturers, e.g. \"nokia\", \"samsung\".  \n",
    "\n",
    "As topic numbers differs, the most common topics stay the same and are identified repeatedly, like the interpretion (1)(2)(3);  \n",
    "but higher-number models can capture more details, the first topic of the 3-topics model contains \"battery\", \"iphone\", \"pack\", \"juice\", \"phone\", while the 15-topics model is able to distinguish \"battery\", \"pack\", \"juice\" from \"iphone\" and \"phone\", assign them into different topics with more collrelated words."
   ]
  },
  {
   "cell_type": "markdown",
   "metadata": {
    "id": "ERTTf2sGDIPp"
   },
   "source": [
    "**[2pts] Q1.4.1.3**  Which topic number would you choose? Explain."
   ]
  },
  {
   "cell_type": "markdown",
   "metadata": {
    "id": "UOgDUPcvDLs8"
   },
   "source": [
    "We would choose 12, because the 12-topics model balances between \"overall user experience\" and \"product accessory details\", it gives us more information than fewer-topics models, and is more generalized than the 15-topics model.  "
   ]
  },
  {
   "cell_type": "markdown",
   "metadata": {
    "id": "sJfqY1reDX5s"
   },
   "source": [
    "## 1.5 Model Evaluation\n",
    "\n",
    "**[12 pts] Q1.5.1** Now we investigate two methods to evaluate our model and choose the topic number\n",
    "\n",
    "1.Perplexity is a measurement of how well a probability distribution or probability model predicts a sample. A low perplexity indicates the probability distribution is good at predicting the sample. We can use model.log_perplexity(document) to evaluate the perplexity of our LDA model.\n",
    "\n",
    "2.Topic coherence is a one type of interpretability measurement for a topic. It measures if a set of top keywords describe a coherent and singular concept. A good topic will have high topic coherence score. We can use CoherenceModel(model=ldamodel).get_coherence() to calculate it.\n",
    "\n",
    "Plot Perplexity and topic coherence scores of our LDA model for topic number 3,6,9,12,15,20,50."
   ]
  },
  {
   "cell_type": "markdown",
   "metadata": {
    "id": "ni7eZRSIDsIU"
   },
   "source": [
    "The code below trains topic models with different numbers of topics and measures their coherence and perplexity."
   ]
  },
  {
   "cell_type": "code",
   "execution_count": 15,
   "metadata": {
    "id": "1ue1Pf4--UjO"
   },
   "outputs": [],
   "source": [
    "# perplexity \n",
    "# run different number of topics to get perplexity and coherence value for this model\n",
    "from gensim.models.coherencemodel import CoherenceModel\n",
    "def get_measurement_for_model(dictionary, corpus, topic_nums):\n",
    "    \"\"\" Build lda model with given parameters \n",
    "    \n",
    "    Args: \n",
    "        dictionary: dictionary built from dataset\n",
    "        corpus: corpus built from dataset\n",
    "        topic_nums: a list contains all possible topic number\n",
    "        \n",
    "    Returns:\n",
    "        2 lists: one of perplexities, and one of coherence value\n",
    "    \"\"\"  \n",
    "    perplexity = []\n",
    "    coherence_value=[]\n",
    "    for num_topic in topic_nums:\n",
    "        lda_model =  gensim.models.LdaModel(corpus=corpus, id2word=dictionary, num_topics=num_topic, passes=10,random_state = 100)\n",
    "        perplexity.append(lda_model.log_perplexity(corpus))\n",
    "        coherence_model_lda = CoherenceModel(model=lda_model, corpus = corpus, dictionary=dictionary,coherence='u_mass')\n",
    "        coherence_value.append(coherence_model_lda.get_coherence())\n",
    "        #   - Compute and store coherence\n",
    "        #   - Compute and store perplexity\n",
    "        #########################\n",
    "    return perplexity,coherence_value"
   ]
  },
  {
   "cell_type": "code",
   "execution_count": 16,
   "metadata": {
    "id": "nX_zj0RoD4j0"
   },
   "outputs": [],
   "source": [
    "perplexity, coherence = get_measurement_for_model(dictionary, corpus, [3, 6, 9, 12, 15, 20, 50])"
   ]
  },
  {
   "cell_type": "code",
   "execution_count": 17,
   "metadata": {
    "id": "yk-ojlJSD85k"
   },
   "outputs": [
    {
     "name": "stdout",
     "output_type": "stream",
     "text": [
      "[-7.908686474115575, -7.934830146974402, -8.235094819075984, -8.566418813471827, -8.83944224906722, -9.158269620559366, -11.305392894035721]\n",
      "[-1.8242849742294032, -2.075711583042866, -4.931661796046448, -5.596069906522857, -9.879550736089534, -7.519184456309688, -8.07819140833444]\n"
     ]
    }
   ],
   "source": [
    "print(perplexity)\n",
    "print(coherence)"
   ]
  },
  {
   "cell_type": "markdown",
   "metadata": {
    "id": "PcYTqBizD9az"
   },
   "source": [
    "We can now plot the coherence and perplexity of each model."
   ]
  },
  {
   "cell_type": "code",
   "execution_count": 18,
   "metadata": {
    "id": "1B9scv8sD_n8"
   },
   "outputs": [],
   "source": [
    "import matplotlib.pyplot as plt"
   ]
  },
  {
   "cell_type": "code",
   "execution_count": 19,
   "metadata": {
    "id": "G76jh0BXECKs"
   },
   "outputs": [
    {
     "data": {
      "image/png": "[encoded data removed]",
      "text/plain": [
       "<Figure size 640x480 with 1 Axes>"
      ]
     },
     "metadata": {},
     "output_type": "display_data"
    }
   ],
   "source": [
    "plt.plot([3, 6, 9, 12, 15, 20, 50], perplexity)\n",
    "plt.grid()\n",
    "plt.xlabel(\"Number of topics\")\n",
    "plt.ylabel(\"Perplexity\")\n",
    "plt.show()"
   ]
  },
  {
   "cell_type": "markdown",
   "metadata": {
    "id": "WUDG-rr5ELQN"
   },
   "source": [
    "**[2pts] Q1.5.2**  From the above graph what topic number would you choose and why? Is it a good idea to choose the topic number based on perplexity? why or why not?"
   ]
  },
  {
   "cell_type": "markdown",
   "metadata": {
    "id": "q5SLdipiENoi"
   },
   "source": [
    "Based on the above graph and perplexity, we would choose number of topics = 50, but it's not a good idea to choose the topic number based only on perplexity. Low perplexity means more distinct and easier to interpret, but can also lead to redundancies, so based on the specific goals of the analysis, it's helpful to take coherence scores into consideration."
   ]
  },
  {
   "cell_type": "code",
   "execution_count": 20,
   "metadata": {
    "id": "EBhTyUQdELuW"
   },
   "outputs": [
    {
     "data": {
      "image/png": "[encoded data removed]",
      "text/plain": [
       "<Figure size 640x480 with 1 Axes>"
      ]
     },
     "metadata": {},
     "output_type": "display_data"
    }
   ],
   "source": [
    "plt.plot([3, 6, 9, 12, 15, 20, 50], coherence)\n",
    "plt.grid()\n",
    "plt.xlabel(\"Number of topics\")\n",
    "plt.ylabel(\"Coherence\")\n",
    "plt.show()"
   ]
  },
  {
   "cell_type": "markdown",
   "metadata": {
    "id": "VnCOd2_CEY2W"
   },
   "source": [
    "**[2pts] Q1.5.3**  From the above graph what topic number would you choose and why?"
   ]
  },
  {
   "cell_type": "markdown",
   "metadata": {
    "id": "Mm5bcHV4EcOa"
   },
   "source": [
    "Based on the above graph and coherence, we would choose number of topics = 3, because it has the highest coherent score."
   ]
  },
  {
   "cell_type": "markdown",
   "metadata": {
    "id": "ppxl4L4cElVA"
   },
   "source": [
    "**[4pts]Q1.5.4** Compare two methods you implemented in the previous quesions, which one do you think is better and why? In answering, please discuss the actual topics generated."
   ]
  },
  {
   "cell_type": "markdown",
   "metadata": {
    "id": "XMiQEut8Em__"
   },
   "source": [
    "We think 12-topics would be better, because it balances between perplexity and coherence, the actual topics generated can be interpreted as: \n",
    "\n",
    "Topic 0: Overall positive comments of the function of the product  \n",
    "one (0.06)   great (0.06)   works (0.03)   work (0.03)   product (0.02)   \n",
    "\n",
    "Topic 1: Install the cables  \n",
    "gs (0.22)   something (0.11)   cables (0.11)   apply (0.03)   husband (0.03)   \n",
    "\n",
    "Topic 2: The case can be put in to jeans\n",
    "case (0.29)   thanks (0.04)   putting (0.04)   bulk (0.04)   jeans (0.04)    \n",
    "\n",
    "Topic 3: The size ofthe product matches iphone  \n",
    "iphone (0.22)   fit (0.05)   bottom (0.05)   size (0.04)   theres (0.03)    \n",
    "\n",
    "Topic 4: The charging cable and plug  \n",
    "juice (0.08)   cable (0.03)   charge (0.03)   g (0.03)   plug (0.03)   \n",
    "\n",
    "Topic 5: The product covers something and protects it  \n",
    "protective (0.08)   quite (0.05)   longer (0.04)   item (0.04)   cover (0.03)   \n",
    "\n",
    "Topic 6: Extended battery life  \n",
    "battery (0.23)   mophie (0.11)   life (0.07)   doubles (0.05)   handy (0.03)  \n",
    "\n",
    "Topic 7: The need of the product on phone  \n",
    "phone (0.06)   use (0.05)   pack (0.03)   little (0.02)   need (0.02)  \n",
    "\n",
    "Topic 8: Possitive comments on bluetooth and screen  \n",
    "good (0.03)   would (0.03)   bluetooth (0.02)   screen (0.02)   around (0.02)   \n",
    "\n",
    "Topic 9: Some altinative probabilities  \n",
    "otherwise (0.15)   started (0.04)   sometimes (0.04)   black (0.03)   htc (0.03)   \n",
    "\n",
    "Topic 10: About audio device\n",
    "headset (0.04)   ear (0.03)   quality (0.03)   sound (0.03)   device (0.02)  \n",
    "\n",
    "Topic 11: Possitive comments about the services  \n",
    "convenient (0.10)   excellent (0.04)   everything (0.04)   service (0.03)   you (0.03)"
   ]
  },
  {
   "cell_type": "markdown",
   "metadata": {
    "id": "hBkDhQzGFPyp"
   },
   "source": [
    "## 1.6 Alpha and Beta in LDA"
   ]
  },
  {
   "cell_type": "markdown",
   "metadata": {
    "id": "Jelhz4KFFgde"
   },
   "source": [
    "**[7pts]Q1.6.1** In this problem, we will check the two most important parameters in LDA model: alpha and beta. Alpha represents document-topic density - with a higher alpha, documents are made up of more topics, and with lower alpha, documents contain fewer topics. Beta represents topic-word density - with a high beta, topics are made up of most of the words in the corpus, and with a low beta they consist of few words."
   ]
  },
  {
   "cell_type": "code",
   "execution_count": 21,
   "metadata": {
    "id": "x7Wr3DphEb2O"
   },
   "outputs": [],
   "source": [
    "best_topic_num = 12 # CHANGE THIS"
   ]
  },
  {
   "cell_type": "code",
   "execution_count": 22,
   "metadata": {},
   "outputs": [
    {
     "name": "stdout",
     "output_type": "stream",
     "text": [
      "Top 5 words for 12 topics:\n",
      "Topic 0: \n",
      "    one (0.04)\n",
      "    great (0.03)\n",
      "    good (0.02)\n",
      "    works (0.02)\n",
      "    product (0.02)\n",
      "\n",
      "Topic 1: \n",
      "    gs (0.19)\n",
      "    regularly (0.15)\n",
      "    something (0.09)\n",
      "    cables (0.09)\n",
      "    apply (0.02)\n",
      "\n",
      "Topic 2: \n",
      "    case (0.26)\n",
      "    away (0.05)\n",
      "    thanks (0.04)\n",
      "    bulk (0.04)\n",
      "    putting (0.04)\n",
      "\n",
      "Topic 3: \n",
      "    theres (0.05)\n",
      "    uses (0.05)\n",
      "    small (0.04)\n",
      "    bit (0.03)\n",
      "    keep (0.03)\n",
      "\n",
      "Topic 4: \n",
      "    cable (0.03)\n",
      "    usb (0.03)\n",
      "    plug (0.03)\n",
      "    port (0.03)\n",
      "    charge (0.03)\n",
      "\n",
      "Topic 5: \n",
      "    iphones (0.06)\n",
      "    protective (0.05)\n",
      "    matte (0.05)\n",
      "    quite (0.03)\n",
      "    longer (0.02)\n",
      "\n",
      "Topic 6: \n",
      "    battery (0.21)\n",
      "    mophie (0.10)\n",
      "    life (0.06)\n",
      "    doubles (0.05)\n",
      "    handy (0.03)\n",
      "\n",
      "Topic 7: \n",
      "    phone (0.04)\n",
      "    use (0.04)\n",
      "    pack (0.03)\n",
      "    juice (0.03)\n",
      "    need (0.02)\n",
      "\n",
      "Topic 8: \n",
      "    bluetooth (0.03)\n",
      "    screen (0.03)\n",
      "    bottom (0.03)\n",
      "    fit (0.02)\n",
      "    however (0.02)\n",
      "\n",
      "Topic 9: \n",
      "    iphone (0.51)\n",
      "    package (0.06)\n",
      "    otherwise (0.06)\n",
      "    started (0.02)\n",
      "    sometimes (0.01)\n",
      "\n",
      "Topic 10: \n",
      "    headset (0.03)\n",
      "    ear (0.03)\n",
      "    sound (0.02)\n",
      "    quality (0.02)\n",
      "    device (0.01)\n",
      "\n",
      "Topic 11: \n",
      "    convenient (0.08)\n",
      "    comfortable (0.05)\n",
      "    excellent (0.04)\n",
      "    earpiece (0.03)\n",
      "    everything (0.03)\n",
      "\n",
      "\n"
     ]
    }
   ],
   "source": [
    "model1 =  gensim.models.ldamodel.LdaModel(corpus=corpus,\n",
    "                                         id2word=dictionary,\n",
    "                                         num_topics=best_topic_num,\n",
    "                                         random_state=100,\n",
    "                                         update_every=1,\n",
    "                                         chunksize=100,\n",
    "                                         passes=10,\n",
    "                                         alpha=1/best_topic_num,\n",
    "                                         eta = 1/best_topic_num,\n",
    "                                         per_word_topics=True)\n",
    "\n",
    "print(f\"Top 5 words for {best_topic_num} topics:\")\n",
    "print_topic_words(model1, num=5)\n",
    "print()"
   ]
  },
  {
   "cell_type": "code",
   "execution_count": 23,
   "metadata": {
    "id": "3WDzHIzGFm7v"
   },
   "outputs": [
    {
     "name": "stdout",
     "output_type": "stream",
     "text": [
      "Top 5 words for 12 topics:\n",
      "Topic 0: \n",
      "    one (0.04)\n",
      "    great (0.03)\n",
      "    product (0.03)\n",
      "    price (0.03)\n",
      "    works (0.02)\n",
      "\n",
      "Topic 1: \n",
      "    gs (0.10)\n",
      "    cables (0.05)\n",
      "    mount (0.02)\n",
      "    cradle (0.01)\n",
      "    sturdy (0.01)\n",
      "\n",
      "Topic 2: \n",
      "    case (0.11)\n",
      "    pocket (0.03)\n",
      "    bottom (0.03)\n",
      "    little (0.03)\n",
      "    fit (0.02)\n",
      "\n",
      "Topic 3: \n",
      "    owners (0.04)\n",
      "    trade (0.04)\n",
      "    n (0.03)\n",
      "    nokia (0.03)\n",
      "    service (0.02)\n",
      "\n",
      "Topic 4: \n",
      "    juice (0.07)\n",
      "    use (0.03)\n",
      "    cable (0.03)\n",
      "    plug (0.03)\n",
      "    charger (0.02)\n",
      "\n",
      "Topic 5: \n",
      "    sleek (0.04)\n",
      "    rather (0.04)\n",
      "    regularly (0.04)\n",
      "    love (0.03)\n",
      "    recommend (0.03)\n",
      "\n",
      "Topic 6: \n",
      "    battery (0.19)\n",
      "    life (0.05)\n",
      "    doubles (0.04)\n",
      "    handy (0.02)\n",
      "    thanks (0.02)\n",
      "\n",
      "Topic 7: \n",
      "    phone (0.03)\n",
      "    use (0.02)\n",
      "    get (0.01)\n",
      "    one (0.01)\n",
      "    like (0.01)\n",
      "\n",
      "Topic 8: \n",
      "    headset (0.03)\n",
      "    bluetooth (0.03)\n",
      "    ear (0.03)\n",
      "    sound (0.02)\n",
      "    quality (0.02)\n",
      "\n",
      "Topic 9: \n",
      "    iphone (0.21)\n",
      "    mophie (0.09)\n",
      "    screen (0.05)\n",
      "    air (0.03)\n",
      "    otherwise (0.02)\n",
      "\n",
      "Topic 10: \n",
      "    obviously (0.06)\n",
      "    normally (0.06)\n",
      "    shed (0.05)\n",
      "    laptop (0.01)\n",
      "    loose (0.01)\n",
      "\n",
      "Topic 11: \n",
      "    pack (0.11)\n",
      "    available (0.03)\n",
      "    convenient (0.03)\n",
      "    addon (0.03)\n",
      "    theres (0.02)\n",
      "\n",
      "\n"
     ]
    }
   ],
   "source": [
    "model2 = gensim.models.ldamodel.LdaModel(corpus=corpus,\n",
    "                                         id2word=dictionary,\n",
    "                                         num_topics=best_topic_num,\n",
    "                                         random_state=100,\n",
    "                                         update_every=1,\n",
    "                                         chunksize=100,\n",
    "                                         passes=10,\n",
    "                                         alpha=1/2,\n",
    "                                         eta = 1/5,\n",
    "                                         per_word_topics=True)\n",
    "\n",
    "print(f\"Top 5 words for {best_topic_num} topics:\")\n",
    "print_topic_words(model2, num=5)\n",
    "print()"
   ]
  },
  {
   "cell_type": "code",
   "execution_count": 24,
   "metadata": {
    "id": "hhM9efkXFqI0"
   },
   "outputs": [
    {
     "name": "stdout",
     "output_type": "stream",
     "text": [
      "Top 5 words for 12 topics:\n",
      "Topic 0: \n",
      "    one (0.06)\n",
      "    great (0.06)\n",
      "    works (0.03)\n",
      "    work (0.03)\n",
      "    product (0.02)\n",
      "\n",
      "Topic 1: \n",
      "    gs (0.22)\n",
      "    something (0.11)\n",
      "    cables (0.11)\n",
      "    apply (0.03)\n",
      "    husband (0.03)\n",
      "\n",
      "Topic 2: \n",
      "    case (0.29)\n",
      "    thanks (0.04)\n",
      "    putting (0.04)\n",
      "    bulk (0.04)\n",
      "    jeans (0.04)\n",
      "\n",
      "Topic 3: \n",
      "    iphone (0.22)\n",
      "    fit (0.05)\n",
      "    bottom (0.05)\n",
      "    size (0.04)\n",
      "    theres (0.03)\n",
      "\n",
      "Topic 4: \n",
      "    juice (0.08)\n",
      "    cable (0.03)\n",
      "    charge (0.03)\n",
      "    g (0.03)\n",
      "    plug (0.03)\n",
      "\n",
      "Topic 5: \n",
      "    protective (0.08)\n",
      "    quite (0.05)\n",
      "    longer (0.04)\n",
      "    item (0.04)\n",
      "    cover (0.03)\n",
      "\n",
      "Topic 6: \n",
      "    battery (0.23)\n",
      "    mophie (0.11)\n",
      "    life (0.07)\n",
      "    doubles (0.05)\n",
      "    handy (0.03)\n",
      "\n",
      "Topic 7: \n",
      "    phone (0.06)\n",
      "    use (0.05)\n",
      "    pack (0.03)\n",
      "    little (0.02)\n",
      "    need (0.02)\n",
      "\n",
      "Topic 8: \n",
      "    good (0.03)\n",
      "    would (0.03)\n",
      "    bluetooth (0.02)\n",
      "    screen (0.02)\n",
      "    around (0.02)\n",
      "\n",
      "Topic 9: \n",
      "    otherwise (0.15)\n",
      "    started (0.04)\n",
      "    sometimes (0.04)\n",
      "    black (0.03)\n",
      "    htc (0.03)\n",
      "\n",
      "Topic 10: \n",
      "    headset (0.04)\n",
      "    ear (0.03)\n",
      "    quality (0.03)\n",
      "    sound (0.03)\n",
      "    device (0.02)\n",
      "\n",
      "Topic 11: \n",
      "    convenient (0.10)\n",
      "    excellent (0.04)\n",
      "    everything (0.04)\n",
      "    service (0.03)\n",
      "    you (0.03)\n",
      "\n",
      "\n"
     ]
    }
   ],
   "source": [
    "model3 = gensim.models.ldamodel.LdaModel(corpus=corpus,\n",
    "                                         id2word=dictionary,\n",
    "                                         num_topics=best_topic_num,\n",
    "                                         random_state=100,\n",
    "                                         update_every=1,\n",
    "                                         chunksize=100,\n",
    "                                         passes=10,\n",
    "                                         alpha='auto',\n",
    "                                         eta = 'auto',\n",
    "                                         per_word_topics=True)\n",
    "\n",
    "print(f\"Top 5 words for {best_topic_num} topics:\")\n",
    "print_topic_words(model3, num=5)\n",
    "print()"
   ]
  },
  {
   "cell_type": "markdown",
   "metadata": {
    "id": "WRIg6fAIFwW0"
   },
   "source": [
    "**[3pts]1.6.2**  Explain how the different alpha and beta values theoretically influence the LDA model. Then describe what you find in the empirical result (e.g difference in topic words and topics)"
   ]
  },
  {
   "cell_type": "markdown",
   "metadata": {
    "id": "QU26drlOFxo1"
   },
   "source": [
    "Alpha value influences how many topics a document is likely to contain, Beta value inluences how many words a topic is likely to contain.\n",
    "\n",
    "The difference in alpha and beta value resulted in different topics and words generated.Take topic 0 for example.Although all 3 models has topic one related to following five words:  \n",
    "one  great  works  work  product  \n",
    "    \n",
    "There weight is not exactly the same.Some of the topics in a model include general comments on products(good,lovely,recommend) while other models have fewer general comments on products. Some models have more topic words related to the product itself."
   ]
  },
  {
   "cell_type": "markdown",
   "metadata": {
    "id": "lSsPpXqXG11h"
   },
   "source": [
    "## 1.7 LDA on a short text dataset"
   ]
  },
  {
   "cell_type": "markdown",
   "metadata": {
    "id": "pbrCxteDHM1b"
   },
   "source": [
    "**[10pts]1.7.1** In this part, we will read a dataset from twitter and build a LDA model. On Windows, download and unzip the dataset from [this link](http://cs.stanford.edu/people/alecmgo/trainingandtestdata.zip). Place the downloaded dataset in the same folder as this notebook. Use the first 10,000 lines in the \"training.1600000.processed.noemoticon.csv\" file. "
   ]
  },
  {
   "cell_type": "code",
   "execution_count": null,
   "metadata": {
    "id": "Eg8B4xaRFxA3"
   },
   "outputs": [],
   "source": [
    "!wget http://cs.stanford.edu/people/alecmgo/trainingandtestdata.zip # Linux and OSX only\n",
    "!unzip trainingandtestdata.zip # Linux and OSX only "
   ]
  },
  {
   "cell_type": "code",
   "execution_count": null,
   "metadata": {
    "id": "81FoZvt_HTq6"
   },
   "outputs": [],
   "source": [
    "!head -n 10000 training.1600000.processed.noemoticon.csv > twitter.csv # Linux and OSX only"
   ]
  },
  {
   "cell_type": "code",
   "execution_count": 21,
   "metadata": {},
   "outputs": [],
   "source": [
    "import pandas as pd\n",
    "# read the top n rows of csv file as a dataframe\n",
    "df = pd.read_csv(\"training.1600000.processed.noemoticon.csv\", nrows=10000)\n",
    "\n",
    "df.to_csv('twitter.csv', index=False,encoding='utf-8')"
   ]
  },
  {
   "cell_type": "code",
   "execution_count": 22,
   "metadata": {},
   "outputs": [],
   "source": [
    "punctuationRegex = r'\\W+|\\d+'\n",
    "stopWords = set(stopwords.words('english'))"
   ]
  },
  {
   "cell_type": "code",
   "execution_count": 23,
   "metadata": {},
   "outputs": [],
   "source": [
    "def read_twitter(fname):\n",
    "    \"\"\" Read the given dataset into list and clean stop words. \n",
    "    \n",
    "    Args: \n",
    "        fname (string): filename of Twitter Dataset\n",
    "        \n",
    "    Returns:\n",
    "        list of list of words: we view each document as a list, including a list of all words \n",
    "    \"\"\"\n",
    "    twitter = []\n",
    "    \n",
    "    with open(fname,encoding=\"utf-8\") as f:\n",
    "        for line in f:\n",
    "            tweet = line.split(\",\")[5]\n",
    "            sep = tweet.split(\" \")\n",
    "            content = []\n",
    "            for word in sep:\n",
    "                word = word.lower()\n",
    "        \n",
    "                if (word not in stopWords) and (len(word)) > 1:\n",
    "                    content.append(re.sub(punctuationRegex,'', word))\n",
    "                content = list(filter(None, content))\n",
    "            twitter.append(content)\n",
    "            \n",
    "    return twitter\n",
    "        "
   ]
  },
  {
   "cell_type": "code",
   "execution_count": 24,
   "metadata": {
    "id": "1657cE1hHY8_"
   },
   "outputs": [
    {
     "name": "stdout",
     "output_type": "stream",
     "text": [
      "Wall time: 201 ms\n"
     ]
    }
   ],
   "source": [
    "%%time\n",
    "twitter = read_twitter('twitter.csv')"
   ]
  },
  {
   "cell_type": "code",
   "execution_count": 25,
   "metadata": {
    "id": "YzcgFZx_HZgK"
   },
   "outputs": [],
   "source": [
    "twitter_dictionary = corpora.Dictionary(twitter)\n",
    "twitter_corpus = [twitter_dictionary.doc2bow(word) for word in twitter]"
   ]
  },
  {
   "cell_type": "code",
   "execution_count": 27,
   "metadata": {
    "id": "3WoNVLuJHcyu"
   },
   "outputs": [
    {
     "name": "stdout",
     "output_type": "stream",
     "text": [
      "Top 5 words for 10 topics:\n",
      "Topic 0: \n",
      "    go (0.12)\n",
      "    amp (0.10)\n",
      "    theres (0.09)\n",
      "    area (0.08)\n",
      "    still (0.03)\n",
      "\n",
      "Topic 1: \n",
      "    think (0.13)\n",
      "    problem (0.11)\n",
      "    online (0.11)\n",
      "    going (0.04)\n",
      "    need (0.02)\n",
      "\n",
      "Topic 2: \n",
      "    work (0.10)\n",
      "    lol (0.04)\n",
      "    tomorrow (0.04)\n",
      "    morning (0.03)\n",
      "    new (0.02)\n",
      "\n",
      "Topic 3: \n",
      "    get (0.07)\n",
      "    cant (0.06)\n",
      "    good (0.04)\n",
      "    well (0.03)\n",
      "    much (0.02)\n",
      "\n",
      "Topic 4: \n",
      "    back (0.06)\n",
      "    bed (0.05)\n",
      "    sick (0.05)\n",
      "    hope (0.04)\n",
      "    hate (0.03)\n",
      "\n",
      "Topic 5: \n",
      "    im (0.10)\n",
      "    got (0.05)\n",
      "    like (0.03)\n",
      "    sorry (0.03)\n",
      "    know (0.03)\n",
      "\n",
      "Topic 6: \n",
      "    yesterday (0.14)\n",
      "    day (0.06)\n",
      "    really (0.04)\n",
      "    im (0.03)\n",
      "    last (0.03)\n",
      "\n",
      "Topic 7: \n",
      "    sad (0.05)\n",
      "    wish (0.04)\n",
      "    i (0.03)\n",
      "    could (0.02)\n",
      "    something (0.02)\n",
      "\n",
      "Topic 8: \n",
      "    today (0.17)\n",
      "    connection (0.12)\n",
      "    feel (0.03)\n",
      "    bad (0.02)\n",
      "    getting (0.02)\n",
      "\n",
      "Topic 9: \n",
      "    anything (0.13)\n",
      "    slow (0.13)\n",
      "    night (0.04)\n",
      "    time (0.03)\n",
      "    im (0.02)\n",
      "\n",
      "\n",
      "Wall time: 30.3 s\n"
     ]
    }
   ],
   "source": [
    "%%time\n",
    "best_topic_num=10\n",
    "twitter_model = gensim.models.ldamodel.LdaModel(corpus=twitter_corpus,\n",
    "                                         id2word=twitter_dictionary,\n",
    "                                         num_topics=best_topic_num,\n",
    "                                         random_state=100,\n",
    "                                         update_every=1,\n",
    "                                         chunksize=100,\n",
    "                                         passes=10,\n",
    "                                         per_word_topics=True)\n",
    "\n",
    "print(f\"Top 5 words for {best_topic_num} topics:\")\n",
    "print_topic_words(twitter_model, num=5)\n",
    "print()"
   ]
  },
  {
   "cell_type": "markdown",
   "metadata": {
    "id": "lzced6IXOU1Z"
   },
   "source": [
    "## 1.8 LDA visualization\n",
    "\n",
    "**[10pts]1.8.1** We will now visualize the LDA output using pyLDAvis. PyLDAVis shows the following:\n",
    "\n",
    "   1. The distances between topics, as a map in 2-D space.\n",
    "   2. The variance in the topic-word distribution, as the size of a circle in this map.\n",
    "   3. The most \"salient\" terms in each topic."
   ]
  },
  {
   "cell_type": "code",
   "execution_count": 10,
   "metadata": {
    "id": "iaSJ2dyHOVlM"
   },
   "outputs": [],
   "source": [
    "sentences = read_dataset(\"reviews_Cell_Phones_and_Accessories_5.json.gz\")[:1000] # CHANGE TO YOUR DATASET"
   ]
  },
  {
   "cell_type": "code",
   "execution_count": 11,
   "metadata": {
    "id": "5Dn0msKKPJXF"
   },
   "outputs": [
    {
     "name": "stdout",
     "output_type": "stream",
     "text": [
      "CPU times: total: 500 ms\n",
      "Wall time: 725 ms\n"
     ]
    }
   ],
   "source": [
    "%%time\n",
    "import pyLDAvis.gensim"
   ]
  },
  {
   "cell_type": "code",
   "execution_count": 12,
   "metadata": {},
   "outputs": [],
   "source": [
    "from gensim import corpora, models, similarities, downloader"
   ]
  },
  {
   "cell_type": "code",
   "execution_count": 13,
   "metadata": {},
   "outputs": [],
   "source": [
    "dictionary_pt = corpora.Dictionary(sentences)\n",
    "\n",
    "# Create a bag of words representation of the dataset\n",
    "corpus_pt = [dictionary_pt.doc2bow(document) for document in sentences]\n",
    "\n",
    "# Train an LDA model on the corpus\n",
    "lda_model = gensim.models.ldamodel.LdaModel(corpus_pt, num_topics=5, id2word=dictionary_pt)"
   ]
  },
  {
   "cell_type": "code",
   "execution_count": 14,
   "metadata": {},
   "outputs": [
    {
     "name": "stderr",
     "output_type": "stream",
     "text": [
      "C:\\Users\\yujia\\anaconda3\\lib\\site-packages\\pyLDAvis\\_prepare.py:243: FutureWarning: In a future version of pandas all arguments of DataFrame.drop except for the argument 'labels' will be keyword-only.\n",
      "  default_term_info = default_term_info.sort_values(\n"
     ]
    }
   ],
   "source": [
    "import pyLDAvis.gensim_models\n",
    "vis = pyLDAvis.gensim_models.prepare(lda_model, corpus_pt,dictionary = dictionary_pt)"
   ]
  },
  {
   "cell_type": "code",
   "execution_count": 15,
   "metadata": {
    "id": "D_BnRDcsPNyX"
   },
   "outputs": [
    {
     "data": {
      "text/html": [
       "\n",
       "<link rel=\"stylesheet\" type=\"text/css\" href=\"https://cdn.jsdelivr.net/gh/bmabey/pyLDAvis@3.4.0/pyLDAvis/js/ldavis.v1.0.0.css\">\n",
       "\n",
       "\n",
       "<div id=\"ldavis_el2044022145262130249099780982\" style=\"background-color:white;\"></div>\n",
       "<script type=\"text/javascript\">\n",
       "\n",
       "var ldavis_el2044022145262130249099780982_data = {\"mdsDat\": {\"x\": [-0.011395751728862152, -0.0018612470681899852, -0.014274551815760077, 0.03432475615975128, -0.006793205546939036], \"y\": [-0.009594475345708323, -0.009557455625707301, -0.011036004875709032, -0.0019355583827030873, 0.03212349422982775], \"topics\": [1, 2, 3, 4, 5], \"cluster\": [1, 1, 1, 1, 1], \"Freq\": [29.859177656982283, 19.12083738252993, 18.750672008226786, 18.39488361627541, 13.87442933598559]}, \"tinfo\": {\"Term\": [\"charger\", \"phone\", \"great\", \"headset\", \"case\", \"works\", \"use\", \"product\", \"good\", \"keyboard\", \"charge\", \"better\", \"used\", \"would\", \"cord\", \"love\", \"without\", \"easy\", \"buy\", \"time\", \"like\", \"usb\", \"first\", \"i\", \"s\", \"phones\", \"them\", \"even\", \"came\", \"note\", \"win\", \"supper\", \"oriented\", \"br\", \"what\", \"incredible\", \"dbm\", \"skype\", \"amplifier\", \"tape\", \"itll\", \"min\", \"inverters\", \"station\", \"teamspeak\", \"pairs\", \"boththis\", \"workingfor\", \"pinkpurple\", \"rapid\", \"shieldingi\", \"vastly\", \"awayso\", \"reccommend\", \"mercedes\", \"accomodate\", \"was\", \"purchasers\", \"embedded\", \"spluger\", \"exact\", \"shop\", \"voip\", \"beeps\", \"lg\", \"hell\", \"input\", \"clearly\", \"cardo\", \"player\", \"counterfeit\", \"reverse\", \"trouble\", \"plugged\", \"hbs\", \"cell\", \"headset\", \"unit\", \"one\", \"quality\", \"side\", \"sound\", \"phone\", \"go\", \"range\", \"every\", \"like\", \"give\", \"well\", \"pretty\", \"bluetooth\", \"using\", \"find\", \"people\", \"best\", \"it\", \"battery\", \"far\", \"cable\", \"still\", \"use\", \"much\", \"usb\", \"ear\", \"time\", \"get\", \"ive\", \"great\", \"im\", \"good\", \"works\", \"price\", \"better\", \"work\", \"would\", \"case\", \"even\", \"also\", \"applied\", \"pcs\", \"bb\", \"shills\", \"legit\", \"verified\", \"greatest\", \"sgsii\", \"walkietalkie\", \"interrupting\", \"memoryno\", \"checker\", \"imap\", \"exchange\", \"itconsno\", \"emailno\", \"buddy\", \"weboverall\", \"login\", \"memorylimited\", \"bluetoothno\", \"keyboardota\", \"bookmarksuse\", \"outs\", \"aroundit\", \"specially\", \"spell\", \"n\", \"useqwerty\", \"pocketable\", \"needing\", \"usable\", \"dell\", \"priced\", \"pop\", \"first\", \"netbook\", \"easy\", \"cassette\", \"before\", \"reviews\", \"boy\", \"adapter\", \"leds\", \"anytime\", \"pair\", \"motorola\", \"brighter\", \"otherwise\", \"light\", \"keyboard\", \"iphone\", \"phone\", \"i\", \"fit\", \"product\", \"works\", \"one\", \"charge\", \"great\", \"use\", \"work\", \"good\", \"two\", \"get\", \"oem\", \"cord\", \"long\", \"really\", \"calls\", \"battery\", \"sound\", \"it\", \"sure\", \"would\", \"like\", \"well\", \"case\", \"time\", \"little\", \"bluetooth\", \"bought\", \"headset\", \"quality\", \"ear\", \"lacks\", \"amazoncom\", \"waterproof\", \"habra\", \"awsome\", \"gripability\", \"collected\", \"iohone\", \"haha\", \"counseling\", \"reps\", \"chances\", \"bills\", \"doestn\", \"imagined\", \"milliamps\", \"subarus\", \"chevy\", \"suburbani\", \"stickers\", \"betterive\", \"welps\", \"passengers\", \"emits\", \"omg\", \"exspensive\", \"household\", \"descrition\", \"tryit\", \"hides\", \"aa\", \"wiggle\", \"informed\", \"slip\", \"convenient\", \"atampt\", \"charger\", \"retractable\", \"across\", \"ability\", \"love\", \"plantronics\", \"headset\", \"affordable\", \"time\", \"didnt\", \"failed\", \"store\", \"speaking\", \"glow\", \"hl\", \"bt\", \"cant\", \"handset\", \"good\", \"ive\", \"also\", \"port\", \"headsets\", \"phones\", \"tmobile\", \"case\", \"get\", \"would\", \"even\", \"charge\", \"devices\", \"got\", \"like\", \"life\", \"phone\", \"could\", \"one\", \"price\", \"battery\", \"set\", \"it\", \"product\", \"ear\", \"bluetooth\", \"bought\", \"really\", \"back\", \"little\", \"great\", \"work\", \"sound\", \"use\", \"well\", \"usa\", \"era\", \"retracts\", \"transmit\", \"asia\", \"underpowered\", \"recomend\", \"jealous\", \"carried\", \"neckband\", \"obsessed\", \"liion\", \"pry\", \"importantly\", \"jawbone\", \"tweezers\", \"yellowed\", \"kit\", \"independently\", \"tolittle\", \"abetter\", \"isfar\", \"groves\", \"differentso\", \"oldfashioned\", \"thereconsthe\", \"scuff\", \"monthsit\", \"sizedesign\", \"absoultely\", \"aftermarket\", \"clutch\", \"eyeglasses\", \"prying\", \"hardware\", \"magic\", \"whats\", \"accessory\", \"ask\", \"lifters\", \"antiglare\", \"tool\", \"screwdriver\", \"arrived\", \"data\", \"fast\", \"great\", \"charger\", \"used\", \"works\", \"galaxy\", \"cover\", \"gets\", \"charges\", \"usb\", \"even\", \"tools\", \"would\", \"phone\", \"device\", \"driver\", \"i\", \"ear\", \"need\", \"cord\", \"bought\", \"it\", \"well\", \"use\", \"im\", \"phones\", \"good\", \"price\", \"got\", \"also\", \"one\", \"much\", \"get\", \"work\", \"case\", \"like\", \"screen\", \"better\", \"battery\", \"bluetooth\", \"headset\", \"entertainment\", \"este\", \"breaks\", \"antennaes\", \"mom\", \"wristlet\", \"awhile\", \"peels\", \"afordable\", \"surely\", \"celular\", \"apartcons\", \"meses\", \"electromaster\", \"hopes\", \"dollor\", \"describe\", \"mile\", \"compre\", \"tis\", \"el\", \"nuevo\", \"varios\", \"expedition\", \"butthe\", \"dios\", \"anybody\", \"breaki\", \"outter\", \"stained\", \"crushed\", \"whine\", \"mad\", \"rubberized\", \"purse\", \"booster\", \"protector\", \"thank\", \"tab\", \"them\", \"wife\", \"received\", \"expected\", \"dashboard\", \"griffin\", \"cracked\", \"protected\", \"phone\", \"case\", \"better\", \"cute\", \"match\", \"note\", \"use\", \"product\", \"buy\", \"put\", \"came\", \"keyboard\", \"like\", \"nothing\", \"without\", \"ok\", \"cases\", \"quality\", \"palm\", \"good\", \"charge\", \"v\", \"battery\", \"plastic\", \"would\", \"much\", \"well\", \"get\", \"great\", \"one\", \"work\", \"it\", \"little\", \"using\", \"bought\", \"really\", \"fit\", \"headset\", \"sound\", \"bluetooth\", \"works\", \"even\", \"used\"], \"Freq\": [139.0, 887.0, 317.0, 333.0, 212.0, 217.0, 313.0, 137.0, 289.0, 121.0, 109.0, 133.0, 139.0, 217.0, 78.0, 69.0, 78.0, 92.0, 100.0, 172.0, 318.0, 120.0, 97.0, 55.0, 62.0, 129.0, 43.0, 169.0, 55.0, 48.0, 3.08853209475385, 2.229050202373378, 2.1133275151693858, 2.105450454215772, 2.0720359550468856, 2.0775920510516412, 2.0720892245383142, 8.976581998149763, 2.682547910948671, 24.00328566700154, 2.5698633457310356, 2.5481454621243174, 3.150510487665499, 3.691999710718859, 1.8454043156525688, 1.2184199801967304, 1.2181136806210158, 1.2180802220974738, 1.2182846052495047, 1.2181457083524325, 1.2181139007428812, 1.2181331614061042, 1.217907316372196, 1.2180508358284419, 1.2178877255261746, 1.217799896901877, 1.2179620166557499, 1.2177597246614402, 1.2179048950316764, 1.2179703812866354, 5.422512409270282, 3.612855774498988, 5.429389896833079, 4.71186613630708, 26.83155403272823, 2.354310109639889, 5.058693669393271, 9.171552739215965, 5.978399803539959, 14.423482589376025, 3.8935041089940903, 3.9134872121795308, 6.835013728136033, 18.097412496163567, 12.693748241740682, 43.82519272991628, 141.15511496264074, 39.97943833645389, 170.5488716599401, 80.24622551698589, 29.262518280168365, 74.99939368922867, 288.2166806958943, 37.47667738041746, 17.79970031466206, 31.185259881830472, 111.60034880615775, 21.19525970801774, 83.59817084441715, 30.827630528564995, 66.35362667918788, 47.408241362376685, 35.00594855823516, 33.16199297463977, 33.37566262792863, 82.32728933009874, 75.48392241741422, 33.18720661359103, 33.91945520618161, 40.88972501573605, 91.37669292425014, 48.65109872176632, 42.07869302052403, 52.88939203537292, 52.845307789143995, 64.76908735543783, 46.176041423222635, 70.22901828060877, 45.502331159031115, 63.908717271330445, 53.87838020592548, 43.452524650806154, 41.66588527901308, 46.021625054151684, 48.356857421838555, 46.30736788909979, 43.01438704599901, 42.054606405523664, 1.6639153842274408, 2.1885979354158627, 3.7733192726074103, 1.6178826039502283, 1.5928801745436088, 1.5532861111608427, 1.5536648675051525, 1.5543191983389022, 2.033096255062881, 1.5259983164359157, 0.9922055263524778, 0.9921571774778599, 0.9920965651860649, 0.9919627247882525, 0.9919375636392167, 0.9918814620296018, 0.9918945007202786, 0.991891681543916, 0.9918324083608933, 0.9918302939786213, 0.9918522130748403, 0.99181006638822, 0.9916913790633562, 0.9917705274397352, 0.9918964741437324, 0.9918319150050299, 0.9916814414666782, 0.9917631271017834, 0.9916102572635237, 0.991570929753266, 2.90910978002957, 1.9580810731492075, 3.665613203511149, 3.201667551712952, 4.073976256062785, 37.19635501408087, 1.884330996628232, 34.43143313678488, 8.283572937893338, 3.390503878170912, 19.48768516062533, 1.8766749593804328, 21.665961245624956, 3.0000330103218866, 1.766258534129208, 9.61556103445191, 32.3994790710253, 2.1737339690030932, 9.915080480244992, 20.90329961329701, 36.184893174063355, 16.43298691104526, 184.95705859080064, 18.377598382410618, 32.21584919947371, 38.44027711559058, 54.022067852147565, 91.59039401686873, 30.653527064235593, 70.2165896560484, 69.55677608810875, 43.295422051048604, 61.82972491540729, 30.520782198357637, 52.493884814989485, 10.854926219289176, 21.912934627031593, 23.385809934638463, 32.31346036185092, 15.982246845164557, 45.06434470684043, 36.935962353188465, 44.4976316190979, 18.5944020660557, 39.37722248599297, 49.736053730080606, 39.0724537338128, 36.63863397126436, 31.846828034979207, 27.481831867938816, 31.02285721045943, 29.1406871125131, 35.6446510246947, 29.812336710493312, 28.962355037182032, 1.7512652068844399, 3.2179312395436828, 2.1104166359891035, 1.5376021918140734, 1.027308605126437, 1.027259671720989, 1.0270081623107834, 1.0272304360846831, 1.026928058049605, 1.0269648272186704, 1.0267543721062562, 1.0270271689301311, 1.02692743601479, 1.0269302006139678, 1.0265813081977224, 1.0265879432357492, 1.0267840224324387, 1.0265009965916057, 1.0264703095407315, 1.0267603159944885, 1.0266062587053024, 1.0262555692995914, 1.0264108015434281, 1.0265148887024744, 1.0262073270439378, 1.0263093407536006, 1.0263567536295009, 1.026443147353809, 1.02646173928328, 1.0262003464310137, 3.1817080788158156, 2.0089154830137663, 2.012713074674429, 3.4740318196038618, 5.685209110678513, 2.851657788266984, 54.89002410674945, 2.7386113926649993, 1.9119148210400618, 3.052117215893866, 26.866852533149228, 13.595953734721794, 98.64013784823288, 1.822297021170824, 54.29003531141559, 3.444689469769762, 3.3896695227717295, 10.129075591950555, 3.036186766051302, 1.4653875437694432, 3.273929578190759, 13.196914806908973, 26.388326955614342, 7.145157443795482, 69.66238335370888, 38.473214918420595, 41.671657116059976, 13.827058744235218, 17.74473353478744, 33.28385215204607, 13.191331422409375, 48.10732109692638, 53.13274755541268, 48.09612999945441, 38.68078544805276, 27.959307120912392, 19.5259150222953, 29.765468420751695, 61.52300969517586, 20.787383933716573, 128.9580859803668, 25.124035941352318, 69.07605831335167, 31.965445767637014, 43.33631738325921, 19.583133378559566, 44.13433110018392, 29.916508426395048, 34.07257681573319, 33.6161702433005, 30.5594436111974, 28.45997824370158, 25.888589161507596, 27.43063392597053, 42.96617072853433, 31.33478761486369, 31.68866073298803, 38.51260050414801, 28.41241386776639, 4.283691179290657, 3.8925390466272507, 3.167579763727661, 2.4692775795180277, 1.8135298483881146, 1.8136773888985263, 1.813455400097475, 1.8125960579885794, 1.8121560129919934, 1.8103255885346994, 1.810021557446149, 1.6116742246891038, 5.745914189715487, 1.570888901663455, 8.36741723327904, 3.0746284285258265, 2.1017928161024404, 11.811374003565165, 1.5148355767377666, 0.9897237799926746, 0.9894169689588452, 0.9894250375805084, 0.9894024590005603, 0.9893617768745276, 0.9892909899752309, 0.9893263156213359, 0.9891749103089512, 0.9894118836930912, 0.9892468498684855, 0.9892989229898073, 2.461146036166629, 1.918453390853, 2.893076033465912, 2.8244843416898853, 2.809089682770798, 1.9241460407487434, 3.6612107142955663, 1.9166864305123168, 4.795496734056546, 1.878100247612904, 1.4352389630486582, 14.08457838117137, 5.37833436573207, 7.339198194938636, 15.407423342951775, 12.450032394012558, 99.88631416522792, 45.56343438875245, 45.65503968801095, 65.11754235908398, 19.873858632380927, 14.803439142164498, 12.406058812769732, 14.682845387180198, 35.25039610524874, 43.31599752734695, 14.005128901171412, 51.559979765959575, 145.3993070571267, 30.564338087218356, 9.073354096474127, 18.014836267771017, 40.91915420201582, 32.40846645427355, 22.801531017039146, 36.658253692156975, 51.65994280119021, 47.20891898595891, 58.522676817890016, 34.58880275942921, 31.56247784642694, 53.009361327695125, 34.01449481351185, 29.88359919045952, 35.03108364566205, 65.00980307106929, 32.818557472676005, 43.919846121047456, 35.22662472536537, 38.459879543646686, 43.402334762498405, 23.043577733509558, 27.99963705530658, 33.48531039693318, 27.913688198851652, 31.761392830449225, 1.639609865369344, 1.6387426137760295, 1.5712423326410354, 1.5425178838606957, 1.4906729310512976, 1.3770790306476623, 1.8283905615013913, 0.894573956372408, 0.894540407779106, 0.8945389758269529, 0.8945430671188189, 0.8944499902288654, 0.8944995971427417, 0.8943254103915429, 0.8943472988030265, 0.8941345516259898, 0.8942640410135516, 0.894163906645129, 0.8942835769322122, 0.8942729395733603, 0.8942193436499145, 0.8941855904920193, 0.89415654231977, 0.8941210503628317, 0.8942770308652264, 0.8941551103676169, 0.8940922067551758, 0.8939825601331646, 0.8938532753101961, 0.8940825922192904, 1.3463519967811681, 1.333886955570453, 1.3010744879575153, 2.4631698368698625, 3.9202476361742393, 3.5551849359964587, 7.8094480948934635, 3.9000575199442684, 1.5875780428039623, 13.64704243335513, 7.1310619897348575, 10.930603014596263, 9.214247980426713, 2.1969241091337706, 1.5815019629713343, 1.2553079674735683, 2.528721333406741, 139.6329111202021, 43.40046993795912, 29.795778921485013, 3.506608618541177, 2.4702682282575297, 13.216887279587848, 55.77765556540027, 28.865360236533117, 22.30182670755327, 16.558687206145667, 13.931367579847478, 25.355678239542133, 51.7616140123442, 11.195015843576346, 17.872178458069875, 8.604601306427044, 11.630323570319785, 31.127127844146337, 11.186017456246066, 40.69857424352583, 20.77506622975023, 13.586821071861396, 31.960124687182883, 11.854041955624611, 29.828807102461592, 22.95551204719954, 29.77968214276707, 30.060783351268935, 33.95961102887826, 39.245553573800464, 23.084071893249334, 26.759258101840913, 19.45392917158667, 18.660244733833014, 20.78503098021928, 19.43095902253369, 17.196647256375428, 26.14305063220478, 20.349221661093058, 20.10505663555826, 21.14785165245444, 19.1827239798505, 18.339485815014758], \"Total\": [139.0, 887.0, 317.0, 333.0, 212.0, 217.0, 313.0, 137.0, 289.0, 121.0, 109.0, 133.0, 139.0, 217.0, 78.0, 69.0, 78.0, 92.0, 100.0, 172.0, 318.0, 120.0, 97.0, 55.0, 62.0, 129.0, 43.0, 169.0, 55.0, 48.0, 3.8703785616777058, 2.884603048004232, 2.8652774176360167, 2.8627951115061183, 2.8492932890268254, 2.8571032587111462, 2.855959184959588, 12.407588204538623, 3.801515872190136, 34.936528272298304, 3.7669633991208493, 3.778147960179874, 4.729547873413785, 5.613520427247166, 2.8134984950174404, 1.8704267405499972, 1.8700817947507185, 1.8700528196619275, 1.870421618790579, 1.8702522707996017, 1.8702158983682802, 1.870276120857878, 1.8700077575377867, 1.8702591796448425, 1.8700155153162974, 1.8699398017567446, 1.8701977586191498, 1.869894232753045, 1.8701804714945227, 1.8702926728445186, 8.442978592509187, 5.603012903152189, 8.460284375723084, 7.48348956020183, 46.75867134404087, 3.7121287137417305, 8.284722732949398, 15.672271718803342, 10.018174652303978, 25.68474798528135, 6.404228560497164, 6.443466308551488, 11.929181368834081, 34.577054163120934, 23.621817059486972, 92.07795597971075, 333.3443472982223, 84.25045777870682, 435.4706806350302, 187.6187452743094, 61.4075820376333, 184.70339832446086, 887.1640434443907, 83.43039543909198, 35.49345296560903, 68.65215426204229, 318.0233610062568, 44.309193376672965, 228.07163957472233, 70.0656534060442, 179.01139896735774, 120.8131843194816, 84.8091417789206, 80.5427327654118, 81.20152673831441, 249.37845295241166, 229.33001959162993, 81.75253649016118, 84.41580814300403, 108.60598633369014, 313.74640189979715, 144.27563397543662, 120.6057018912771, 171.32362374028415, 172.79163241907955, 244.3763491981564, 141.09773605827462, 317.2577038592977, 147.2550483994023, 289.10876111166755, 217.47797740323125, 146.16769466003345, 133.93650994101154, 178.96253133867867, 217.2189967757071, 212.91367243889633, 169.12206630247886, 157.15175236876675, 2.5413374980794114, 3.359366348331056, 5.841581591172178, 2.51352764338511, 2.5076881940999725, 2.515138044156619, 2.5430745166671205, 2.5683902517287427, 3.389322350312196, 2.574945187140881, 1.6818938998390305, 1.6818732975366373, 1.6817903322624084, 1.6817102148848417, 1.6817106863854643, 1.6816551196083842, 1.6816774943287294, 1.6816802751695352, 1.681592842031778, 1.6815906972139245, 1.681652845019967, 1.6816392010791688, 1.681486821403585, 1.6816281265003743, 1.6818434988056892, 1.6817928089573266, 1.6815419114172712, 1.6817074858634673, 1.68149354350577, 1.6814665249042202, 5.038779210324955, 3.394101425113408, 6.875275067314212, 5.9420363199543065, 7.732649326795096, 97.98342081756698, 3.4544523432183656, 92.3909125931533, 18.4151997845918, 6.7162232325829985, 49.244804243794476, 3.4646877378751926, 59.319317017131205, 6.040900766419192, 3.3091738865804645, 24.34757373263188, 104.0378924258793, 4.247638473050002, 25.938009565147308, 63.092088347937015, 121.81519349954262, 47.5246297132491, 887.1640434443907, 55.097509656512074, 109.56166277607545, 137.8540391956685, 217.47797740323125, 435.4706806350302, 109.79184319758392, 317.2577038592977, 313.74640189979715, 178.96253133867867, 289.10876111166755, 116.20310561002663, 244.3763491981564, 30.130783058186573, 78.14098337253814, 87.35323406347082, 137.98741315376282, 52.215375081470086, 229.33001959162993, 184.70339832446086, 249.37845295241166, 66.79914709034861, 217.2189967757071, 318.0233610062568, 228.07163957472233, 212.91367243889633, 172.79163241907955, 130.95743929939687, 179.01139896735774, 153.41428985144984, 333.3443472982223, 187.6187452743094, 171.32362374028415, 2.55025720077509, 5.131357321272802, 3.417618856159805, 2.555271656229141, 1.7113950098090904, 1.7113875802583336, 1.7110059271466878, 1.7114021595613784, 1.711098795935321, 1.7112011018336721, 1.7108626746104711, 1.7113184759491777, 1.7111985825067215, 1.7112365139680965, 1.7107144244394081, 1.7107393962114785, 1.711186541451824, 1.7109207620022335, 1.7109084567368251, 1.7113993171024298, 1.711156487786979, 1.710635351204966, 1.7109160816047688, 1.7110927141027645, 1.710693746374083, 1.7108763087875758, 1.7109632910846722, 1.7111303515409115, 1.7113347156482237, 1.7110419426418737, 5.308201700566764, 3.3924060869813575, 3.41287982074102, 6.069177758968544, 10.143592602997238, 5.118803404230394, 139.1034977471504, 5.072552790971321, 3.431335638098915, 5.837735802128675, 69.56375584333084, 33.16082408936495, 333.3443472982223, 3.311093799891614, 172.79163241907955, 7.019097983942781, 6.950429364558909, 25.697877769248066, 6.152590350688802, 2.600797105982672, 6.900775124329315, 37.28263279750714, 86.94184888420038, 17.869140291257928, 289.10876111166755, 141.09773605827462, 157.15175236876675, 40.84684142598903, 57.7157609635716, 129.92878971943236, 40.339407952997824, 212.91367243889633, 244.3763491981564, 217.2189967757071, 169.12206630247886, 109.79184319758392, 68.4185608289809, 120.46344931583054, 318.0233610062568, 74.78142891240533, 887.1640434443907, 99.5303409157004, 435.4706806350302, 146.16769466003345, 229.33001959162993, 72.01231218356511, 249.37845295241166, 137.8540391956685, 171.32362374028415, 179.01139896735774, 153.41428985144984, 137.98741315376282, 117.09412840003465, 130.95743929939687, 317.2577038592977, 178.96253133867867, 184.70339832446086, 313.74640189979715, 228.07163957472233, 4.976881893448936, 5.044293891836452, 4.16385471031246, 3.367409481055147, 2.504451534869373, 2.5047807821899237, 2.504879513525137, 2.5042639344730797, 2.503703284097783, 2.5031362086320246, 2.503983674340687, 2.5049356314452456, 9.122587693302295, 2.5124433333666443, 13.590912938712036, 5.005989805802375, 3.453335083649015, 19.416129031110106, 2.5454828192207284, 1.679926781016546, 1.67972003665284, 1.6797456088651463, 1.6797384818292198, 1.6796977275712288, 1.6796049962648765, 1.6796753265572404, 1.679450265420727, 1.6799092376040718, 1.6796323497731678, 1.6798140097983516, 4.192827685816567, 3.310965047601777, 5.091938276338229, 5.013466549558386, 4.987316808093892, 3.4027282069080527, 6.7887888865745865, 3.4024631780963466, 9.203842953541724, 3.346478318641932, 2.5092784150475094, 30.507340916925084, 10.725534509720065, 15.214012167864066, 35.18127880726926, 27.990065886305906, 317.2577038592977, 139.1034977471504, 139.53416938362554, 217.47797740323125, 52.326574042211185, 37.214430233495555, 30.068963387720824, 38.98733151603423, 120.6057018912771, 169.12206630247886, 38.17152224977827, 217.2189967757071, 887.1640434443907, 110.89368815403252, 21.554061946751528, 55.097509656512074, 171.32362374028415, 126.28856495023396, 78.14098337253814, 153.41428985144984, 249.37845295241166, 228.07163957472233, 313.74640189979715, 147.2550483994023, 129.92878971943236, 289.10876111166755, 146.16769466003345, 120.46344931583054, 157.15175236876675, 435.4706806350302, 144.27563397543662, 244.3763491981564, 178.96253133867867, 212.91367243889633, 318.0233610062568, 82.98980644529311, 133.93650994101154, 229.33001959162993, 179.01139896735774, 333.3443472982223, 2.3464608465270715, 2.345918149773186, 2.355760855656148, 2.3584358147061306, 2.361789746527489, 2.381517091904227, 3.233839562159668, 1.6006488384878579, 1.6006093044114893, 1.600613143676077, 1.6007633727190915, 1.6006048952763223, 1.6007057277771708, 1.600467082745417, 1.6005179946036745, 1.6002503233225225, 1.6005147233399308, 1.6003949369232315, 1.600609907311116, 1.6006216642554123, 1.6005472778115555, 1.6005111221771469, 1.600496204038301, 1.6004608324481606, 1.6007804938420733, 1.6005711498688515, 1.6004696672581544, 1.600312253098119, 1.6001025029526301, 1.60051673016585, 2.4198729636519647, 2.4089834804463033, 2.385070974260561, 4.81637939139949, 8.06712341756151, 7.460194863922858, 18.572830938216214, 8.984839759277147, 3.1767866101371367, 43.14915594950345, 19.769006453009336, 33.44935931999228, 28.04570158701781, 4.869462050677663, 3.241699909856549, 2.4352582413109376, 5.856097378495024, 887.1640434443907, 212.91367243889633, 133.93650994101154, 8.941657318655924, 5.777349997013649, 48.68946785645086, 313.74640189979715, 137.8540391956685, 100.22318928371486, 68.38793480780865, 55.001265147267105, 121.81519349954262, 318.0233610062568, 41.661233476021835, 78.82080028733267, 29.636319425554426, 45.24791725966473, 187.6187452743094, 43.37108834277238, 289.10876111166755, 109.79184319758392, 61.133613601438114, 229.33001959162993, 49.99650181233369, 217.2189967757071, 144.27563397543662, 228.07163957472233, 244.3763491981564, 317.2577038592977, 435.4706806350302, 178.96253133867867, 249.37845295241166, 130.95743929939687, 120.8131843194816, 153.41428985144984, 137.98741315376282, 109.56166277607545, 333.3443472982223, 184.70339832446086, 179.01139896735774, 217.47797740323125, 169.12206630247886, 139.53416938362554], \"Category\": [\"Default\", \"Default\", \"Default\", \"Default\", \"Default\", \"Default\", \"Default\", \"Default\", \"Default\", \"Default\", \"Default\", \"Default\", \"Default\", \"Default\", \"Default\", \"Default\", \"Default\", \"Default\", \"Default\", \"Default\", \"Default\", \"Default\", \"Default\", \"Default\", \"Default\", \"Default\", \"Default\", \"Default\", \"Default\", \"Default\", \"Topic1\", \"Topic1\", \"Topic1\", \"Topic1\", \"Topic1\", \"Topic1\", \"Topic1\", \"Topic1\", \"Topic1\", \"Topic1\", \"Topic1\", \"Topic1\", \"Topic1\", \"Topic1\", \"Topic1\", \"Topic1\", \"Topic1\", \"Topic1\", \"Topic1\", \"Topic1\", \"Topic1\", \"Topic1\", \"Topic1\", \"Topic1\", \"Topic1\", \"Topic1\", \"Topic1\", \"Topic1\", \"Topic1\", \"Topic1\", \"Topic1\", \"Topic1\", \"Topic1\", \"Topic1\", \"Topic1\", \"Topic1\", \"Topic1\", \"Topic1\", \"Topic1\", \"Topic1\", \"Topic1\", \"Topic1\", \"Topic1\", \"Topic1\", \"Topic1\", \"Topic1\", \"Topic1\", \"Topic1\", \"Topic1\", \"Topic1\", \"Topic1\", \"Topic1\", \"Topic1\", \"Topic1\", \"Topic1\", \"Topic1\", \"Topic1\", \"Topic1\", \"Topic1\", \"Topic1\", \"Topic1\", \"Topic1\", \"Topic1\", \"Topic1\", \"Topic1\", \"Topic1\", \"Topic1\", \"Topic1\", \"Topic1\", \"Topic1\", \"Topic1\", \"Topic1\", \"Topic1\", \"Topic1\", \"Topic1\", \"Topic1\", \"Topic1\", \"Topic1\", \"Topic1\", \"Topic1\", \"Topic1\", \"Topic1\", \"Topic1\", \"Topic1\", \"Topic1\", \"Topic1\", \"Topic1\", \"Topic1\", \"Topic2\", \"Topic2\", \"Topic2\", \"Topic2\", \"Topic2\", \"Topic2\", \"Topic2\", \"Topic2\", \"Topic2\", \"Topic2\", \"Topic2\", \"Topic2\", \"Topic2\", \"Topic2\", \"Topic2\", \"Topic2\", \"Topic2\", \"Topic2\", \"Topic2\", \"Topic2\", \"Topic2\", \"Topic2\", \"Topic2\", \"Topic2\", \"Topic2\", \"Topic2\", \"Topic2\", \"Topic2\", \"Topic2\", \"Topic2\", \"Topic2\", \"Topic2\", \"Topic2\", \"Topic2\", \"Topic2\", \"Topic2\", \"Topic2\", \"Topic2\", \"Topic2\", \"Topic2\", \"Topic2\", \"Topic2\", \"Topic2\", \"Topic2\", \"Topic2\", \"Topic2\", \"Topic2\", \"Topic2\", \"Topic2\", \"Topic2\", \"Topic2\", \"Topic2\", \"Topic2\", \"Topic2\", \"Topic2\", \"Topic2\", \"Topic2\", \"Topic2\", \"Topic2\", \"Topic2\", \"Topic2\", \"Topic2\", \"Topic2\", \"Topic2\", \"Topic2\", \"Topic2\", \"Topic2\", \"Topic2\", \"Topic2\", \"Topic2\", \"Topic2\", \"Topic2\", \"Topic2\", \"Topic2\", \"Topic2\", \"Topic2\", \"Topic2\", \"Topic2\", \"Topic2\", \"Topic2\", \"Topic2\", \"Topic2\", \"Topic2\", \"Topic2\", \"Topic2\", \"Topic3\", \"Topic3\", \"Topic3\", \"Topic3\", \"Topic3\", \"Topic3\", \"Topic3\", \"Topic3\", \"Topic3\", \"Topic3\", \"Topic3\", \"Topic3\", \"Topic3\", \"Topic3\", \"Topic3\", \"Topic3\", \"Topic3\", \"Topic3\", \"Topic3\", \"Topic3\", \"Topic3\", \"Topic3\", \"Topic3\", \"Topic3\", \"Topic3\", \"Topic3\", \"Topic3\", \"Topic3\", \"Topic3\", \"Topic3\", \"Topic3\", \"Topic3\", \"Topic3\", \"Topic3\", \"Topic3\", \"Topic3\", \"Topic3\", \"Topic3\", \"Topic3\", \"Topic3\", \"Topic3\", \"Topic3\", \"Topic3\", \"Topic3\", \"Topic3\", \"Topic3\", \"Topic3\", \"Topic3\", \"Topic3\", \"Topic3\", \"Topic3\", \"Topic3\", \"Topic3\", \"Topic3\", \"Topic3\", \"Topic3\", \"Topic3\", \"Topic3\", \"Topic3\", \"Topic3\", \"Topic3\", \"Topic3\", \"Topic3\", \"Topic3\", \"Topic3\", \"Topic3\", \"Topic3\", \"Topic3\", \"Topic3\", \"Topic3\", \"Topic3\", \"Topic3\", \"Topic3\", \"Topic3\", \"Topic3\", \"Topic3\", \"Topic3\", \"Topic3\", \"Topic3\", \"Topic3\", \"Topic3\", \"Topic3\", \"Topic3\", \"Topic3\", \"Topic3\", \"Topic3\", \"Topic3\", \"Topic3\", \"Topic3\", \"Topic4\", \"Topic4\", \"Topic4\", \"Topic4\", \"Topic4\", \"Topic4\", \"Topic4\", \"Topic4\", \"Topic4\", \"Topic4\", \"Topic4\", \"Topic4\", \"Topic4\", \"Topic4\", \"Topic4\", \"Topic4\", \"Topic4\", \"Topic4\", \"Topic4\", \"Topic4\", \"Topic4\", \"Topic4\", \"Topic4\", \"Topic4\", \"Topic4\", \"Topic4\", \"Topic4\", \"Topic4\", \"Topic4\", \"Topic4\", \"Topic4\", \"Topic4\", \"Topic4\", \"Topic4\", \"Topic4\", \"Topic4\", \"Topic4\", \"Topic4\", \"Topic4\", \"Topic4\", \"Topic4\", \"Topic4\", \"Topic4\", \"Topic4\", \"Topic4\", \"Topic4\", \"Topic4\", \"Topic4\", \"Topic4\", \"Topic4\", \"Topic4\", \"Topic4\", \"Topic4\", \"Topic4\", \"Topic4\", \"Topic4\", \"Topic4\", \"Topic4\", \"Topic4\", \"Topic4\", \"Topic4\", \"Topic4\", \"Topic4\", \"Topic4\", \"Topic4\", \"Topic4\", \"Topic4\", \"Topic4\", \"Topic4\", \"Topic4\", \"Topic4\", \"Topic4\", \"Topic4\", \"Topic4\", \"Topic4\", \"Topic4\", \"Topic4\", \"Topic4\", \"Topic4\", \"Topic4\", \"Topic4\", \"Topic4\", \"Topic4\", \"Topic4\", \"Topic4\", \"Topic4\", \"Topic5\", \"Topic5\", \"Topic5\", \"Topic5\", \"Topic5\", \"Topic5\", \"Topic5\", \"Topic5\", \"Topic5\", \"Topic5\", \"Topic5\", \"Topic5\", \"Topic5\", \"Topic5\", \"Topic5\", \"Topic5\", \"Topic5\", \"Topic5\", \"Topic5\", \"Topic5\", \"Topic5\", \"Topic5\", \"Topic5\", \"Topic5\", \"Topic5\", \"Topic5\", \"Topic5\", \"Topic5\", \"Topic5\", \"Topic5\", \"Topic5\", \"Topic5\", \"Topic5\", \"Topic5\", \"Topic5\", \"Topic5\", \"Topic5\", \"Topic5\", \"Topic5\", \"Topic5\", \"Topic5\", \"Topic5\", \"Topic5\", \"Topic5\", \"Topic5\", \"Topic5\", \"Topic5\", \"Topic5\", \"Topic5\", \"Topic5\", \"Topic5\", \"Topic5\", \"Topic5\", \"Topic5\", \"Topic5\", \"Topic5\", \"Topic5\", \"Topic5\", \"Topic5\", \"Topic5\", \"Topic5\", \"Topic5\", \"Topic5\", \"Topic5\", \"Topic5\", \"Topic5\", \"Topic5\", \"Topic5\", \"Topic5\", \"Topic5\", \"Topic5\", \"Topic5\", \"Topic5\", \"Topic5\", \"Topic5\", \"Topic5\", \"Topic5\", \"Topic5\", \"Topic5\", \"Topic5\", \"Topic5\", \"Topic5\", \"Topic5\", \"Topic5\", \"Topic5\", \"Topic5\", \"Topic5\", \"Topic5\", \"Topic5\", \"Topic5\"], \"logprob\": [30.0, 29.0, 28.0, 27.0, 26.0, 25.0, 24.0, 23.0, 22.0, 21.0, 20.0, 19.0, 18.0, 17.0, 16.0, 15.0, 14.0, 13.0, 12.0, 11.0, 10.0, 9.0, 8.0, 7.0, 6.0, 5.0, 4.0, 3.0, 2.0, 1.0, -8.4965, -8.8226, -8.876, -8.8797, -8.8957, -8.893, -8.8957, -7.4296, -8.6374, -6.446, -8.6804, -8.6888, -8.4766, -8.318, -9.0115, -9.4267, -9.4269, -9.4269, -9.4268, -9.4269, -9.4269, -9.4269, -9.4271, -9.427, -9.4271, -9.4272, -9.427, -9.4272, -9.4271, -9.427, -7.9337, -8.3397, -7.9324, -8.0741, -6.3346, -8.768, -8.0031, -7.4081, -7.8361, -6.9554, -8.2649, -8.2598, -7.7022, -6.7284, -7.0831, -5.844, -4.6744, -5.9358, -4.4852, -5.2391, -6.2479, -5.3067, -3.9605, -6.0005, -6.745, -6.1843, -4.9093, -6.5704, -5.1982, -6.1958, -5.4292, -5.7654, -6.0687, -6.1228, -6.1164, -5.2135, -5.3003, -6.122, -6.1002, -5.9133, -5.1092, -5.7395, -5.8847, -5.656, -5.6568, -5.4534, -5.7918, -5.3725, -5.8065, -5.4668, -5.6375, -5.8525, -5.8945, -5.7951, -5.7456, -5.7889, -5.8627, -5.8852, -8.6693, -8.3952, -7.8505, -8.6974, -8.713, -8.7381, -8.7379, -8.7375, -8.4689, -8.7559, -9.1863, -9.1864, -9.1864, -9.1866, -9.1866, -9.1867, -9.1866, -9.1866, -9.1867, -9.1867, -9.1867, -9.1867, -9.1868, -9.1868, -9.1866, -9.1867, -9.1869, -9.1868, -9.1869, -9.187, -8.1107, -8.5065, -7.8795, -8.0148, -7.7739, -5.5623, -8.5449, -5.6395, -7.0642, -7.9575, -6.2087, -8.549, -6.1028, -8.0799, -8.6096, -6.9151, -5.7004, -8.4021, -6.8844, -6.1386, -5.5899, -6.3792, -3.9584, -6.2674, -5.706, -5.5294, -5.1891, -4.6612, -5.7558, -4.9269, -4.9364, -5.4105, -5.0541, -5.7601, -5.2178, -6.7939, -6.0914, -6.0264, -5.703, -6.407, -5.3704, -5.5693, -5.3831, -6.2556, -5.5053, -5.2718, -5.5131, -5.5774, -5.7176, -5.865, -5.7438, -5.8064, -5.6049, -5.7836, -5.8125, -8.5986, -7.9902, -8.4121, -8.7287, -9.132, -9.1321, -9.1323, -9.1321, -9.1324, -9.1323, -9.1325, -9.1323, -9.1324, -9.1324, -9.1327, -9.1327, -9.1325, -9.1328, -9.1328, -9.1325, -9.1327, -9.133, -9.1329, -9.1328, -9.1331, -9.133, -9.1329, -9.1329, -9.1328, -9.1331, -8.0015, -8.4614, -8.4595, -7.9136, -7.4211, -8.1111, -5.1536, -8.1515, -8.5108, -8.0431, -5.8681, -6.5492, -4.5675, -8.5589, -5.1646, -7.9221, -7.9382, -6.8435, -8.0483, -8.7768, -7.973, -6.579, -5.886, -7.1925, -4.9153, -5.509, -5.4291, -6.5323, -6.2829, -5.6539, -6.5794, -5.2855, -5.1862, -5.2857, -5.5036, -5.8282, -6.1872, -5.7656, -5.0395, -6.1246, -4.2995, -5.9351, -4.9237, -5.6943, -5.39, -6.1843, -5.3717, -5.7605, -5.6305, -5.6439, -5.7393, -5.8105, -5.9051, -5.8473, -5.3985, -5.7142, -5.703, -5.508, -5.8121, -7.685, -7.7807, -7.9868, -8.2359, -8.5445, -8.5444, -8.5446, -8.545, -8.5453, -8.5463, -8.5465, -8.6625, -7.3913, -8.6882, -7.0154, -8.0166, -8.397, -6.6707, -8.7245, -9.1501, -9.1504, -9.1504, -9.1504, -9.1505, -9.1506, -9.1505, -9.1507, -9.1504, -9.1506, -9.1506, -8.2392, -8.4883, -8.0775, -8.1015, -8.1069, -8.4853, -7.842, -8.4892, -7.5721, -8.5095, -8.7785, -6.4947, -7.4574, -7.1466, -6.4049, -6.6181, -4.5358, -5.3207, -5.3187, -4.9636, -6.1504, -6.4449, -6.6216, -6.4531, -5.5773, -5.3713, -6.5004, -5.197, -4.1603, -5.72, -6.9345, -6.2486, -5.4282, -5.6614, -6.013, -5.5382, -5.1951, -5.2852, -5.0704, -5.5963, -5.6878, -5.1693, -5.613, -5.7425, -5.5836, -4.9653, -5.6488, -5.3574, -5.578, -5.4902, -5.3693, -6.0024, -5.8076, -5.6287, -5.8107, -5.6815, -8.3633, -8.3638, -8.4059, -8.4244, -8.4585, -8.5378, -8.2543, -8.9692, -8.9692, -8.9692, -8.9692, -8.9693, -8.9693, -8.9695, -8.9694, -8.9697, -8.9695, -8.9696, -8.9695, -8.9695, -8.9696, -8.9696, -8.9696, -8.9697, -8.9695, -8.9696, -8.9697, -8.9698, -8.97, -8.9697, -8.5604, -8.5697, -8.5946, -7.9563, -7.4916, -7.5894, -6.8024, -7.4968, -8.3956, -6.2442, -6.8933, -6.4662, -6.637, -8.0707, -8.3994, -8.6304, -7.9301, -3.9188, -5.0873, -5.4634, -7.6031, -7.9534, -6.2763, -4.8364, -5.4951, -5.7531, -6.0509, -6.2236, -5.6248, -4.9111, -6.4423, -5.9745, -6.7055, -6.4042, -5.4197, -6.4431, -5.1516, -5.824, -6.2487, -5.3933, -6.3851, -5.4623, -5.7242, -5.4639, -5.4545, -5.3326, -5.1879, -5.7186, -5.5709, -5.8897, -5.9314, -5.8235, -5.8909, -6.0131, -5.5942, -5.8447, -5.8568, -5.8062, -5.9038, -5.9487], \"loglift\": [30.0, 29.0, 28.0, 27.0, 26.0, 25.0, 24.0, 23.0, 22.0, 21.0, 20.0, 19.0, 18.0, 17.0, 16.0, 15.0, 14.0, 13.0, 12.0, 11.0, 10.0, 9.0, 8.0, 7.0, 6.0, 5.0, 4.0, 3.0, 2.0, 1.0, 0.983, 0.9509, 0.9043, 0.9014, 0.8901, 0.8901, 0.8878, 0.885, 0.86, 0.8333, 0.8263, 0.8148, 0.8024, 0.7897, 0.7869, 0.7801, 0.78, 0.78, 0.78, 0.7799, 0.7799, 0.7799, 0.7799, 0.7799, 0.7798, 0.7798, 0.7798, 0.7798, 0.7798, 0.7798, 0.7659, 0.7699, 0.7651, 0.7461, 0.6533, 0.7533, 0.7154, 0.6729, 0.6924, 0.6316, 0.711, 0.71, 0.6517, 0.5613, 0.5876, 0.4663, 0.3494, 0.4632, 0.2713, 0.3594, 0.4675, 0.3074, 0.0844, 0.4084, 0.5185, 0.4196, 0.1615, 0.4713, 0.205, 0.3877, 0.2162, 0.2732, 0.3238, 0.3213, 0.3196, 0.1004, 0.0974, 0.3071, 0.2969, 0.2318, -0.0249, 0.1216, 0.1557, 0.0333, 0.024, -0.1192, 0.0917, -0.2993, 0.0343, -0.3007, -0.1867, -0.0044, 0.041, -0.1494, -0.2936, -0.3169, -0.1604, -0.1096, 1.2309, 1.2259, 1.2173, 1.2138, 1.2006, 1.1724, 1.1616, 1.1521, 1.1433, 1.1312, 1.1266, 1.1266, 1.1266, 1.1265, 1.1265, 1.1265, 1.1265, 1.1265, 1.1264, 1.1264, 1.1264, 1.1264, 1.1264, 1.1264, 1.1264, 1.1263, 1.1263, 1.1263, 1.1263, 1.1263, 1.1051, 1.1043, 1.0255, 1.036, 1.0136, 0.6858, 1.0483, 0.6673, 0.8555, 0.9708, 0.7274, 1.0413, 0.6472, 0.9545, 1.0266, 0.7253, 0.4878, 0.9845, 0.6927, 0.5497, 0.4405, 0.5924, 0.0865, 0.5564, 0.4304, 0.3773, 0.2617, 0.0953, 0.3786, 0.1463, 0.1479, 0.2353, 0.112, 0.3175, 0.1164, 0.6335, 0.383, 0.3366, 0.2027, 0.4705, 0.0273, 0.0448, -0.0691, 0.3756, -0.0533, -0.201, -0.1099, -0.1054, -0.0368, 0.093, -0.0983, -0.0066, -0.5812, -0.1851, -0.1232, 1.2981, 1.2073, 1.1919, 1.166, 1.1636, 1.1635, 1.1635, 1.1635, 1.1634, 1.1634, 1.1633, 1.1633, 1.1633, 1.1633, 1.1633, 1.1633, 1.1632, 1.1631, 1.163, 1.163, 1.163, 1.163, 1.163, 1.163, 1.1629, 1.1629, 1.1629, 1.1629, 1.1628, 1.1627, 1.1621, 1.15, 1.1459, 1.116, 1.095, 1.0889, 0.7441, 1.0575, 1.0891, 1.0254, 0.7226, 0.7823, 0.4562, 1.0768, 0.5162, 0.9621, 0.9559, 0.7429, 0.9677, 1.1002, 0.9283, 0.6354, 0.4816, 0.7573, 0.2508, 0.3745, 0.3465, 0.5907, 0.4945, 0.312, 0.5562, 0.1865, 0.148, 0.1662, 0.1987, 0.3061, 0.42, 0.2759, 0.0312, 0.3937, -0.2546, 0.2973, -0.1673, 0.1538, 0.0078, 0.3718, -0.0578, 0.1462, 0.0589, 0.0015, 0.0605, 0.0953, 0.1648, 0.1107, -0.3254, -0.0685, -0.0889, -0.4237, -0.4089, 1.5431, 1.4339, 1.4196, 1.3829, 1.3703, 1.3703, 1.3701, 1.3699, 1.3698, 1.3691, 1.3686, 1.2521, 1.2308, 1.2235, 1.208, 1.2056, 1.1965, 1.1961, 1.1741, 1.164, 1.1638, 1.1638, 1.1638, 1.1638, 1.1638, 1.1638, 1.1637, 1.1637, 1.1637, 1.1637, 1.1603, 1.1474, 1.1278, 1.1193, 1.1191, 1.123, 1.0756, 1.1192, 1.0412, 1.1154, 1.1344, 0.9202, 1.0028, 0.9641, 0.8674, 0.883, 0.5374, 0.577, 0.5759, 0.4872, 0.725, 0.7713, 0.8078, 0.7165, 0.463, 0.331, 0.6904, 0.2549, -0.1154, 0.4044, 0.8279, 0.5752, 0.2611, 0.3329, 0.4614, 0.2616, 0.1188, 0.118, 0.0139, 0.2445, 0.2781, -0.0032, 0.2351, 0.2991, 0.1921, -0.2088, 0.2124, -0.0232, 0.0677, -0.0182, -0.2985, 0.4118, 0.1279, -0.231, -0.1652, -0.6578, 1.6167, 1.6164, 1.5701, 1.5505, 1.5149, 1.4273, 1.4049, 1.3933, 1.3933, 1.3933, 1.3932, 1.3932, 1.3932, 1.3931, 1.3931, 1.3931, 1.393, 1.393, 1.393, 1.393, 1.393, 1.393, 1.3929, 1.3929, 1.3929, 1.3929, 1.3929, 1.3929, 1.3928, 1.3928, 1.3888, 1.384, 1.3691, 1.3045, 1.2535, 1.2339, 1.1088, 1.1406, 1.2815, 0.824, 0.9555, 0.8567, 0.862, 1.1792, 1.2574, 1.3125, 1.1354, 0.1261, 0.3847, 0.4721, 1.0391, 1.1255, 0.6712, 0.2479, 0.4116, 0.4724, 0.5568, 0.6019, 0.4056, 0.1596, 0.661, 0.4912, 0.7384, 0.6166, 0.1788, 0.62, 0.0145, 0.3103, 0.4712, 0.0044, 0.5358, -0.0103, 0.137, -0.0607, -0.1204, -0.2594, -0.4315, -0.0729, -0.257, 0.0683, 0.1073, -0.0238, 0.0148, 0.1233, -0.5705, -0.2306, -0.2114, -0.3554, -0.2015, -0.0541]}, \"token.table\": {\"Topic\": [1, 3, 4, 2, 3, 5, 4, 1, 3, 4, 1, 1, 3, 5, 1, 2, 3, 4, 5, 3, 5, 5, 2, 4, 1, 2, 3, 4, 5, 1, 2, 3, 4, 1, 5, 2, 4, 5, 2, 4, 5, 2, 2, 1, 2, 3, 4, 4, 1, 2, 3, 4, 5, 1, 2, 3, 4, 1, 1, 5, 3, 1, 2, 3, 4, 5, 1, 2, 3, 4, 5, 2, 3, 1, 2, 3, 1, 2, 3, 4, 5, 1, 2, 3, 4, 5, 1, 2, 3, 4, 5, 3, 3, 1, 2, 3, 4, 5, 2, 2, 1, 2, 3, 4, 5, 1, 1, 2, 3, 4, 5, 1, 2, 1, 5, 5, 1, 2, 4, 1, 2, 3, 4, 5, 2, 5, 1, 2, 3, 4, 5, 1, 2, 3, 4, 5, 1, 2, 3, 4, 5, 1, 2, 3, 4, 5, 1, 2, 3, 4, 5, 1, 2, 3, 4, 5, 4, 1, 2, 3, 4, 5, 1, 2, 3, 4, 5, 1, 2, 3, 4, 5, 1, 2, 3, 4, 5, 5, 3, 1, 2, 3, 4, 5, 1, 2, 3, 4, 5, 1, 2, 3, 4, 5, 2, 3, 1, 2, 3, 4, 5, 4, 5, 3, 5, 1, 2, 3, 4, 5, 1, 2, 3, 4, 5, 1, 2, 3, 4, 5, 3, 1, 2, 5, 1, 2, 3, 4, 5, 5, 5, 1, 2, 3, 4, 5, 1, 2, 5, 1, 2, 3, 4, 5, 1, 1, 2, 3, 4, 5, 3, 1, 2, 3, 4, 5, 1, 2, 3, 4, 5, 1, 2, 3, 4, 4, 5, 3, 5, 1, 2, 3, 4, 5, 1, 2, 3, 4, 5, 1, 2, 3, 4, 5, 5, 5, 2, 1, 3, 5, 1, 4, 5, 1, 2, 3, 4, 5, 1, 2, 3, 4, 5, 1, 2, 4, 2, 1, 2, 3, 4, 5, 5, 3, 1, 3, 4, 1, 2, 3, 4, 1, 2, 3, 4, 5, 1, 2, 3, 4, 5, 1, 2, 3, 4, 5, 1, 2, 3, 4, 5, 1, 2, 3, 4, 5, 1, 2, 3, 4, 5, 1, 2, 3, 4, 5, 1, 2, 3, 4, 5, 1, 2, 3, 4, 5, 3, 1, 2, 3, 4, 5, 1, 2, 3, 4, 5, 1, 2, 3, 4, 5, 1, 2, 3, 4, 5, 2, 3, 5, 3, 4, 3, 3, 1, 2, 3, 4, 5, 2, 4, 5, 1, 2, 3, 4, 5, 1, 2, 3, 4, 5, 1, 2, 3, 4, 5, 1, 3, 1, 2, 3, 5, 3, 1, 2, 3, 4, 5, 1, 2, 3, 4, 5, 3, 2, 4, 1, 4, 3, 1, 2, 3, 5, 1, 2, 1, 3, 3, 1, 2, 3, 4, 5, 4, 1, 2, 3, 4, 5, 2, 1, 4, 1, 2, 3, 4, 5, 1, 2, 3, 4, 4, 1, 2, 3, 4, 5, 2, 1, 2, 3, 4, 5, 3, 1, 2, 4, 2, 1, 2, 3, 4, 5, 1, 2, 3, 4, 5, 3, 4, 1, 2, 3, 4, 5, 4, 1, 2, 3, 4, 5, 1, 2, 3, 4, 5, 2, 1, 2, 3, 4, 5, 1, 2, 3, 4, 5, 5, 1, 4, 1, 3, 4, 5, 2, 2, 1, 5, 5, 3, 1, 3, 5, 4, 1, 2, 3, 4, 5, 1, 2, 3, 4, 5, 2, 4, 1, 2, 3, 4, 5, 1, 2, 5, 1, 2, 1, 2, 3, 4, 5, 1, 2, 3, 4, 5, 5, 4, 1, 2, 3, 4, 5, 1, 2, 3, 4, 5, 4, 3, 1, 2, 3, 4, 5, 1, 1, 2, 3, 4, 5, 2, 5, 1, 2, 3, 4, 5, 1, 1, 2, 3, 4, 5, 3, 2, 5, 1, 2, 3, 4, 5, 1, 2, 3, 4, 5, 1, 2, 3, 4, 5, 1, 1, 2, 3, 4, 5, 1, 2, 3, 4, 5, 1, 2, 3, 4, 5, 1, 2, 3, 4, 5, 2, 1, 2, 3, 5, 1, 2, 3, 4, 5, 1, 2, 3, 4, 5, 1, 2, 3, 4, 5, 1, 2, 3, 5, 1, 2, 3, 4, 5, 1, 4, 5, 1, 2, 3, 4, 5, 1, 2, 4, 5, 1, 4, 5, 1, 1, 2, 3, 4, 5, 1, 2, 3, 4, 5, 1, 2, 3, 4, 5, 1, 2, 3, 4, 5, 1, 1, 2, 3, 4, 5, 1, 1, 2, 3, 4, 5, 4, 3, 3, 4, 4, 1, 4, 5, 1, 2, 3, 4, 5, 1, 2, 4, 5, 1, 2, 3, 4, 5, 1, 2, 3, 4, 5, 1, 2, 3, 4, 5, 4, 1, 2, 3, 4, 5, 1, 2, 1, 2, 1, 4, 1, 2, 3, 4, 5, 4, 1, 2, 3, 4, 1, 2, 3, 4, 1, 2, 3, 4, 5, 1, 2, 3, 2, 2, 1, 5, 1, 2, 3, 1, 2, 3, 4, 5, 1, 2, 3, 4, 5, 3, 3, 1, 1, 2, 3, 4, 5, 5, 4, 5, 1, 2, 3, 4, 5, 1, 1, 2, 3, 4, 5, 1, 2, 3, 4, 5, 4, 1, 2, 3, 4, 5, 5, 1, 2, 3, 4, 5, 4, 1, 2, 3, 4, 5, 1, 2, 3, 4, 5, 4, 1, 2, 3, 4, 5, 3, 1, 4, 5, 1, 2, 3, 4, 5, 4, 1, 2, 3, 4, 5, 4, 2, 3, 1, 2, 3, 4, 5, 1, 2, 3, 4, 5, 1, 2, 3, 4, 5, 2, 1, 2, 3, 4, 5, 1, 2, 3, 4, 5, 5, 1, 2, 1, 3, 4, 1, 2, 1, 3, 4, 2, 1, 2, 3, 4, 5, 3, 1, 1, 2, 3, 4, 5, 1, 2, 3, 4, 5, 3, 1, 1, 2, 3, 4, 5, 1, 2, 3, 4, 5, 1, 1, 2, 3, 4, 5, 1, 2, 3, 4, 5, 5, 1, 4], \"Freq\": [0.18838771704798418, 0.5651631511439525, 0.595337305133711, 0.17129929032337496, 0.5138978709701248, 0.17129929032337496, 0.5953040004232624, 0.2939047236242224, 0.2939047236242224, 0.5878094472484447, 0.5347765735883766, 0.2914317063293862, 0.5828634126587724, 0.2914317063293862, 0.32030038367624614, 0.37087412846723233, 0.13486331944262994, 0.10114748958197246, 0.08428957465164372, 0.6040300036397243, 0.30201500181986213, 0.6247620810674215, 0.2385025273952432, 0.4770050547904864, 0.26725759889361134, 0.1463553517750729, 0.26725759889361134, 0.2227146657446761, 0.09544914246200405, 0.19488021148992138, 0.19488021148992138, 0.5846406344697641, 0.19488021148992138, 0.7891588778956313, 0.8480196864077927, 0.3985209429146054, 0.3985209429146054, 0.624816590065809, 0.6043804491841619, 0.30219022459208095, 0.6247638020795656, 0.7869871677852621, 0.5945856440924022, 0.13145776261599934, 0.2629155252319987, 0.06572888130799967, 0.4601021691559977, 0.7985780408021813, 0.10865026761622337, 0.10865026761622337, 0.10865026761622337, 0.5432513380811168, 0.10865026761622337, 0.1953581571766476, 0.1953581571766476, 0.5860744715299427, 0.1953581571766476, 0.534757139893733, 0.3092299357399679, 0.6184598714799358, 0.5843186372920136, 0.31598510109401057, 0.17080275734811382, 0.22204358455254794, 0.1878830330829252, 0.10248165440886829, 0.3270396092650809, 0.19622376555904852, 0.1875027093119797, 0.14389742807663558, 0.13953689995310117, 0.6847460636422192, 0.1711865159105548, 0.668137499194313, 0.1336274998388626, 0.1336274998388626, 0.1488932046136604, 0.44667961384098115, 0.1488932046136604, 0.1488932046136604, 0.1488932046136604, 0.40639629974382196, 0.2093556695649992, 0.13546543324794066, 0.18472559079264636, 0.06157519693088212, 0.31358141270440515, 0.14185825812818328, 0.11945958579215434, 0.2090542751362701, 0.22398672336028938, 0.5844000868052048, 0.5843857108244607, 0.3686916050079857, 0.17317332962496298, 0.1899320389435078, 0.15641462030641817, 0.1117247287902987, 0.5946530539649677, 0.5947117677468751, 0.26808951193378383, 0.13404475596689192, 0.13404475596689192, 0.13404475596689192, 0.5361790238675677, 0.5347359686656379, 0.23465871422315737, 0.18903063090198788, 0.20206722613660774, 0.2411770118404673, 0.13688424996350848, 0.28862629929624634, 0.5772525985924927, 0.6986179318113334, 0.6248780499331011, 0.8489826100972978, 0.23542493231114217, 0.47084986462228434, 0.23542493231114217, 0.2682214009486111, 0.18775498066402774, 0.3486878212331944, 0.08046642028458333, 0.10728856037944443, 0.594644337795082, 0.6246952682437271, 0.2594210001280084, 0.1895768847089292, 0.09977730774154168, 0.2195100770313917, 0.2195100770313917, 0.40276816330896853, 0.20138408165448426, 0.14215346940316537, 0.1658457143036929, 0.08292285715184645, 0.22981736665257618, 0.30642315553676824, 0.19151447221048015, 0.15321157776838412, 0.11490868332628809, 0.25453959945311605, 0.14545119968749487, 0.0909069998046843, 0.25453959945311605, 0.25453959945311605, 0.310552401938931, 0.126521348938083, 0.299050461126378, 0.16102717137574202, 0.09201552650042401, 0.5989114991741655, 0.09981858319569425, 0.09981858319569425, 0.09981858319569425, 0.1996371663913885, 0.7988167019242882, 0.21605000502352167, 0.1737793518667457, 0.22544348350280521, 0.17847609110638746, 0.20195978730459635, 0.30940650637371975, 0.06630139422293994, 0.11050232370489992, 0.2652055768917598, 0.2652055768917598, 0.3258178064959288, 0.4344237419945717, 0.05430296774932146, 0.10860593549864292, 0.05430296774932146, 0.4778559594621685, 0.1629054407257393, 0.11946398986554213, 0.17376580344078857, 0.0651621762902957, 0.6247019497337563, 0.5843447692840182, 0.13662217122091352, 0.282352487189888, 0.25502805294570524, 0.13662217122091352, 0.19127103970927894, 0.15096672865963354, 0.05032224288654451, 0.39538905125142115, 0.33068902468300676, 0.07907781025028422, 0.30779228876089626, 0.07694807219022406, 0.10259742958696542, 0.38474036095112035, 0.12824678698370678, 0.594575109471477, 0.5844806037830375, 0.5742626315750985, 0.12761391812779968, 0.06380695906389984, 0.12761391812779968, 0.06380695906389984, 0.6040534923341021, 0.30202674616705105, 0.5844515113209588, 0.6247618457391109, 0.09858440092561674, 0.09858440092561674, 0.5915064055537005, 0.09858440092561674, 0.09858440092561674, 0.12797381819889406, 0.2815424000375669, 0.2559476363977881, 0.29433978185745635, 0.051189527279557626, 0.321510000926282, 0.1708021879920873, 0.2511796882236578, 0.13061343787630206, 0.13061343787630206, 0.5843848504587975, 0.6245873272969942, 0.15614683182424854, 0.15614683182424854, 0.18809907759113068, 0.13435648399366476, 0.13435648399366476, 0.4030694519809943, 0.16122778079239772, 0.4106340687144885, 0.4132448335183862, 0.11183609082329675, 0.2236721816465935, 0.11183609082329675, 0.11183609082329675, 0.447344363293187, 0.20536149365017314, 0.20536149365017314, 0.4107229873003463, 0.2273936670643995, 0.19896945868134958, 0.08527262514914982, 0.4263631257457491, 0.05684841676609988, 0.700290119877291, 0.29089745216278146, 0.5817949043255629, 0.14544872608139073, 0.14544872608139073, 0.6247990008571833, 0.5844090130827715, 0.315617602612194, 0.14428233262271725, 0.1262470410448776, 0.27954701945651467, 0.14428233262271725, 0.32155017196271085, 0.1315432521665635, 0.2923183381479189, 0.16077508598135543, 0.10231141835177163, 0.2849368971020627, 0.14246844855103136, 0.42740534565309407, 0.14246844855103136, 0.5953452121685949, 0.6247769741957042, 0.5843727572649513, 0.6249022327480293, 0.23197483668518284, 0.13918490201110972, 0.13918490201110972, 0.4175547060333291, 0.09278993467407314, 0.3093560528485241, 0.16927029306806035, 0.19845482635565698, 0.23931317295829221, 0.08171669320527052, 0.2381186567219851, 0.3680015603885224, 0.15153005427762686, 0.09741217774990299, 0.1407064789720821, 0.6247862927031497, 0.6248175990502817, 0.5946522496437172, 0.5347077542740392, 0.5844218678263522, 0.852347484493569, 0.19824380209455533, 0.7929752083782213, 0.8525446636718204, 0.2542542256023142, 0.147822224187392, 0.23060266973233148, 0.2542542256023142, 0.1123448903824179, 0.451551744198359, 0.16022803826393384, 0.2039265941540976, 0.11652948237377006, 0.05826474118688503, 0.5922080632107868, 0.11844161264215736, 0.11844161264215736, 0.5946327679697639, 0.14262435145682276, 0.17828043932102847, 0.14262435145682276, 0.21393652718523415, 0.3209047907778512, 0.6248200391573095, 0.5844957901770566, 0.1963888691752036, 0.1963888691752036, 0.5891666075256108, 0.14387600356017177, 0.14387600356017177, 0.4316280106805153, 0.14387600356017177, 0.40365720033618174, 0.20794461835500272, 0.14678443648588427, 0.1345524001120606, 0.09785629099058951, 0.21436176764898185, 0.17863480637415155, 0.07145392254966061, 0.4287235352979637, 0.10718088382449092, 0.4126913592786678, 0.12970299863043847, 0.11791181693676223, 0.18865890709881958, 0.1532853620177909, 0.24493939688720437, 0.37761490353444005, 0.14288131485086922, 0.11226389023996866, 0.11226389023996866, 0.24643656654958948, 0.29207296776247643, 0.164291044366393, 0.13690920363866083, 0.1551637641238156, 0.15288598855232718, 0.19110748569040897, 0.1719967371213681, 0.38221497138081795, 0.1146644914142454, 0.26598318623417083, 0.21278654898733668, 0.21687859800632392, 0.18005015683543873, 0.12276147056961732, 0.23279818162466384, 0.16628441544618847, 0.09977064926771308, 0.3990825970708523, 0.09977064926771308, 0.47394227697802477, 0.06770603956828926, 0.15798075899267494, 0.20311811870486776, 0.06770603956828926, 0.3844975056684266, 0.44348345474416095, 0.20376266839596582, 0.16780455044373657, 0.09588831453927804, 0.09588831453927804, 0.22136997769943112, 0.21445216589632388, 0.24212341310875277, 0.1833220127823414, 0.14181514196369804, 0.23243564881319081, 0.17432673660989312, 0.24903819515699016, 0.24903819515699016, 0.09961527806279606, 0.22064082021801643, 0.22064082021801643, 0.1355365038482101, 0.3152011717400235, 0.10716839839160798, 0.7864496250078986, 0.308480127034415, 0.61696025406883, 0.5843211739616868, 0.5953307677460655, 0.7826956461261089, 0.5844197905903966, 0.11192480261506788, 0.3357744078452036, 0.39173680915273756, 0.11192480261506788, 0.05596240130753394, 0.20050861785581875, 0.6015258535674562, 0.20050861785581875, 0.5503386960986962, 0.042333745853745865, 0.21166872926872934, 0.042333745853745865, 0.16933498341498346, 0.422986023740358, 0.10799643159328288, 0.29699018688152795, 0.09599682808291812, 0.07799742281737097, 0.3811783754161315, 0.0866314489582117, 0.3118732162495621, 0.12128402854149638, 0.10395773874985403, 0.5387744214246416, 0.5844392092785203, 0.14491125735635238, 0.28982251471270476, 0.43473377206905717, 0.6247977238441629, 0.5844660754621135, 0.1451971250583458, 0.3266935313812781, 0.1270474844260526, 0.3266935313812781, 0.054448921896879686, 0.31238317803022575, 0.16977346632077486, 0.17656440497360584, 0.2376828528490848, 0.1086550184452959, 0.584551100823093, 0.5946044407656702, 0.7960378542428751, 0.7000097017502301, 0.7857055584497239, 0.5860153609410574, 0.6035204992575507, 0.12070409985151014, 0.12070409985151014, 0.12070409985151014, 0.3883577813593621, 0.7767155627187242, 0.6343101032688356, 0.21143670108961188, 0.5843161961746581, 0.147292047139265, 0.33666753631831997, 0.16833376815915999, 0.12625032611936998, 0.21041721019895, 0.595328241801811, 0.3288175021907281, 0.176438659712098, 0.176438659712098, 0.20851841602338853, 0.10826917755060558, 0.5946326012527878, 0.7963974379735554, 0.2654658126578518, 0.326015152936271, 0.12048386086775233, 0.26931686546909345, 0.1630075764681355, 0.12048386086775233, 0.14715714897291757, 0.14715714897291757, 0.07357857448645878, 0.5886285958916703, 0.7986378641917464, 0.2709021678820705, 0.2955296376895315, 0.08209156602486986, 0.14776481884476575, 0.20522891506217464, 0.5946578786687797, 0.15451071607492695, 0.05150357202497565, 0.05150357202497565, 0.6180428642997078, 0.1030071440499513, 0.7842346251947245, 0.1655382266099962, 0.49661467982998864, 0.1655382266099962, 0.7975473205582541, 0.5774330027758797, 0.08554563004087107, 0.17109126008174214, 0.042772815020435534, 0.1283184450613066, 0.2674460797402902, 0.20058455980521767, 0.2808183837273047, 0.17383995183118864, 0.09360612790910157, 0.298821598343963, 0.597643196687926, 0.2535975653835394, 0.33284680456589544, 0.1267987826917697, 0.22189786971059697, 0.06339939134588485, 0.7984237099322515, 0.3521753862534536, 0.15722115457743466, 0.19495423167601897, 0.1352101929365938, 0.16351000076053204, 0.3054427470023402, 0.20617385422657963, 0.20617385422657963, 0.12981316747599458, 0.1450853048261116, 0.5946742725140016, 0.26329878048119215, 0.26329878048119215, 0.2175076882235935, 0.14882104983719557, 0.10302995757959693, 0.17250362425838534, 0.10062711415072478, 0.388133154581367, 0.17250362425838534, 0.17250362425838534, 0.41927473471099874, 0.2938818322221119, 0.5877636644442238, 0.1730897384643317, 0.1730897384643317, 0.1730897384643317, 0.3461794769286634, 0.594675031002972, 0.5945678262438001, 0.5347549214482632, 0.6247244466280856, 0.6248457658348419, 0.584542568093394, 0.7940398395242236, 0.2646799465080745, 0.4234077150475769, 0.595270254853902, 0.3460277708494318, 0.30758024075505047, 0.1730138854247159, 0.1057307077595486, 0.0672831776651673, 0.3396276879874422, 0.15248590072905568, 0.12476119150559101, 0.2287288510935835, 0.15941707803492183, 0.594633732920891, 0.7989976706433444, 0.2137960789295514, 0.19795933234217725, 0.20587770563586433, 0.25338794539798687, 0.12669397269899343, 0.19846076961477127, 0.5953823088443139, 0.19846076961477127, 0.28948148668577167, 0.5789629733715433, 0.20538322639882994, 0.10269161319941497, 0.20538322639882994, 0.22592154903871292, 0.26699819431847893, 0.28803755911131657, 0.16802190948160134, 0.0960125197037722, 0.16802190948160134, 0.2640344291853735, 0.6248004066599161, 0.7987272522959284, 0.3982637947651873, 0.3650751452014217, 0.03318864956376561, 0.16594324781882805, 0.06637729912753122, 0.26993905299528737, 0.10122714487323276, 0.2024542897464655, 0.13496952649764368, 0.30368143461969827, 0.5953780812892381, 0.5845581666032037, 0.39267856047308913, 0.2112656582662234, 0.15844924369966756, 0.14926378029678827, 0.08955826817807297, 0.6980126907397645, 0.26987421615442087, 0.3855345945063155, 0.11566037835189465, 0.0771069189012631, 0.11566037835189465, 0.594661794864893, 0.6249599623491148, 0.28750297983976275, 0.4107185426282325, 0.164287417051293, 0.0821437085256465, 0.0821437085256465, 0.5346373521723449, 0.39196618414656365, 0.18445467489250056, 0.11528417180781285, 0.04611366872312514, 0.25362517797718825, 0.584482202693449, 0.5953503704630507, 0.6247466502051167, 0.4097203914860397, 0.1614050027066217, 0.18623654158456351, 0.0993261555117672, 0.14898923326765082, 0.32462992851000555, 0.20852964157760773, 0.14540715547844, 0.16344215150677363, 0.15780621524791935, 0.20780613794913105, 0.16162699618265747, 0.2539852797156046, 0.24628875608785902, 0.1308409016716751, 0.5346388161652041, 0.24124852803539615, 0.12062426401769807, 0.42218492406194325, 0.1507803300221226, 0.06031213200884904, 0.26001819184863484, 0.16001119498377528, 0.12000839623783145, 0.2400167924756629, 0.2400167924756629, 0.5450705612538111, 0.15573444607251746, 0.07786722303625873, 0.1168008345543881, 0.07786722303625873, 0.520576446885356, 0.20244639601097175, 0.028920913715853105, 0.17352548229511863, 0.05784182743170621, 0.5947189463417727, 0.2586435664513611, 0.5172871329027222, 0.12932178322568055, 0.12932178322568055, 0.3427437596458174, 0.09792678847023355, 0.3427437596458174, 0.14689018270535031, 0.07344509135267516, 0.44244217377591444, 0.156995610049518, 0.19981259460847747, 0.11417862549055856, 0.08563396911791891, 0.2941826516455107, 0.13682914030023755, 0.21892662448038008, 0.23260953851040383, 0.10946331224019004, 0.1682924751977433, 0.5048774255932299, 0.1682924751977433, 0.1682924751977433, 0.17409718380420225, 0.27565387435665356, 0.2176214797552528, 0.12331883852797661, 0.21036743043007772, 0.34152437549014697, 0.17076218774507348, 0.5122865632352205, 0.05384208811928392, 0.10768417623856784, 0.2692104405964196, 0.16152626435785175, 0.43073670495427135, 0.10961801997630444, 0.10961801997630444, 0.6577081198578266, 0.10961801997630444, 0.19946278490440625, 0.5983883547132187, 0.19946278490440625, 0.534789606002314, 0.12395992328852645, 0.2479198465770529, 0.12395992328852645, 0.12395992328852645, 0.4958396931541058, 0.29244924643807735, 0.14622462321903867, 0.1754695478628464, 0.14622462321903867, 0.24858185947236575, 0.42639662621682817, 0.15989873483131056, 0.13857890352046917, 0.10659915655420704, 0.16522869265902093, 0.5071357812788992, 0.16904526042629975, 0.19721947049734972, 0.08452263021314987, 0.08452263021314987, 0.534687226751749, 0.23915224762730553, 0.23190520982041748, 0.2029170585928653, 0.18117594517220115, 0.13769371833087288, 0.5346852515863055, 0.20927157178212927, 0.0896878164780554, 0.20927157178212927, 0.14947969413009235, 0.32885532708620313, 0.7984415973706392, 0.5845004481307535, 0.5914181919091557, 0.39427879460610377, 0.7204862342026522, 0.620783877567789, 0.15519596939194724, 0.15519596939194724, 0.18276039753237772, 0.3858275059016863, 0.16245368669544685, 0.12184026502158515, 0.12184026502158515, 0.20762483989232233, 0.20762483989232233, 0.20762483989232233, 0.41524967978464467, 0.12825976852714602, 0.22445459492250552, 0.16032471065893253, 0.27255200812018526, 0.20842212385661227, 0.1927947622163356, 0.1445960716622517, 0.21689410749337754, 0.2771424706859824, 0.16869541693929363, 0.09323544659650719, 0.09323544659650719, 0.09323544659650719, 0.46617723298253594, 0.18647089319301438, 0.5954329345677202, 0.22218422815274597, 0.2360707424122926, 0.27773028519093246, 0.1249786283359196, 0.13886514259546623, 0.3893489314277361, 0.7786978628554722, 0.5346976254840292, 0.7956944516856345, 0.7139016220629524, 0.1784754055157381, 0.47225438679913356, 0.08142317013778165, 0.1791309743031196, 0.1791309743031196, 0.08142317013778165, 0.5953683853106596, 0.7253625645560877, 0.08059584050623197, 0.08059584050623197, 0.08059584050623197, 0.16476696510038452, 0.16476696510038452, 0.49430089530115356, 0.16476696510038452, 0.40605641628883615, 0.20032116536915917, 0.1732507376165701, 0.11369579656087411, 0.1082817110103563, 0.32506633564123016, 0.16253316782061508, 0.4875995034618453, 0.5946035651204724, 0.594692284034217, 0.5346756764432515, 0.6247982174459227, 0.7125653236397991, 0.17814133090994977, 0.5843171666640022, 0.3775114188828244, 0.18415191165015823, 0.15652912490263451, 0.17494431606765032, 0.10128355140758703, 0.19456859608785906, 0.15565487687028726, 0.3891371921757181, 0.15565487687028726, 0.11674115765271545, 0.5843898229538252, 0.5844848075082147, 0.6933362985190418, 0.31437527146262256, 0.28443476941856327, 0.1347322591982668, 0.10479175715420752, 0.14970251022029646, 0.6247605824998612, 0.3147834975156961, 0.6295669950313922, 0.6869600726478011, 0.11449334544130019, 0.057246672720650094, 0.08587000908097514, 0.057246672720650094, 0.7108587417202803, 0.1112985903802532, 0.1112985903802532, 0.1112985903802532, 0.1112985903802532, 0.4451943615210128, 0.2781050923462639, 0.09270169744875463, 0.1158771218109433, 0.18540339489750926, 0.32445594107064124, 0.5953531519985221, 0.30672781579756503, 0.1851941529343789, 0.3125151330767644, 0.10417171102558813, 0.08680975918799011, 0.624757256715744, 0.1983172387983815, 0.2478965484979769, 0.32226551304736994, 0.14873792909878614, 0.09915861939919075, 0.5952640384689187, 0.22945297064931966, 0.06555799161409133, 0.098336987421137, 0.4589059412986393, 0.16389497903522832, 0.28817294547544264, 0.15718524298660508, 0.07859262149330254, 0.3667655669687452, 0.10479016199107007, 0.5939283628117951, 0.5867963428142728, 0.08382804897346754, 0.08382804897346754, 0.1676560979469351, 0.08382804897346754, 0.5843392241483382, 0.1997606944466634, 0.5992820833399902, 0.1997606944466634, 0.30119676936568907, 0.26677428143818177, 0.1979293055831671, 0.15490119567378297, 0.0860562198187683, 0.7984730696677594, 0.4747748683462877, 0.1661712039212007, 0.13056308879522913, 0.08308560196060034, 0.1424324605038863, 0.8037160787892507, 0.589257582346165, 0.2946287911730825, 0.34824224179601315, 0.1492466750554342, 0.1907040847930548, 0.29020186816334426, 0.024874445842572365, 0.29004316686654197, 0.22311012835887842, 0.12430421437137512, 0.18804996533105467, 0.17848810268710275, 0.24366791410441385, 0.17200088054429213, 0.12183395705220693, 0.3296683543765599, 0.1290006604082191, 0.5947093902692517, 0.3890303882373628, 0.1407131191496844, 0.1986538152701427, 0.11588139224091658, 0.15726760375552964, 0.24536419681965502, 0.2780794230622757, 0.13086090497048267, 0.11450329184917234, 0.22900658369834467, 0.6248062303908277, 0.5346804083352726, 0.7951849818528127, 0.5909966826112343, 0.23639867304449372, 0.11819933652224686, 0.2950442290943168, 0.5900884581886336, 0.5347028117167376, 0.5852027637298598, 0.2926013818649299, 0.5946433544861475, 0.36830532790763476, 0.17099890224283043, 0.12276844263587826, 0.20607560013879564, 0.13153761710986955, 0.5845781213954238, 0.7019284422921233, 0.14730167879834738, 0.14730167879834738, 0.14730167879834738, 0.5892067151933895, 0.415112850759248, 0.1517526946602481, 0.10116846310683206, 0.20233692621366411, 0.20233692621366411, 0.3540896208739122, 0.5895520609030763, 0.7751179767540827, 0.367923186446771, 0.088809045004393, 0.07612203857519399, 0.241053122154781, 0.228366115725582, 0.2570370437650272, 0.24027375830209063, 0.17322061645034442, 0.19557166373425983, 0.1285185218825136, 0.5347442540049656, 0.24830100336953786, 0.24830100336953786, 0.10575783476850686, 0.2988808373892585, 0.09656150131037583, 0.22097514817989494, 0.17954230789616465, 0.22097514817989494, 0.23938974386155287, 0.13810946761243434, 0.419900408609041, 0.2895751428046583, 0.5791502856093166], \"Term\": [\"aa\", \"aa\", \"abetter\", \"ability\", \"ability\", \"ability\", \"absoultely\", \"accessory\", \"accessory\", \"accessory\", \"accomodate\", \"across\", \"across\", \"across\", \"adapter\", \"adapter\", \"adapter\", \"adapter\", \"adapter\", \"affordable\", \"affordable\", \"afordable\", \"aftermarket\", \"aftermarket\", \"also\", \"also\", \"also\", \"also\", \"also\", \"amazoncom\", \"amazoncom\", \"amazoncom\", \"amazoncom\", \"amplifier\", \"antennaes\", \"antiglare\", \"antiglare\", \"anybody\", \"anytime\", \"anytime\", \"apartcons\", \"applied\", \"aroundit\", \"arrived\", \"arrived\", \"arrived\", \"arrived\", \"asia\", \"ask\", \"ask\", \"ask\", \"ask\", \"ask\", \"atampt\", \"atampt\", \"atampt\", \"atampt\", \"awayso\", \"awhile\", \"awhile\", \"awsome\", \"back\", \"back\", \"back\", \"back\", \"back\", \"battery\", \"battery\", \"battery\", \"battery\", \"battery\", \"bb\", \"bb\", \"beeps\", \"beeps\", \"beeps\", \"before\", \"before\", \"before\", \"before\", \"before\", \"best\", \"best\", \"best\", \"best\", \"best\", \"better\", \"better\", \"better\", \"better\", \"better\", \"betterive\", \"bills\", \"bluetooth\", \"bluetooth\", \"bluetooth\", \"bluetooth\", \"bluetooth\", \"bluetoothno\", \"bookmarksuse\", \"booster\", \"booster\", \"booster\", \"booster\", \"booster\", \"boththis\", \"bought\", \"bought\", \"bought\", \"bought\", \"bought\", \"boy\", \"boy\", \"br\", \"breaki\", \"breaks\", \"brighter\", \"brighter\", \"brighter\", \"bt\", \"bt\", \"bt\", \"bt\", \"bt\", \"buddy\", \"butthe\", \"buy\", \"buy\", \"buy\", \"buy\", \"buy\", \"cable\", \"cable\", \"cable\", \"cable\", \"cable\", \"calls\", \"calls\", \"calls\", \"calls\", \"calls\", \"came\", \"came\", \"came\", \"came\", \"came\", \"cant\", \"cant\", \"cant\", \"cant\", \"cant\", \"cardo\", \"cardo\", \"cardo\", \"cardo\", \"cardo\", \"carried\", \"case\", \"case\", \"case\", \"case\", \"case\", \"cases\", \"cases\", \"cases\", \"cases\", \"cases\", \"cassette\", \"cassette\", \"cassette\", \"cassette\", \"cassette\", \"cell\", \"cell\", \"cell\", \"cell\", \"cell\", \"celular\", \"chances\", \"charge\", \"charge\", \"charge\", \"charge\", \"charge\", \"charger\", \"charger\", \"charger\", \"charger\", \"charger\", \"charges\", \"charges\", \"charges\", \"charges\", \"charges\", \"checker\", \"chevy\", \"clearly\", \"clearly\", \"clearly\", \"clearly\", \"clearly\", \"clutch\", \"clutch\", \"collected\", \"compre\", \"convenient\", \"convenient\", \"convenient\", \"convenient\", \"convenient\", \"cord\", \"cord\", \"cord\", \"cord\", \"cord\", \"could\", \"could\", \"could\", \"could\", \"could\", \"counseling\", \"counterfeit\", \"counterfeit\", \"counterfeit\", \"cover\", \"cover\", \"cover\", \"cover\", \"cover\", \"cracked\", \"crushed\", \"cute\", \"cute\", \"cute\", \"cute\", \"cute\", \"dashboard\", \"dashboard\", \"dashboard\", \"data\", \"data\", \"data\", \"data\", \"data\", \"dbm\", \"dell\", \"dell\", \"dell\", \"dell\", \"describe\", \"descrition\", \"device\", \"device\", \"device\", \"device\", \"device\", \"devices\", \"devices\", \"devices\", \"devices\", \"devices\", \"didnt\", \"didnt\", \"didnt\", \"didnt\", \"differentso\", \"dios\", \"doestn\", \"dollor\", \"driver\", \"driver\", \"driver\", \"driver\", \"driver\", \"ear\", \"ear\", \"ear\", \"ear\", \"ear\", \"easy\", \"easy\", \"easy\", \"easy\", \"easy\", \"el\", \"electromaster\", \"emailno\", \"embedded\", \"emits\", \"entertainment\", \"era\", \"era\", \"este\", \"even\", \"even\", \"even\", \"even\", \"even\", \"every\", \"every\", \"every\", \"every\", \"every\", \"exact\", \"exact\", \"exact\", \"exchange\", \"expected\", \"expected\", \"expected\", \"expected\", \"expected\", \"expedition\", \"exspensive\", \"eyeglasses\", \"eyeglasses\", \"eyeglasses\", \"failed\", \"failed\", \"failed\", \"failed\", \"far\", \"far\", \"far\", \"far\", \"far\", \"fast\", \"fast\", \"fast\", \"fast\", \"fast\", \"find\", \"find\", \"find\", \"find\", \"find\", \"first\", \"first\", \"first\", \"first\", \"first\", \"fit\", \"fit\", \"fit\", \"fit\", \"fit\", \"galaxy\", \"galaxy\", \"galaxy\", \"galaxy\", \"galaxy\", \"get\", \"get\", \"get\", \"get\", \"get\", \"gets\", \"gets\", \"gets\", \"gets\", \"gets\", \"give\", \"give\", \"give\", \"give\", \"give\", \"glow\", \"go\", \"go\", \"go\", \"go\", \"go\", \"good\", \"good\", \"good\", \"good\", \"good\", \"got\", \"got\", \"got\", \"got\", \"got\", \"great\", \"great\", \"great\", \"great\", \"great\", \"greatest\", \"griffin\", \"griffin\", \"gripability\", \"groves\", \"habra\", \"haha\", \"handset\", \"handset\", \"handset\", \"handset\", \"handset\", \"hardware\", \"hardware\", \"hardware\", \"hbs\", \"hbs\", \"hbs\", \"hbs\", \"hbs\", \"headset\", \"headset\", \"headset\", \"headset\", \"headset\", \"headsets\", \"headsets\", \"headsets\", \"headsets\", \"headsets\", \"hell\", \"hides\", \"hl\", \"hl\", \"hl\", \"hopes\", \"household\", \"i\", \"i\", \"i\", \"i\", \"i\", \"im\", \"im\", \"im\", \"im\", \"im\", \"imagined\", \"imap\", \"importantly\", \"incredible\", \"independently\", \"informed\", \"input\", \"input\", \"input\", \"input\", \"interrupting\", \"interrupting\", \"inverters\", \"inverters\", \"iohone\", \"iphone\", \"iphone\", \"iphone\", \"iphone\", \"iphone\", \"isfar\", \"it\", \"it\", \"it\", \"it\", \"it\", \"itconsno\", \"itll\", \"itll\", \"ive\", \"ive\", \"ive\", \"ive\", \"ive\", \"jawbone\", \"jawbone\", \"jawbone\", \"jawbone\", \"jealous\", \"keyboard\", \"keyboard\", \"keyboard\", \"keyboard\", \"keyboard\", \"keyboardota\", \"kit\", \"kit\", \"kit\", \"kit\", \"kit\", \"lacks\", \"leds\", \"leds\", \"leds\", \"legit\", \"lg\", \"lg\", \"lg\", \"lg\", \"lg\", \"life\", \"life\", \"life\", \"life\", \"life\", \"lifters\", \"lifters\", \"light\", \"light\", \"light\", \"light\", \"light\", \"liion\", \"like\", \"like\", \"like\", \"like\", \"like\", \"little\", \"little\", \"little\", \"little\", \"little\", \"login\", \"long\", \"long\", \"long\", \"long\", \"long\", \"love\", \"love\", \"love\", \"love\", \"love\", \"mad\", \"magic\", \"magic\", \"match\", \"match\", \"match\", \"match\", \"memorylimited\", \"memoryno\", \"mercedes\", \"meses\", \"mile\", \"milliamps\", \"min\", \"min\", \"mom\", \"monthsit\", \"motorola\", \"motorola\", \"motorola\", \"motorola\", \"motorola\", \"much\", \"much\", \"much\", \"much\", \"much\", \"n\", \"neckband\", \"need\", \"need\", \"need\", \"need\", \"need\", \"needing\", \"needing\", \"needing\", \"netbook\", \"netbook\", \"note\", \"note\", \"note\", \"note\", \"note\", \"nothing\", \"nothing\", \"nothing\", \"nothing\", \"nothing\", \"nuevo\", \"obsessed\", \"oem\", \"oem\", \"oem\", \"oem\", \"oem\", \"ok\", \"ok\", \"ok\", \"ok\", \"ok\", \"oldfashioned\", \"omg\", \"one\", \"one\", \"one\", \"one\", \"one\", \"oriented\", \"otherwise\", \"otherwise\", \"otherwise\", \"otherwise\", \"otherwise\", \"outs\", \"outter\", \"pair\", \"pair\", \"pair\", \"pair\", \"pair\", \"pairs\", \"palm\", \"palm\", \"palm\", \"palm\", \"palm\", \"passengers\", \"pcs\", \"peels\", \"people\", \"people\", \"people\", \"people\", \"people\", \"phone\", \"phone\", \"phone\", \"phone\", \"phone\", \"phones\", \"phones\", \"phones\", \"phones\", \"phones\", \"pinkpurple\", \"plantronics\", \"plantronics\", \"plantronics\", \"plantronics\", \"plantronics\", \"plastic\", \"plastic\", \"plastic\", \"plastic\", \"plastic\", \"player\", \"player\", \"player\", \"player\", \"player\", \"plugged\", \"plugged\", \"plugged\", \"plugged\", \"plugged\", \"pocketable\", \"pop\", \"pop\", \"pop\", \"pop\", \"port\", \"port\", \"port\", \"port\", \"port\", \"pretty\", \"pretty\", \"pretty\", \"pretty\", \"pretty\", \"price\", \"price\", \"price\", \"price\", \"price\", \"priced\", \"priced\", \"priced\", \"priced\", \"product\", \"product\", \"product\", \"product\", \"product\", \"protected\", \"protected\", \"protected\", \"protector\", \"protector\", \"protector\", \"protector\", \"protector\", \"pry\", \"pry\", \"pry\", \"pry\", \"prying\", \"prying\", \"prying\", \"purchasers\", \"purse\", \"purse\", \"purse\", \"purse\", \"purse\", \"put\", \"put\", \"put\", \"put\", \"put\", \"quality\", \"quality\", \"quality\", \"quality\", \"quality\", \"range\", \"range\", \"range\", \"range\", \"range\", \"rapid\", \"really\", \"really\", \"really\", \"really\", \"really\", \"reccommend\", \"received\", \"received\", \"received\", \"received\", \"received\", \"recomend\", \"reps\", \"retractable\", \"retractable\", \"retracts\", \"reverse\", \"reverse\", \"reverse\", \"reviews\", \"reviews\", \"reviews\", \"reviews\", \"reviews\", \"rubberized\", \"rubberized\", \"rubberized\", \"rubberized\", \"s\", \"s\", \"s\", \"s\", \"s\", \"screen\", \"screen\", \"screen\", \"screen\", \"screen\", \"screwdriver\", \"screwdriver\", \"screwdriver\", \"screwdriver\", \"screwdriver\", \"scuff\", \"set\", \"set\", \"set\", \"set\", \"set\", \"sgsii\", \"sgsii\", \"shieldingi\", \"shills\", \"shop\", \"shop\", \"side\", \"side\", \"side\", \"side\", \"side\", \"sizedesign\", \"skype\", \"skype\", \"skype\", \"skype\", \"slip\", \"slip\", \"slip\", \"slip\", \"sound\", \"sound\", \"sound\", \"sound\", \"sound\", \"speaking\", \"speaking\", \"speaking\", \"specially\", \"spell\", \"spluger\", \"stained\", \"station\", \"station\", \"stickers\", \"still\", \"still\", \"still\", \"still\", \"still\", \"store\", \"store\", \"store\", \"store\", \"store\", \"subarus\", \"suburbani\", \"supper\", \"sure\", \"sure\", \"sure\", \"sure\", \"sure\", \"surely\", \"tab\", \"tab\", \"tape\", \"tape\", \"tape\", \"tape\", \"tape\", \"teamspeak\", \"thank\", \"thank\", \"thank\", \"thank\", \"thank\", \"them\", \"them\", \"them\", \"them\", \"them\", \"thereconsthe\", \"time\", \"time\", \"time\", \"time\", \"time\", \"tis\", \"tmobile\", \"tmobile\", \"tmobile\", \"tmobile\", \"tmobile\", \"tolittle\", \"tool\", \"tool\", \"tool\", \"tool\", \"tool\", \"tools\", \"tools\", \"tools\", \"tools\", \"tools\", \"transmit\", \"trouble\", \"trouble\", \"trouble\", \"trouble\", \"trouble\", \"tryit\", \"tweezers\", \"tweezers\", \"tweezers\", \"two\", \"two\", \"two\", \"two\", \"two\", \"underpowered\", \"unit\", \"unit\", \"unit\", \"unit\", \"unit\", \"usa\", \"usable\", \"usable\", \"usb\", \"usb\", \"usb\", \"usb\", \"usb\", \"use\", \"use\", \"use\", \"use\", \"use\", \"used\", \"used\", \"used\", \"used\", \"used\", \"useqwerty\", \"using\", \"using\", \"using\", \"using\", \"using\", \"v\", \"v\", \"v\", \"v\", \"v\", \"varios\", \"vastly\", \"verified\", \"voip\", \"voip\", \"voip\", \"walkietalkie\", \"walkietalkie\", \"was\", \"waterproof\", \"waterproof\", \"weboverall\", \"well\", \"well\", \"well\", \"well\", \"well\", \"welps\", \"what\", \"whats\", \"whats\", \"whats\", \"whats\", \"whine\", \"wife\", \"wife\", \"wife\", \"wife\", \"wife\", \"wiggle\", \"win\", \"without\", \"without\", \"without\", \"without\", \"without\", \"work\", \"work\", \"work\", \"work\", \"work\", \"workingfor\", \"works\", \"works\", \"works\", \"works\", \"works\", \"would\", \"would\", \"would\", \"would\", \"would\", \"wristlet\", \"yellowed\", \"yellowed\"]}, \"R\": 30, \"lambda.step\": 0.01, \"plot.opts\": {\"xlab\": \"PC1\", \"ylab\": \"PC2\"}, \"topic.order\": [5, 3, 4, 2, 1]};\n",
       "\n",
       "function LDAvis_load_lib(url, callback){\n",
       "  var s = document.createElement('script');\n",
       "  s.src = url;\n",
       "  s.async = true;\n",
       "  s.onreadystatechange = s.onload = callback;\n",
       "  s.onerror = function(){console.warn(\"failed to load library \" + url);};\n",
       "  document.getElementsByTagName(\"head\")[0].appendChild(s);\n",
       "}\n",
       "\n",
       "if(typeof(LDAvis) !== \"undefined\"){\n",
       "   // already loaded: just create the visualization\n",
       "   !function(LDAvis){\n",
       "       new LDAvis(\"#\" + \"ldavis_el2044022145262130249099780982\", ldavis_el2044022145262130249099780982_data);\n",
       "   }(LDAvis);\n",
       "}else if(typeof define === \"function\" && define.amd){\n",
       "   // require.js is available: use it to load d3/LDAvis\n",
       "   require.config({paths: {d3: \"https://d3js.org/d3.v5\"}});\n",
       "   require([\"d3\"], function(d3){\n",
       "      window.d3 = d3;\n",
       "      LDAvis_load_lib(\"https://cdn.jsdelivr.net/gh/bmabey/pyLDAvis@3.4.0/pyLDAvis/js/ldavis.v3.0.0.js\", function(){\n",
       "        new LDAvis(\"#\" + \"ldavis_el2044022145262130249099780982\", ldavis_el2044022145262130249099780982_data);\n",
       "      });\n",
       "    });\n",
       "}else{\n",
       "    // require.js not available: dynamically load d3 & LDAvis\n",
       "    LDAvis_load_lib(\"https://d3js.org/d3.v5.js\", function(){\n",
       "         LDAvis_load_lib(\"https://cdn.jsdelivr.net/gh/bmabey/pyLDAvis@3.4.0/pyLDAvis/js/ldavis.v3.0.0.js\", function(){\n",
       "                 new LDAvis(\"#\" + \"ldavis_el2044022145262130249099780982\", ldavis_el2044022145262130249099780982_data);\n",
       "            })\n",
       "         });\n",
       "}\n",
       "</script>"
      ],
      "text/plain": [
       "<IPython.core.display.HTML object>"
      ]
     },
     "execution_count": 15,
     "metadata": {},
     "output_type": "execute_result"
    }
   ],
   "source": [
    "pyLDAvis.enable_notebook()\n",
    "pyLDAvis.display(vis)"
   ]
  },
  {
   "attachments": {
    "out15.png": {
     "image/png": "[encoded data removed]"
    }
   },
   "cell_type": "markdown",
   "metadata": {},
   "source": [
    "![out15.png](attachment:out15.png)"
   ]
  },
  {
   "cell_type": "markdown",
   "metadata": {
    "id": "Ukn2e3iWRoIz"
   },
   "source": [
    "# 2.word2Vec [40pts]\n",
    "\n",
    "\n",
    "In this problem, we use Amazon Review Dataset to perform Word2Vec and Doc2Vec to extract insights relevant for e-commerce business. For this question, download and use the dataset [here](http://snap.stanford.edu/data/amazon/productGraph/categoryFiles/reviews_Electronics_5.json.gz||reviews_Electronics_5.json.gz)."
   ]
  },
  {
   "cell_type": "markdown",
   "metadata": {
    "id": "-UKcbiFCRuJr"
   },
   "source": [
    "## 2.1 Data Cleaning\n",
    "\n"
   ]
  },
  {
   "cell_type": "markdown",
   "metadata": {
    "id": "mcw3Abp6R549"
   },
   "source": [
    "The following code reads the data from a GZIP file."
   ]
  },
  {
   "cell_type": "code",
   "execution_count": 31,
   "metadata": {
    "id": "T-HJ5AnnRpFB"
   },
   "outputs": [],
   "source": [
    "# A function to read the zipped data at a specfic path\n",
    "#\n",
    "# How to use:\n",
    "# PATH = \"/path/to/file\"\n",
    "# for line in parse(PATH):\n",
    "#   do something with line\n",
    "#\n",
    "def parse(path):\n",
    "    g = gzip.open(path, 'r')\n",
    "    for l in g:\n",
    "        yield eval(l)"
   ]
  },
  {
   "cell_type": "markdown",
   "metadata": {
    "id": "O543cF24R81Z"
   },
   "source": [
    "We will now read the data and preprocess it using the following steps:\n",
    "\n",
    "   1. Remove stopwords\n",
    "   2. Lower-case all words\n",
    "   3. Remove words with less than 2 characters\n",
    "   4. Remove punctuation\n",
    "   5. Split each sentence into a list of words\n",
    "\n",
    "   And finally extract 10000 reviews."
   ]
  },
  {
   "cell_type": "code",
   "execution_count": 32,
   "metadata": {
    "id": "4_GNZ3ikR_rE"
   },
   "outputs": [],
   "source": [
    "# A function to clean a single line of text\n",
    "def clean_line(line):\n",
    "    \"\"\" Clean stopwords and punction for each line\n",
    "    \n",
    "    Args: \n",
    "        line (string): one line in file\n",
    "        \n",
    "    Returns:\n",
    "        list(str): a list of all words in the sentence\n",
    "    \"\"\"\n",
    "    line = line.split(\" \")\n",
    "    filtered_content = []\n",
    "    for word in line:\n",
    "        \n",
    "        word = word.lower()\n",
    "        \n",
    "        if (word not in stopWords) and (len(word)) > 1:\n",
    "            filtered_content.append(re.sub(punctuationRegex,'', word))\n",
    "        filtered_content = list(filter(None, filtered_content))\n",
    "    return filtered_content\n",
    "\n",
    "def read_dataset(fname):\n",
    "    \"\"\" Read the 100000 lines in given dataset into list and clean stop words. \n",
    "        \n",
    "    Args: \n",
    "        fname (string): filename of Amazon Review Dataset\n",
    "        \n",
    "    Returns:\n",
    "        list of list of words: we view each document as a list, including a list of all words \n",
    "    \"\"\"\n",
    "    count = 0\n",
    "    exp_dataset = []\n",
    "    for review in parse(fname):\n",
    "        line = review[\"reviewText\"]\n",
    "        new_line = clean_line(line)\n",
    "        exp_dataset.append(new_line)\n",
    "        count += 1\n",
    "        if count > 100000:\n",
    "            break\n",
    "    return exp_dataset    "
   ]
  },
  {
   "cell_type": "code",
   "execution_count": 33,
   "metadata": {
    "id": "zaf3YFgHTNr3"
   },
   "outputs": [
    {
     "name": "stdout",
     "output_type": "stream",
     "text": [
      "Wall time: 36.2 s\n"
     ]
    }
   ],
   "source": [
    "%%time\n",
    "r2 = read_dataset(\"reviews_Electronics_5.json.gz\")"
   ]
  },
  {
   "cell_type": "markdown",
   "metadata": {
    "id": "JamafEPNS3Ii"
   },
   "source": [
    "## 2.2 Build a doc2vec model"
   ]
  },
  {
   "cell_type": "markdown",
   "metadata": {
    "id": "BFMVOQgrTi9s"
   },
   "source": [
    "**[3pts]2.2.1** In this question, first we will build a Word2Vec model using ginsim using size=300, min_count=40, win- dow=10, negative=10, max_vocab_size=10000. Train the model for 30 epochs."
   ]
  },
  {
   "cell_type": "code",
   "execution_count": 34,
   "metadata": {
    "id": "5gGK2QnKTfdO"
   },
   "outputs": [
    {
     "data": {
      "text/plain": [
       "(139070585, 169477560)"
      ]
     },
     "execution_count": 34,
     "metadata": {},
     "output_type": "execute_result"
    }
   ],
   "source": [
    "from gensim.models import Word2Vec\n",
    "\n",
    "dat = r2\n",
    "model = Word2Vec(dat, vector_size=300, window=10, min_count=40, negative=10, max_vocab_size=10000, workers=4)\n",
    "\n",
    "model.train(dat, total_examples=len(r2), epochs=30)"
   ]
  },
  {
   "cell_type": "markdown",
   "metadata": {
    "id": "IPnJE0pQT6jr"
   },
   "source": [
    "**[2pts]2.2.2** Use model.wv.doesnt_match to find a word in [\"Canon\",\"Nikon\",\"junk\"] that does not belong."
   ]
  },
  {
   "cell_type": "code",
   "execution_count": 35,
   "metadata": {
    "id": "pGQT-f_OTqnX"
   },
   "outputs": [
    {
     "name": "stdout",
     "output_type": "stream",
     "text": [
      "The odd word is: junk\n"
     ]
    }
   ],
   "source": [
    "word_list = [\"Canon\", \"Nikon\", \"junk\"]\n",
    "odd_word = model.wv.doesnt_match(word_list)\n",
    "print(\"The odd word is:\", odd_word)"
   ]
  },
  {
   "cell_type": "markdown",
   "metadata": {
    "id": "a44R5v_-UFXp"
   },
   "source": [
    "**[3pts]2.2.3** Come up with 3 other word lists and apply the above function. Explain your observation."
   ]
  },
  {
   "cell_type": "code",
   "execution_count": 36,
   "metadata": {
    "id": "GP9dTi1yUNGR"
   },
   "outputs": [
    {
     "name": "stdout",
     "output_type": "stream",
     "text": [
      "The odd word is: camera\n"
     ]
    }
   ],
   "source": [
    "word_list2 = [\"camera\", \"perfect\", \"wonderful\"]\n",
    "odd_word2 = model.wv.doesnt_match(word_list2)\n",
    "print(\"The odd word is:\", odd_word2)"
   ]
  },
  {
   "cell_type": "markdown",
   "metadata": {
    "id": "mlZKiD_DUN00"
   },
   "source": [
    "\"Canon\" and \"Nikon\" are camera brands, and \"junk\" does not belong,  \"perfect\" and \"wonderful\" are adjectives while \"camera\" is a noun. The doc2vec model is able to capture the similarity and dissimilarity between words, and find the word that doesn't belong."
   ]
  },
  {
   "cell_type": "markdown",
   "metadata": {
    "id": "SLz_WXiHUG4L"
   },
   "source": [
    "**[2pts]2.2.4** What are some tasks in e-commerce that can be solved with this simple function?"
   ]
  },
  {
   "cell_type": "markdown",
   "metadata": {
    "id": "IjaKCXMEUYyM"
   },
   "source": [
    "With this function, it is easy to find similar brand name, helping companies to quickly identify their competitors.\n",
    "\n",
    "It is also easier to filter certain words/comments in review. Companies can get a brief understanding of whether the comments contains many negative/positive words."
   ]
  },
  {
   "cell_type": "markdown",
   "metadata": {
    "id": "2ZmhD59iUtR3"
   },
   "source": [
    "## 2.3 Build a doc2vec model"
   ]
  },
  {
   "cell_type": "markdown",
   "metadata": {
    "id": "cRC20sS1VYJN"
   },
   "source": [
    "**[15 pts] 2.3.1**  Each review is marked by other customers as “helpful” or not. The \"helpful: [a, b]\" item in each review is (a) the number of people who marked the review as helpful, and (b) the total number of people who have marked the review as helpful or unhelpful. The \"helpfulness\" score of a review can be calculated as a/b. Define a \"helpful\" review as one with helpfulness score >= 0.8. Given a review that is only slightly helpful, could we find textually similar reviews but have higher helpfulness? Build Doc2Vec model with gensim on review data. Use product ID “B00006I5WJ” and ReviewerID with “A14453U0KFWF31” as an example, find top 5 helpful reviews of the same product with similarity score above 0.8. "
   ]
  },
  {
   "cell_type": "code",
   "execution_count": 37,
   "metadata": {
    "id": "xGDDL9a4UBGi"
   },
   "outputs": [],
   "source": [
    "import os\n",
    "def read_reviewers_data(fname, min_count=0):\n",
    "    '''\n",
    "    Save all reviews into their own product asin files.\n",
    "    Make sure you have 'product' folder when you run this answer.\n",
    "    In each file, you can choose your own log structure. In this answer, log \n",
    "    strucutre is like \n",
    "        \"reviewText\"\\t\"reviewerID\"\\t\"helpful\"\n",
    "    Args: \n",
    "        fname: dataset file path\n",
    "        min_count: minimum number of reviews of a product\n",
    "    Returns:\n",
    "        none\n",
    "    '''\n",
    "    if not os.path.isdir('product'):\n",
    "        os.makedirs('product')\n",
    "    asin_list = []\n",
    "    tmp_list = []\n",
    "    last_asin = \"\"\n",
    "    j = 0\n",
    "    for i in parse(fname):\n",
    "        if last_asin != i['asin']:\n",
    "            if len(tmp_list) > min_count:\n",
    "                f = open(\"product/\" + last_asin+\".txt\", 'w')\n",
    "                for one in tmp_list:\n",
    "                    f.write(one)\n",
    "                f.close()\n",
    "            tmp_list = []\n",
    "            last_asin = i['asin']\n",
    "        tmp_list.append(i[\"reviewText\"] + '\\t' + i[\"reviewerID\"] +\n",
    "                    '\\t' + handle_helpful(i[\"helpful\"]) + \"\\n\")\n",
    "        j += 1\n",
    "        if j > 100000:\n",
    "            break\n",
    "            \n",
    "def handle_helpful(helpful):\n",
    "    '''\n",
    "    Helper function for helpful_score calculate\n",
    "    Args: \n",
    "        helpful: list. The first element is the number of people think this is helpful. The second element\n",
    "            is the total number of people evaluate this comment\n",
    "    Returns:\n",
    "        String: number represent helpfulness\n",
    "    '''\n",
    "    if helpful[1] != 0:\n",
    "        helpfulness = 1.0 * helpful[0] / helpful[1]\n",
    "        return str(helpfulness)\n",
    "    else:\n",
    "        return str(0)"
   ]
  },
  {
   "cell_type": "code",
   "execution_count": 38,
   "metadata": {
    "id": "ZcaWNGSyban3"
   },
   "outputs": [],
   "source": [
    "read_reviewers_data(\"reviews_Electronics_5.json.gz\")"
   ]
  },
  {
   "cell_type": "code",
   "execution_count": 39,
   "metadata": {
    "id": "phyr9d9Zbvbe"
   },
   "outputs": [],
   "source": [
    "class TaggedReviewDocument(object):\n",
    "    '''\n",
    "    This class could save all products and review information in its dictionary and generate iter for TaggedDocument\n",
    "        which could used for Doc2Vec model\n",
    "    '''\n",
    "    def __init__(self, dirname):\n",
    "        self.dirname = dirname\n",
    "        self.helpfulness = {}  # key:reviewerID value:helpfulness\n",
    "        self.product = {}      # key:asin value:reviewerID\n",
    "        self.asin = []\n",
    "\n",
    "    def __iter__(self):\n",
    "        for filename in os.listdir(self.dirname):\n",
    "            asin_code = filename[:-4] #delete \".txt\"\n",
    "            self.product[asin_code] = []\n",
    "            self.asin.append(asin_code)\n",
    "            for line in enumerate(open(self.dirname + \"/\" + filename)):\n",
    "                line_content = line[1].split(\"\\t\")\n",
    "                self.product[asin_code].append(line_content[1])\n",
    "                self.helpfulness[line_content[1]] = float(line_content[2])\n",
    "                yield TaggedDocument(clean_line(line_content[0]), [line_content[1], line_content[2]])\n",
    "\n"
   ]
  },
  {
   "cell_type": "code",
   "execution_count": 40,
   "metadata": {
    "id": "59Ccalf7bwE2"
   },
   "outputs": [],
   "source": [
    "documents = TaggedReviewDocument(\"product\")"
   ]
  },
  {
   "cell_type": "code",
   "execution_count": 53,
   "metadata": {
    "id": "crSL0O9HbyPI"
   },
   "outputs": [
    {
     "name": "stdout",
     "output_type": "stream",
     "text": [
      "Wall time: 8min 15s\n"
     ]
    }
   ],
   "source": [
    "%%time\n",
    "from gensim.models.doc2vec import TaggedDocument, Doc2Vec\n",
    "\n",
    "model_v = Doc2Vec(documents, vector_size=100, window=2, min_count=1, workers=4)"
   ]
  },
  {
   "cell_type": "code",
   "execution_count": 50,
   "metadata": {},
   "outputs": [
    {
     "data": {
      "text/plain": [
       "<gensim.models.doc2vec.Doc2Vec at 0x27ba8dbfca0>"
      ]
     },
     "execution_count": 50,
     "metadata": {},
     "output_type": "execute_result"
    }
   ],
   "source": [
    "model_v"
   ]
  },
  {
   "cell_type": "markdown",
   "metadata": {
    "id": "HbabO2WUcZxJ"
   },
   "source": [
    "## Find similar reviews"
   ]
  },
  {
   "cell_type": "code",
   "execution_count": 63,
   "metadata": {
    "id": "yCI8l3_9b0ru"
   },
   "outputs": [],
   "source": [
    "def find_similar_reviews(asin,reviewer_id):\n",
    "    '''\n",
    "    If one review is similar to the specefic review and it is much helpful, save it to a list\n",
    "    Args: \n",
    "        asin: product asin\n",
    "        reviewer_id: the specific review\n",
    "    Returns:\n",
    "        list of reviewer id\n",
    "        \n",
    "    '''\n",
    "    result = []\n",
    "    model_v.save('d2v.model')\n",
    "    \n",
    "    # Get the vector representation of the target review\n",
    "    target_vec = model_v.infer_vector([reviewer_id])\n",
    "    \n",
    "    # Find similar reviews to the target review\n",
    "    similar_docs = model_v.wv.most_similar([target_vec], topn=5)\n",
    "    \n",
    "    # Filter out helpful reviews with helpfulness score >= 0.8\n",
    "    helpful_docs = [(doc_id, score) for doc_id, score in similar_docs \n",
    "                    if documents.helpfulness[doc_id] >= 0.8 and doc_id != reviewer_id and doc_id.startswith(asin)]\n",
    "    \n",
    "    # Sort the remaining helpful reviews by helpfulness score and similarity score\n",
    "    helpful_docs.sort(key=lambda x: (x[1], documents.helpfulness[x[0]]), reverse=True)\n",
    "    \n",
    "    # Return the top 5 reviews with highest helpfulness score and similarity score\n",
    "    for doc_id, _ in helpful_docs[:5]:\n",
    "        result.append(doc_id)\n",
    "    \n",
    "    return result\n"
   ]
  },
  {
   "cell_type": "code",
   "execution_count": 95,
   "metadata": {},
   "outputs": [],
   "source": [
    "def find_similar_reviews(asin, reviewer_id):\n",
    "    \"\"\"\n",
    "    Find top 5 helpful reviews of the same product with similarity score above 0.8.\n",
    "    Args:\n",
    "        asin (str): Product asin.\n",
    "        reviewer_id (str): Reviewer ID of the example review.\n",
    "    Returns:\n",
    "        list of str: Top 5 most helpful reviewer IDs.\n",
    "    \"\"\"\n",
    "    result = []\n",
    "    example_review = documents.product[asin].index(reviewer_id)\n",
    "    example_vector = model_v[example_review]\n",
    "    for i, doc in enumerate(model_v.docvecs):\n",
    "        if i != example_review:\n",
    "            \n",
    "            similarity = model_v.similarity_unseen_docs(model_v, [doc], [example_vector])\n",
    "            if similarity > 0.8 and documents.helpfulness[documents.product[asin][i]] > 0.8:\n",
    "                result.append(documents.product[asin][i])\n",
    "                if len(result) == 5:\n",
    "                    break\n",
    "    return result"
   ]
  },
  {
   "cell_type": "code",
   "execution_count": null,
   "metadata": {},
   "outputs": [],
   "source": [
    "print(find_similar_reviews(\"B00006I5WJ\", \"A14453U0KFWF31\")) "
   ]
  },
  {
   "cell_type": "markdown",
   "metadata": {
    "id": "6KIVR0OodJbc"
   },
   "source": [
    "## 2.4 Build a doc2vec model using product descriptions\n"
   ]
  },
  {
   "cell_type": "markdown",
   "metadata": {
    "id": "6aP5_XP5dO2i"
   },
   "source": [
    "**[10pts]2.4.1** Use product descriptions (located in meta data  [here](http://snap.stanford.edu/data/amazon/productGraph/categoryFiles/meta_Electronics.json.gz)) to build a Doc2Vec model. When building the doc2vec model, use vector_size=100, window=15, min_count=5, max_vocab_size=1000, and train it for 1 epoch."
   ]
  },
  {
   "cell_type": "code",
   "execution_count": 75,
   "metadata": {
    "id": "6j9r0LvidJ7V"
   },
   "outputs": [],
   "source": [
    "def read_product_description(fname):\n",
    "    '''\n",
    "    Load all product descriptions\n",
    "    Args: \n",
    "        fname: dataset file path\n",
    "    Returns:\n",
    "        dict: key is asin, value is description content\n",
    "    '''\n",
    "    result = {}\n",
    "    for i in parse(fname):\n",
    "        try:\n",
    "            if \"Camera & Photo\" in i[\"categories\"][0]:\n",
    "                result[i[\"asin\"]]=i[\"description\"]\n",
    "        except:\n",
    "            continue\n",
    "    return result"
   ]
  },
  {
   "cell_type": "code",
   "execution_count": 76,
   "metadata": {
    "id": "XrSISgv3df6_"
   },
   "outputs": [],
   "source": [
    "class TaggedDescriptionDocument(object):\n",
    "    '''\n",
    "    This class could save all products and review information in its dictionary and generate iter for TaggedDocument\n",
    "        which could used for Doc2Vec model\n",
    "    '''\n",
    "    def __init__(self, descriptondict):\n",
    "        self.descriptondict = descriptondict\n",
    "        \n",
    "\n",
    "    def __iter__(self):\n",
    "        for asin in self.descriptondict:\n",
    "            for content in self.descriptondict[asin]:\n",
    "                yield TaggedDocument(clean_line(content), [asin])\n"
   ]
  },
  {
   "cell_type": "code",
   "execution_count": 77,
   "metadata": {
    "id": "yTRwOCtldinm"
   },
   "outputs": [],
   "source": [
    "description_dict = read_product_description(\"meta_Electronics.json.gz\")\n",
    "des_documents = TaggedDescriptionDocument(description_dict)"
   ]
  },
  {
   "cell_type": "code",
   "execution_count": null,
   "metadata": {},
   "outputs": [],
   "source": [
    "model_d = Doc2Vec(des_documents, vector_size=100, window=15, min_count=5, max_vocab_size=1000,epoch = 1)\n",
    "\n"
   ]
  },
  {
   "cell_type": "markdown",
   "metadata": {
    "id": "pvwRTr6ueRS4"
   },
   "source": [
    "**[5pts]2.4.2** Find the most similar product for Canon EOS 5D (asin:B0007Y791C) not made by Canon."
   ]
  },
  {
   "cell_type": "code",
   "execution_count": null,
   "metadata": {
    "id": "wrQZo-AleN-O"
   },
   "outputs": [],
   "source": [
    "def similar_product(asin):\n",
    "    result = []\n",
    "    example_review = documents.product[asin].index(reviewer_id)\n",
    "    example_vector = model_v[example_review]\n",
    "    "
   ]
  },
  {
   "cell_type": "code",
   "execution_count": null,
   "metadata": {
    "id": "Ild0RccPeVU3"
   },
   "outputs": [],
   "source": []
  },
  {
   "cell_type": "markdown",
   "metadata": {},
   "source": [
    "**Reference** \n",
    "\n",
    "This notebook refers to the course materials posted by professor:  \n",
    "\n",
    "LDA-Demo.ipynb  \n",
    "LDA-with-Gensim-Demo.ipynb  \n",
    "word2vec-Demo.ipynb"
   ]
  },
  {
   "cell_type": "code",
   "execution_count": null,
   "metadata": {},
   "outputs": [],
   "source": []
  }
 ],
 "metadata": {
  "colab": {
   "provenance": []
  },
  "kernelspec": {
   "display_name": "Python 3 (ipykernel)",
   "language": "python",
   "name": "python3"
  },
  "language_info": {
   "codemirror_mode": {
    "name": "ipython",
    "version": 3
   },
   "file_extension": ".py",
   "mimetype": "text/x-python",
   "name": "python",
   "nbconvert_exporter": "python",
   "pygments_lexer": "ipython3",
   "version": "3.9.12"
  }
 },
 "nbformat": 4,
 "nbformat_minor": 1
}
