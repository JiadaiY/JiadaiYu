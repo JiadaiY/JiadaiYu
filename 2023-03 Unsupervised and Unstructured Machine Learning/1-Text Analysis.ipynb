{
 "cells": [
  {
   "cell_type": "markdown",
   "metadata": {
    "id": "GX8lefEIIUhh"
   },
   "source": [
    "# IS 820 Homework 1\n",
    "\n",
    "Group Member Names: Shu Wang, Guang Yang , Jiadai Yu, Zheman Zhong, Sheng Zhou.\n",
    "\n",
    "Reminder: you should not be sharing code across groups"
   ]
  },
  {
   "cell_type": "markdown",
   "metadata": {
    "id": "DIo4YlN5IUhk"
   },
   "source": [
    "**Warning: make sure your compute environment is set up first.** This homework assignment assumes that you have already installed Anaconda Python 3 and spaCy."
   ]
  },
  {
   "cell_type": "markdown",
   "metadata": {
    "id": "BMJ1uXgqIUhl"
   },
   "source": [
    "### Instructions\n",
    "1. Fill in group name, and member names above\n",
    "2. Fill in the code/text blocks to answer each question.\n",
    "3. Do *not* change any of the existing code provided.\n",
    "4. Run the entire notebook *before* submitting it on blackboard to make sure that the code actually runs without errors. (**Important**: Any code cells that you have entered code for but did not actually execute will be disregarded, so please be sure to actually run your code first and make sure it runs without errors! We may re-run a subset of your code for grading purposes.)"
   ]
  },
  {
   "cell_type": "markdown",
   "metadata": {
    "id": "8GP6xzMQIUhl"
   },
   "source": [
    "### [Problem 1] Basic Text Analysis [45 pts]\n",
    "\n",
    "This problem involves a mix of Python review (loops, conditionals, counters/dictionaries, sorting) and learning to work with a sizable collection of text data.\n",
    "\n",
    "You will be looking at a phenomenon of \"natural languages\" (i.e., human languages, such as English) called *Zipf's law*, which relates how frequently a word occurs in a language to its \"rank\" (the word with rank 1 is the most frequently occurring word, the word with rank 2 is the second most frequently occurring word, etc). Roughly speaking, the word with rank 1 appears twice as likely as the word with rank 2, and the three times as likely as the word with rank 3, and so forth. (Some details on Zipf's law can be found on [Wikipedia](https://en.wikipedia.org/wiki/Zipf%27s_law).) In this problem, you are going to check whether Zipf's law holds for a real dataset of text documents.\n",
    "\n",
    "The dataset we look at is a collection of the 100 most popular books downloaded from the [Gutenburg Project](https://www.gutenberg.org/browse/scores/top). These 100 books form the corpus that we consider for this problem. Each file contains the text of a book. We will read in all 100 books.\n",
    "\n",
    "Note: Please *do not* change the folder name or the path, and make sure you use a relative path (e.g. './HW1_Dataset/*filename*) when reading the files. When grading your homework, we will put your Jupyter notebook file and the dataset in the same folder, and run your code. **You will not receive points for this problem if your code fails to load the data.**\n",
    "\n",
    "Hint: To list all files that match a certain pattern, you can use the `glob` package. Here's an example usage:\n",
    "\n",
    "```python\n",
    "import glob\n",
    "print(glob.glob('./HW1_Dataset/*.txt'))\n",
    "```\n",
    "\n",
    "**(a) Warm-up/basic Python review [15 pts across subparts].** This part serves as a warm-up, getting you familiar with the kind of code we will be writing in this class. Note that throughout part (a), your code should **not** be using spaCy.\n",
    "\n",
    "**Subpart i [5 pts].** Write a loop that iterates through all 100 books; for each book, print out its corresponding file name and also how long the book is in terms of string length (meaning that if we load in the book as a string, we compute the length of the string using the built-in Python function `len`; this is just counting the number of characters).\n",
    "\n",
    "**Please do not actually print out the contents of each book since many of the books are extremely long, and by printing out all the books' contents, you'll end up creating a Jupyter notebook that has a massive file size.**\n",
    "\n",
    "Hint: When debugging your code, you may want to first make sure your code runs on a few of the books rather than all 100 (for example, you can start by only having 3 of the text files in `HW1_Dataset`). Once you're confident that your solution is correct on a few text files, then run on all of them! This is a standard approach to debugging code that is meant to handle large datasets.\n",
    "\n",
    "Your output should look like (although there should be 100 books rather than 3 as shown below; also, the ordering of the books might be different on your machine):\n",
    "\n",
    "```\n",
    "./HW1_Dataset/War and Peace by graf Leo Tolstoy (251).txt 3227580\n",
    "./HW1_Dataset/Democracy in America — Volume 1 by Alexis de Tocqueville (147).txt 1148435\n",
    "./HW1_Dataset/Frankenstein; Or, The Modern Prometheus by Mary Wollstonecraft Shelley (501).txt 441034\n",
    "```"
   ]
  },
  {
   "cell_type": "code",
   "execution_count": 21,
   "metadata": {
    "id": "g3b2JaOBIUhn"
   },
   "outputs": [
    {
     "name": "stdout",
     "output_type": "stream",
     "text": [
      "./HW1_Dataset/A Christmas Carol in Prose; Being a Ghost Story of Christmas by Charles Dickens (265).txt 177758\n",
      "./HW1_Dataset/A History of Spanish Literature by James Fitzmaurice-Kelly (109).txt 765918\n",
      "./HW1_Dataset/A Modest Proposal by Jonathan Swift (233).txt 38966\n",
      "./HW1_Dataset/A Study in Scarlet by Arthur Conan Doyle (163).txt 262340\n",
      "./HW1_Dataset/A Tale of Two Cities by Charles Dickens (425).txt 776702\n",
      "./HW1_Dataset/Adventures of Huckleberry Finn by Mark Twain (401).txt 593962\n",
      "./HW1_Dataset/Alice in Wonderland by Lewis Carroll and Alice Gerstenberg (126).txt 104079\n",
      "./HW1_Dataset/Alice's Adventures in Wonderland by Lewis Carroll (564).txt 163817\n",
      "./HW1_Dataset/Anne of Green Gables by L. M.  Montgomery (114).txt 580635\n",
      "./HW1_Dataset/Autobiography of Benjamin Franklin by Benjamin Franklin (247).txt 458600\n",
      "./HW1_Dataset/Beowulf An Anglo-Saxon Epic Poem (403).txt 292953\n",
      "./HW1_Dataset/Beyond Good and Evil by Friedrich Wilhelm Nietzsche (120).txt 402273\n",
      "./HW1_Dataset/Candide by Voltaire (180).txt 224924\n",
      "./HW1_Dataset/Carmilla by Joseph Sheridan Le Fanu (135).txt 176408\n",
      "./HW1_Dataset/Common Sense by Thomas Paine (297).txt 145353\n",
      "./HW1_Dataset/Democracy in America — Volume 1 by Alexis de Tocqueville (147).txt 1148435\n",
      "./HW1_Dataset/Dracula by Bram Stoker (461).txt 867141\n",
      "./HW1_Dataset/Dubliners by James Joyce (219).txt 389199\n",
      "./HW1_Dataset/Emma by Jane Austen (166).txt 902390\n",
      "./HW1_Dataset/Essays by Ralph Waldo Emerson by Ralph Waldo Emerson (239).txt 557197\n",
      "./HW1_Dataset/Essays of Michel de Montaigne — Complete by Michel de Montaigne (205).txt 3033575\n",
      "./HW1_Dataset/Et dukkehjem. English by Henrik Ibsen (557).txt 161241\n",
      "./HW1_Dataset/Frankenstein; Or, The Modern Prometheus by Mary Wollstonecraft Shelley (501).txt 441034\n",
      "./HW1_Dataset/Great Expectations by Charles Dickens (293).txt 1013450\n",
      "./HW1_Dataset/Grimms' Fairy Tales by Jacob Grimm and Wilhelm Grimm (429).txt 540241\n",
      "./HW1_Dataset/Gulliver's Travels into Several Remote Nations of the World by Jonathan Swift (136).txt 600105\n",
      "./HW1_Dataset/Heart of Darkness by Joseph Conrad (213).txt 229835\n",
      "./HW1_Dataset/Hedda Gabler by Henrik Ibsen (123).txt 193875\n",
      "./HW1_Dataset/Il Principe. English by Niccolò Machiavelli (428) (Unicode Encoding Conflict).txt 300788\n",
      "./HW1_Dataset/Jane Eyre_ An Autobiography by Charlotte Brontë (290) (Unicode Encoding Conflict).txt 1049267\n",
      "./HW1_Dataset/Leaves of Grass by Walt Whitman (164).txt 757361\n",
      "./HW1_Dataset/Les Misérables by Victor Hugo (165) (Unicode Encoding Conflict).txt 3254333\n",
      "./HW1_Dataset/Leviathan by Thomas Hobbes (417).txt 1231784\n",
      "./HW1_Dataset/Liberalism by L. T.  Hobhouse (119).txt 305345\n",
      "./HW1_Dataset/Metamorphosis by Franz Kafka (483).txt 139056\n",
      "./HW1_Dataset/Moby Dick; Or, The Whale by Herman Melville (413).txt 1238569\n",
      "./HW1_Dataset/My Fifteen Lost Years by Florence Elizabeth Maybrick (499).txt 383694\n",
      "./HW1_Dataset/My Secret Life, Volumes I. to III. by Anonymous (157).txt 1378627\n",
      "./HW1_Dataset/Narrative of the Captivity and Restoration of Mrs. Mary Rowlandson by Mary White Rowlandson (222).txt 123784\n",
      "./HW1_Dataset/Narrative of the Life of Frederick Douglass, an American Slave by Frederick Douglass (243).txt 244263\n",
      "./HW1_Dataset/On Liberty by John Stuart Mill (116).txt 325922\n",
      "./HW1_Dataset/Outpost in the Wilderness_ Fort Wayne, 1706-1828 by Charles Poinsatte (161).txt 363234\n",
      "./HW1_Dataset/Persuasion by Jane Austen (2234).txt 486251\n",
      "./HW1_Dataset/Peter Pan by J. M.  Barrie (274).txt 278194\n",
      "./HW1_Dataset/Prestuplenie i nakazanie. English by Fyodor Dostoyevsky (160).txt 1154508\n",
      "./HW1_Dataset/Pride and Prejudice by Jane Austen (1003).txt 704192\n",
      "./HW1_Dataset/Robert Greene by Robert Greene (126).txt 760655\n",
      "./HW1_Dataset/Semmering 1912 by Peter Altenberg (221).txt 264946\n",
      "./HW1_Dataset/Sense and Sensibility by Jane Austen (177).txt 693095\n",
      "./HW1_Dataset/Siddhartha by Hermann Hesse (216).txt 236855\n",
      "./HW1_Dataset/Songs of Innocence, and Songs of Experience by William Blake (166).txt 51724\n",
      "./HW1_Dataset/The Adventures of Sherlock Holmes by Arthur Conan Doyle (447).txt 581864\n",
      "./HW1_Dataset/The Adventures of Tom Sawyer by Mark Twain (371).txt 412712\n",
      "./HW1_Dataset/The Awakening, and Selected Short Stories by Kate Chopin (192).txt 378936\n",
      "./HW1_Dataset/The Boy Fortune Hunters in China by L. Frank  Baum (215).txt 324452\n",
      "./HW1_Dataset/The Boy Fortune Hunters in the South Seas by L. Frank  Baum (150).txt 266166\n",
      "./HW1_Dataset/The Complete Works of William Shakespeare by William Shakespeare (132).txt 5465100\n",
      "./HW1_Dataset/The Confessions of St. Augustine by Bishop of Hippo Saint Augustine (157).txt 622405\n",
      "./HW1_Dataset/The Count of Monte Cristo, Illustrated by Alexandre Dumas (160).txt 2643849\n",
      "./HW1_Dataset/The Divine Comedy by Dante, Illustrated by Dante Alighieri (119).txt 2161\n",
      "./HW1_Dataset/The Faery Queen and Her Knights by Alfred John Church (177).txt 447320\n",
      "./HW1_Dataset/The Federalist Papers by Alexander Hamilton and John Jay and James Madison (116).txt 1167141\n",
      "./HW1_Dataset/The Guardsman by Homer Greene (175).txt 412900\n",
      "./HW1_Dataset/The History of the Peloponnesian War by Thucydides (122).txt 1200021\n",
      "./HW1_Dataset/The Hound of the Baskervilles by Arthur Conan Doyle (223).txt 339188\n",
      "./HW1_Dataset/The Iliad by Homer (256).txt 1175588\n",
      "./HW1_Dataset/The Importance of Being Earnest_ A Trivial Comedy for Serious People by Oscar Wilde (454).txt 138887\n",
      "./HW1_Dataset/The Innocents Abroad by Mark Twain (108).txt 1126278\n",
      "./HW1_Dataset/The Interesting Narrative of the Life of Olaudah Equiano, Or Gustavus Vassa, The African by Equiano (114).txt 471165\n",
      "./HW1_Dataset/The Kama Sutra of Vatsyayana by Vatsyayana (172).txt 351664\n",
      "./HW1_Dataset/The King James Version of the Bible (132).txt 4351846\n",
      "./HW1_Dataset/The Law of Storms by John Wilson Ross (110).txt 65264\n",
      "./HW1_Dataset/The Legend of Sleepy Hollow by Washington Irving (399).txt 89237\n",
      "./HW1_Dataset/The Life and Adventures of Robinson Crusoe by Daniel Defoe (126).txt 642909\n",
      "./HW1_Dataset/The Mysterious Affair at Styles by Agatha Christie (115).txt 340770\n",
      "./HW1_Dataset/The Odyssey by Homer (124).txt 697404\n",
      "./HW1_Dataset/The Peddler Spy by W. J. Hamilton (356).txt 197390\n",
      "./HW1_Dataset/The Philosophy of Spiritual Activity by Rudolf Steiner (144).txt 545031\n",
      "./HW1_Dataset/The Picture of Dorian Gray by Oscar Wilde (282).txt 453169\n",
      "./HW1_Dataset/The Republic by Plato (246).txt 1214387\n",
      "./HW1_Dataset/The Romance of Lust_ A Classic Victorian erotic novel by Anonymous (294).txt 1051148\n",
      "./HW1_Dataset/The Scarlet Letter by Nathaniel Hawthorne (211).txt 506975\n",
      "./HW1_Dataset/The Souls of Black Folk by W. E. B.  Du Bois (172).txt 421336\n",
      "./HW1_Dataset/The Strange Case of Dr. Jekyll and Mr. Hyde by Robert Louis Stevenson (158).txt 158048\n",
      "./HW1_Dataset/The Strange Case of Dr. Jekyll and Mr. Hyde by Robert Louis Stevenson (170).txt 159542\n",
      "./HW1_Dataset/The Time Machine by H. G.  Wells (137).txt 198281\n",
      "./HW1_Dataset/The Tragedy of Romeo and Juliet by William Shakespeare (131).txt 174128\n",
      "./HW1_Dataset/The Tragical History of Doctor Faustus by Christopher Marlowe (144).txt 143736\n",
      "./HW1_Dataset/The Turn of the Screw by Henry James (185).txt 248089\n",
      "./HW1_Dataset/The Wendigo by Algernon Blackwood (174).txt 127464\n",
      "./HW1_Dataset/The Wonderful Wizard of Oz by L. Frank  Baum (150).txt 227654\n",
      "./HW1_Dataset/The Works of Edgar Allan Poe — Volume 2 by Edgar Allan Poe (137).txt 569966\n",
      "./HW1_Dataset/The Yellow Wallpaper by Charlotte Perkins Gilman (462).txt 50841\n",
      "./HW1_Dataset/Through the Looking-Glass by Lewis Carroll (134).txt 181667\n",
      "./HW1_Dataset/Treasure Island by Robert Louis Stevenson (236).txt 383675\n",
      "./HW1_Dataset/Ulysses by James Joyce (282).txt 1534140\n",
      "./HW1_Dataset/Uncle Tom's Cabin by Harriet Beecher Stowe (108).txt 1025501\n",
      "./HW1_Dataset/Walden, and On The Duty Of Civil Disobedience by Henry David Thoreau (180).txt 656207\n",
      "./HW1_Dataset/War and Peace by graf Leo Tolstoy (251).txt 3227580\n",
      "./HW1_Dataset/Wuthering Heights by Emily Brontë (179) (Unicode Encoding Conflict).txt 669150\n"
     ]
    }
   ],
   "source": [
    "import glob\n",
    "import os\n",
    "path = './HW1_Dataset/'\n",
    "results=[os.path.basename(filename) for filename in glob.glob(path + '*.txt')]\n",
    "my_list1=[]\n",
    "for filename in results:\n",
    "    with open(path + filename, 'r',encoding='utf-8') as f:\n",
    "        text = f.read() #open and read the txt file\n",
    "        my_list1.append(len(text)) #record the length of each txt file\n",
    "        print(path + filename + ' ' + str(len(text))) #print path,filename and length\n"
   ]
  },
  {
   "cell_type": "markdown",
   "metadata": {
    "id": "efsp_yqzIUho"
   },
   "source": [
    "**Subpart ii [5 pts].** Copy and paste your code from **subpart i** into the code cell below. Then in the code cell below, modify the code so that it prints out the top 15 longest books (in terms of raw string length, which is what you had already computed). In particular, please write your code so that the printout is of the following format:\n",
    "\n",
    "```\n",
    "1. <number of characters in longest text file> <filename of longest text file>\n",
    "2. <number of characters in 2nd longest text file> <filename of 2nd longest text file>\n",
    "...\n",
    "15. <number of characters in 15th longest text file> <filename of 15th longest text file>\n",
    "```\n",
    "\n",
    "Note: only print out information for the top 15 books in the format above; please do not repeat printing what we asked you to print in **subpart i**."
   ]
  },
  {
   "cell_type": "code",
   "execution_count": 24,
   "metadata": {
    "id": "UgLpkB5_IUhp"
   },
   "outputs": [
    {
     "name": "stdout",
     "output_type": "stream",
     "text": [
      "1   5465100   The Complete Works of William Shakespeare by William Shakespeare (132).txt\n",
      "2   4351846   The King James Version of the Bible (132).txt\n",
      "3   3254333   Les Misérables by Victor Hugo (165) (Unicode Encoding Conflict).txt\n",
      "4   3227580   War and Peace by graf Leo Tolstoy (251).txt\n",
      "5   3033575   Essays of Michel de Montaigne — Complete by Michel de Montaigne (205).txt\n",
      "6   2643849   The Count of Monte Cristo, Illustrated by Alexandre Dumas (160).txt\n",
      "7   1534140   Ulysses by James Joyce (282).txt\n",
      "8   1378627   My Secret Life, Volumes I. to III. by Anonymous (157).txt\n",
      "9   1238569   Moby Dick; Or, The Whale by Herman Melville (413).txt\n",
      "10   1231784   Leviathan by Thomas Hobbes (417).txt\n",
      "11   1214387   The Republic by Plato (246).txt\n",
      "12   1200021   The History of the Peloponnesian War by Thucydides (122).txt\n",
      "13   1175588   The Iliad by Homer (256).txt\n",
      "14   1167141   The Federalist Papers by Alexander Hamilton and John Jay and James Madison (116).txt\n",
      "15   1154508   Prestuplenie i nakazanie. English by Fyodor Dostoyevsky (160).txt\n"
     ]
    }
   ],
   "source": [
    "a=[]\n",
    "for filename in results:\n",
    "    with open(path + filename, 'r',encoding='utf-8') as f:\n",
    "        text = f.read()\n",
    "        length = len(text)\n",
    "        a.append((length,filename))\n",
    "#sort the list by length\n",
    "a.sort(reverse=True)\n",
    "turn= 0\n",
    "for i,a in enumerate(a):\n",
    "    turn+=1\n",
    "    if turn>15:\n",
    "        break\n",
    "    print(i+1,' ',a[0],' ',a[1])"
   ]
  },
  {
   "cell_type": "markdown",
   "metadata": {
    "id": "2nFDZhmjIUhp"
   },
   "source": [
    "**Subpart iii [5 pts].** You should find that some of the books are quite long. Processing very long books will be problematic with spaCy, so we will want to chop up long books into pieces. Note that later on in the course, we shall see that chopping up large amounts of data into small pieces or \"batches\" is in fact quite common in machine learning since for massive datasets, we often cannot store them in their entirety on a CPU or GPU for processing all at once.\n",
    "\n",
    "As a toy example, suppose that a book's text is `'cat dog shark spam eggs'` and we want to split it up into batches where each batch has at most 3 words. Then we could split up the book's text into two batches/pieces: `'cat dog shark'` and `'spam eggs'`.\n",
    "\n",
    "We have provided code for you to do this below."
   ]
  },
  {
   "cell_type": "code",
   "execution_count": 25,
   "metadata": {
    "id": "yZV2gyhxIUhp",
    "outputId": "0d05f142-d05b-4cba-efa6-32f794b740c2"
   },
   "outputs": [
    {
     "name": "stdout",
     "output_type": "stream",
     "text": [
      "['cat dog shark', 'spam eggs']\n"
     ]
    }
   ],
   "source": [
    "import numpy as np\n",
    "\n",
    "def split_into_batches(book_text, max_num_words_per_batch):\n",
    "    words_split_on_spaces = book_text.split(' ')\n",
    "    num_book_pieces = int(np.ceil(len(words_split_on_spaces) / max_num_words_per_batch))\n",
    "    batches = []\n",
    "    for piece_idx in range(num_book_pieces):\n",
    "        start_idx = piece_idx * max_num_words_per_batch\n",
    "        end_idx = (piece_idx + 1) * max_num_words_per_batch\n",
    "        if end_idx > len(words_split_on_spaces):\n",
    "            end_idx = len(words_split_on_spaces)\n",
    "        book_piece = ' '.join(words_split_on_spaces[start_idx:end_idx])\n",
    "        batches.append(book_piece)\n",
    "    return batches\n",
    "\n",
    "print(split_into_batches('cat dog shark spam eggs', 3))"
   ]
  },
  {
   "cell_type": "markdown",
   "metadata": {
    "id": "2Wjar87AIUhq"
   },
   "source": [
    "Now write a loop that goes through all 100 books again. However, for each book, split it up into batches so that each batch has at most 10000 words. In this case, how many batches are there total across all 100 books? Please write code that computes this number of batches. Your code should print out the following (with the correct total number of batches):\n",
    "\n",
    "```\n",
    "Total number of batches: <total number of batches across all 100 books>\n",
    "```"
   ]
  },
  {
   "cell_type": "code",
   "execution_count": 30,
   "metadata": {
    "id": "K6k24KIUIUhq"
   },
   "outputs": [
    {
     "name": "stdout",
     "output_type": "stream",
     "text": [
      "Total number of batches is: 1246\n"
     ]
    }
   ],
   "source": [
    "results2=[os.path.basename(filename) for filename in glob.glob(path + '*.txt')]\n",
    "my_list2=[]\n",
    "batches = 0\n",
    "for filename in results2:\n",
    "    with open(path + filename, 'r',encoding='utf-8') as f:\n",
    "        text = f.read()\n",
    "        batches = split_into_batches(text,10000)\n",
    "        #append the number of batches for each txt file into my_list2\n",
    "        my_list2.append(len(batches))\n",
    "\n",
    "#get total number of batches by summing up\n",
    "print('Total number of batches is: ' + '' +  str(sum(my_list2)))\n"
   ]
  },
  {
   "cell_type": "markdown",
   "metadata": {
    "id": "BFuaYyVYIUhr"
   },
   "source": [
    "**(b) [10 pts]** Now we will finally use spaCy. Note that for this problem, you don't actually need `spaCy`'s named entity recognition or grammatical parsing. Turning these elements off when you instantiate the `nlp` object can substantially speed up your code. To make sure these are off when instantiating the `nlp` object, call: \n",
    "\n",
    "```python\n",
    "nlp = spacy.load('en_core_web_sm', disable=['ner', 'parser'])\n",
    "```\n",
    "\n",
    "**Throughout this problem, do not remove stopwords.**\n",
    "\n",
    "Build a term frequency (raw counts) table that is for all 100 books. Specifically, building on your solution to part (a)-subpart iii, read in a single book at a time and for each book, do the following:\n",
    "\n",
    "  1. Split it up into batches where each batch has at most 10000 words.\n",
    "  2. For each batch:\n",
    "    1. Process the batch by separating and lemmatizing the words\n",
    "    2. Count the number of times each lemma appears and add these to the frequency table. For simplicity, **do not convert lemmas to lowercase**. (Note that we use raw counts as the \"frequency\"--do not do any division.) Also, as we explain below, we will only count lemmas that are alphabetic.\n",
    "\n",
    "Note that just as we had said in part (a): do **not** print out the complete contents of every book since doing so will result in a Jupyter notebook file that is massive.\n",
    "\n",
    "After looping through all 100 books, you should have the term frequency table for the entire corpus (importantly, the frequency table should not just be for a single book; it should be for all 100 books). Sort the table and print the top 50 most frequent words, along with their frequencies and ranks. Don't worry about ties (for example, if multiple things have the same frequency, it's fine if your solution breaks ties arbitrarily in the sorting).\n",
    "\n",
    "Note: When counting the lemmas, only include lemmas that consist of alphabetic letters (a-z and A-Z). You can do this with what's called a *regular expression*. For example, to check whether the words \"will.i.am\" or \"Tesla\" are alphabetic, you would do the following:\n",
    "\n",
    "```python\n",
    "import re  # regular expression package\n",
    "if re.match('[a-zA-Z]+$', 'will.i.am'):\n",
    "    print('will.i.am consists only of alphabetic letters!')\n",
    "if re.match('[a-zA-Z]+$', 'Tesla'):\n",
    "    print('tesla consists only of alphabetic letters!')\n",
    "```"
   ]
  },
  {
   "cell_type": "code",
   "execution_count": 32,
   "metadata": {},
   "outputs": [
    {
     "name": "stdout",
     "output_type": "stream",
     "text": [
      "Requirement already satisfied: spacy in d:\\anacondo\\lib\\site-packages (3.5.0)\n",
      "Requirement already satisfied: setuptools in d:\\anacondo\\lib\\site-packages (from spacy) (63.4.1)\n",
      "Requirement already satisfied: pydantic!=1.8,!=1.8.1,<1.11.0,>=1.7.4 in d:\\anacondo\\lib\\site-packages (from spacy) (1.10.4)\n",
      "Requirement already satisfied: spacy-loggers<2.0.0,>=1.0.0 in d:\\anacondo\\lib\\site-packages (from spacy) (1.0.4)\n",
      "Requirement already satisfied: srsly<3.0.0,>=2.4.3 in d:\\anacondo\\lib\\site-packages (from spacy) (2.4.5)\n",
      "Requirement already satisfied: cymem<2.1.0,>=2.0.2 in d:\\anacondo\\lib\\site-packages (from spacy) (2.0.7)\n",
      "Requirement already satisfied: pathy>=0.10.0 in d:\\anacondo\\lib\\site-packages (from spacy) (0.10.1)\n",
      "Requirement already satisfied: numpy>=1.15.0 in d:\\anacondo\\lib\\site-packages (from spacy) (1.21.5)\n",
      "Requirement already satisfied: thinc<8.2.0,>=8.1.0 in d:\\anacondo\\lib\\site-packages (from spacy) (8.1.7)\n",
      "Requirement already satisfied: typer<0.8.0,>=0.3.0 in d:\\anacondo\\lib\\site-packages (from spacy) (0.7.0)\n",
      "Requirement already satisfied: tqdm<5.0.0,>=4.38.0 in d:\\anacondo\\lib\\site-packages (from spacy) (4.64.1)\n",
      "Requirement already satisfied: packaging>=20.0 in d:\\anacondo\\lib\\site-packages (from spacy) (21.3)\n",
      "Requirement already satisfied: wasabi<1.2.0,>=0.9.1 in d:\\anacondo\\lib\\site-packages (from spacy) (1.1.1)\n",
      "Requirement already satisfied: catalogue<2.1.0,>=2.0.6 in d:\\anacondo\\lib\\site-packages (from spacy) (2.0.8)\n",
      "Requirement already satisfied: smart-open<7.0.0,>=5.2.1 in d:\\anacondo\\lib\\site-packages (from spacy) (5.2.1)\n",
      "Requirement already satisfied: requests<3.0.0,>=2.13.0 in d:\\anacondo\\lib\\site-packages (from spacy) (2.28.1)\n",
      "Requirement already satisfied: preshed<3.1.0,>=3.0.2 in d:\\anacondo\\lib\\site-packages (from spacy) (3.0.8)\n",
      "Requirement already satisfied: spacy-legacy<3.1.0,>=3.0.11 in d:\\anacondo\\lib\\site-packages (from spacy) (3.0.12)\n",
      "Requirement already satisfied: murmurhash<1.1.0,>=0.28.0 in d:\\anacondo\\lib\\site-packages (from spacy) (1.0.9)\n",
      "Requirement already satisfied: langcodes<4.0.0,>=3.2.0 in d:\\anacondo\\lib\\site-packages (from spacy) (3.3.0)\n",
      "Requirement already satisfied: jinja2 in d:\\anacondo\\lib\\site-packages (from spacy) (2.11.3)\n",
      "Requirement already satisfied: pyparsing!=3.0.5,>=2.0.2 in d:\\anacondo\\lib\\site-packages (from packaging>=20.0->spacy) (3.0.9)\n",
      "Requirement already satisfied: typing-extensions>=4.2.0 in d:\\anacondo\\lib\\site-packages (from pydantic!=1.8,!=1.8.1,<1.11.0,>=1.7.4->spacy) (4.3.0)\n",
      "Requirement already satisfied: certifi>=2017.4.17 in d:\\anacondo\\lib\\site-packages (from requests<3.0.0,>=2.13.0->spacy) (2022.9.14)\n",
      "Requirement already satisfied: urllib3<1.27,>=1.21.1 in d:\\anacondo\\lib\\site-packages (from requests<3.0.0,>=2.13.0->spacy) (1.26.11)\n",
      "Requirement already satisfied: idna<4,>=2.5 in d:\\anacondo\\lib\\site-packages (from requests<3.0.0,>=2.13.0->spacy) (3.3)\n",
      "Requirement already satisfied: charset-normalizer<3,>=2 in d:\\anacondo\\lib\\site-packages (from requests<3.0.0,>=2.13.0->spacy) (2.0.4)\n",
      "Requirement already satisfied: confection<1.0.0,>=0.0.1 in d:\\anacondo\\lib\\site-packages (from thinc<8.2.0,>=8.1.0->spacy) (0.0.4)\n",
      "Requirement already satisfied: blis<0.8.0,>=0.7.8 in d:\\anacondo\\lib\\site-packages (from thinc<8.2.0,>=8.1.0->spacy) (0.7.9)\n",
      "Requirement already satisfied: colorama in d:\\anacondo\\lib\\site-packages (from tqdm<5.0.0,>=4.38.0->spacy) (0.4.6)\n",
      "Requirement already satisfied: click<9.0.0,>=7.1.1 in d:\\anacondo\\lib\\site-packages (from typer<0.8.0,>=0.3.0->spacy) (8.0.4)\n",
      "Requirement already satisfied: MarkupSafe>=0.23 in d:\\anacondo\\lib\\site-packages (from jinja2->spacy) (2.0.1)\n",
      "Note: you may need to restart the kernel to use updated packages.\n"
     ]
    }
   ],
   "source": [
    "pip install -U spacy\n"
   ]
  },
  {
   "cell_type": "code",
   "execution_count": 33,
   "metadata": {},
   "outputs": [
    {
     "name": "stdout",
     "output_type": "stream",
     "text": [
      "Collecting en-core-web-sm==3.5.0\n",
      "  Downloading https://github.com/explosion/spacy-models/releases/download/en_core_web_sm-3.5.0/en_core_web_sm-3.5.0-py3-none-any.whl (12.8 MB)\n",
      "     --------------------------------------- 12.8/12.8 MB 21.1 MB/s eta 0:00:00\n",
      "Requirement already satisfied: spacy<3.6.0,>=3.5.0 in d:\\anacondo\\lib\\site-packages (from en-core-web-sm==3.5.0) (3.5.0)\n",
      "Requirement already satisfied: cymem<2.1.0,>=2.0.2 in d:\\anacondo\\lib\\site-packages (from spacy<3.6.0,>=3.5.0->en-core-web-sm==3.5.0) (2.0.7)\n",
      "Requirement already satisfied: pathy>=0.10.0 in d:\\anacondo\\lib\\site-packages (from spacy<3.6.0,>=3.5.0->en-core-web-sm==3.5.0) (0.10.1)\n",
      "Requirement already satisfied: catalogue<2.1.0,>=2.0.6 in d:\\anacondo\\lib\\site-packages (from spacy<3.6.0,>=3.5.0->en-core-web-sm==3.5.0) (2.0.8)\n",
      "Requirement already satisfied: smart-open<7.0.0,>=5.2.1 in d:\\anacondo\\lib\\site-packages (from spacy<3.6.0,>=3.5.0->en-core-web-sm==3.5.0) (5.2.1)\n",
      "Requirement already satisfied: numpy>=1.15.0 in d:\\anacondo\\lib\\site-packages (from spacy<3.6.0,>=3.5.0->en-core-web-sm==3.5.0) (1.21.5)\n",
      "Requirement already satisfied: srsly<3.0.0,>=2.4.3 in d:\\anacondo\\lib\\site-packages (from spacy<3.6.0,>=3.5.0->en-core-web-sm==3.5.0) (2.4.5)\n",
      "Requirement already satisfied: thinc<8.2.0,>=8.1.0 in d:\\anacondo\\lib\\site-packages (from spacy<3.6.0,>=3.5.0->en-core-web-sm==3.5.0) (8.1.7)\n",
      "Requirement already satisfied: jinja2 in d:\\anacondo\\lib\\site-packages (from spacy<3.6.0,>=3.5.0->en-core-web-sm==3.5.0) (2.11.3)\n",
      "Requirement already satisfied: wasabi<1.2.0,>=0.9.1 in d:\\anacondo\\lib\\site-packages (from spacy<3.6.0,>=3.5.0->en-core-web-sm==3.5.0) (1.1.1)\n",
      "Requirement already satisfied: langcodes<4.0.0,>=3.2.0 in d:\\anacondo\\lib\\site-packages (from spacy<3.6.0,>=3.5.0->en-core-web-sm==3.5.0) (3.3.0)\n",
      "Requirement already satisfied: tqdm<5.0.0,>=4.38.0 in d:\\anacondo\\lib\\site-packages (from spacy<3.6.0,>=3.5.0->en-core-web-sm==3.5.0) (4.64.1)\n",
      "Requirement already satisfied: typer<0.8.0,>=0.3.0 in d:\\anacondo\\lib\\site-packages (from spacy<3.6.0,>=3.5.0->en-core-web-sm==3.5.0) (0.7.0)\n",
      "Requirement already satisfied: pydantic!=1.8,!=1.8.1,<1.11.0,>=1.7.4 in d:\\anacondo\\lib\\site-packages (from spacy<3.6.0,>=3.5.0->en-core-web-sm==3.5.0) (1.10.4)\n",
      "Requirement already satisfied: spacy-loggers<2.0.0,>=1.0.0 in d:\\anacondo\\lib\\site-packages (from spacy<3.6.0,>=3.5.0->en-core-web-sm==3.5.0) (1.0.4)\n",
      "Requirement already satisfied: requests<3.0.0,>=2.13.0 in d:\\anacondo\\lib\\site-packages (from spacy<3.6.0,>=3.5.0->en-core-web-sm==3.5.0) (2.28.1)\n",
      "Requirement already satisfied: packaging>=20.0 in d:\\anacondo\\lib\\site-packages (from spacy<3.6.0,>=3.5.0->en-core-web-sm==3.5.0) (21.3)\n",
      "Requirement already satisfied: setuptools in d:\\anacondo\\lib\\site-packages (from spacy<3.6.0,>=3.5.0->en-core-web-sm==3.5.0) (63.4.1)\n",
      "Requirement already satisfied: preshed<3.1.0,>=3.0.2 in d:\\anacondo\\lib\\site-packages (from spacy<3.6.0,>=3.5.0->en-core-web-sm==3.5.0) (3.0.8)\n",
      "Requirement already satisfied: spacy-legacy<3.1.0,>=3.0.11 in d:\\anacondo\\lib\\site-packages (from spacy<3.6.0,>=3.5.0->en-core-web-sm==3.5.0) (3.0.12)\n",
      "Requirement already satisfied: murmurhash<1.1.0,>=0.28.0 in d:\\anacondo\\lib\\site-packages (from spacy<3.6.0,>=3.5.0->en-core-web-sm==3.5.0) (1.0.9)\n",
      "Requirement already satisfied: pyparsing!=3.0.5,>=2.0.2 in d:\\anacondo\\lib\\site-packages (from packaging>=20.0->spacy<3.6.0,>=3.5.0->en-core-web-sm==3.5.0) (3.0.9)\n",
      "Requirement already satisfied: typing-extensions>=4.2.0 in d:\\anacondo\\lib\\site-packages (from pydantic!=1.8,!=1.8.1,<1.11.0,>=1.7.4->spacy<3.6.0,>=3.5.0->en-core-web-sm==3.5.0) (4.3.0)\n",
      "Requirement already satisfied: urllib3<1.27,>=1.21.1 in d:\\anacondo\\lib\\site-packages (from requests<3.0.0,>=2.13.0->spacy<3.6.0,>=3.5.0->en-core-web-sm==3.5.0) (1.26.11)\n",
      "Requirement already satisfied: idna<4,>=2.5 in d:\\anacondo\\lib\\site-packages (from requests<3.0.0,>=2.13.0->spacy<3.6.0,>=3.5.0->en-core-web-sm==3.5.0) (3.3)\n",
      "Requirement already satisfied: certifi>=2017.4.17 in d:\\anacondo\\lib\\site-packages (from requests<3.0.0,>=2.13.0->spacy<3.6.0,>=3.5.0->en-core-web-sm==3.5.0) (2022.9.14)\n",
      "Requirement already satisfied: charset-normalizer<3,>=2 in d:\\anacondo\\lib\\site-packages (from requests<3.0.0,>=2.13.0->spacy<3.6.0,>=3.5.0->en-core-web-sm==3.5.0) (2.0.4)\n",
      "Requirement already satisfied: blis<0.8.0,>=0.7.8 in d:\\anacondo\\lib\\site-packages (from thinc<8.2.0,>=8.1.0->spacy<3.6.0,>=3.5.0->en-core-web-sm==3.5.0) (0.7.9)\n",
      "Requirement already satisfied: confection<1.0.0,>=0.0.1 in d:\\anacondo\\lib\\site-packages (from thinc<8.2.0,>=8.1.0->spacy<3.6.0,>=3.5.0->en-core-web-sm==3.5.0) (0.0.4)\n",
      "Requirement already satisfied: colorama in d:\\anacondo\\lib\\site-packages (from tqdm<5.0.0,>=4.38.0->spacy<3.6.0,>=3.5.0->en-core-web-sm==3.5.0) (0.4.6)\n",
      "Requirement already satisfied: click<9.0.0,>=7.1.1 in d:\\anacondo\\lib\\site-packages (from typer<0.8.0,>=0.3.0->spacy<3.6.0,>=3.5.0->en-core-web-sm==3.5.0) (8.0.4)\n",
      "Requirement already satisfied: MarkupSafe>=0.23 in d:\\anacondo\\lib\\site-packages (from jinja2->spacy<3.6.0,>=3.5.0->en-core-web-sm==3.5.0) (2.0.1)\n",
      "\u001b[38;5;2m[+] Download and installation successful\u001b[0m\n",
      "You can now load the package via spacy.load('en_core_web_sm')\n"
     ]
    }
   ],
   "source": [
    "import spacy\n",
    "!python -m spacy download en_core_web_sm\n",
    "nlp = spacy.load('en_core_web_sm', disable=['ner', 'parser'])"
   ]
  },
  {
   "cell_type": "code",
   "execution_count": 34,
   "metadata": {},
   "outputs": [],
   "source": [
    "histogram = Counter()  \n",
    "\n",
    "for filename in results2:\n",
    "    with open(path + filename, 'r',encoding='utf-8') as f:\n",
    "        text =f.read() \n",
    "    #split into batches    \n",
    "    batches = split_into_batches(text,10000)\n",
    "    for single_batch in batches:\n",
    "            doc = nlp(single_batch)\n",
    "            for token in doc:\n",
    "                lemma = token.lemma_\n",
    "                if re.match('[a-zA-Z]+$', lemma):\n",
    "                    histogram[lemma] += 1"
   ]
  },
  {
   "cell_type": "code",
   "execution_count": 42,
   "metadata": {},
   "outputs": [
    {
     "name": "stdout",
     "output_type": "stream",
     "text": [
      "Rank  Lemma      Count\n",
      "1    the    702465\n",
      "2    be    436114\n",
      "3    and    435424\n",
      "4    of    386347\n",
      "5    to    324409\n",
      "6    I    255129\n",
      "7    a    233423\n",
      "8    in    204252\n",
      "9    he    193622\n",
      "10    that    159010\n",
      "11    have    158132\n",
      "12    it    135431\n",
      "13    not    111854\n",
      "14    his    108536\n",
      "15    you    102595\n",
      "16    with    101227\n",
      "17    they    96821\n",
      "18    for    95320\n",
      "19    as    90702\n",
      "20    she    78524\n",
      "21    but    75599\n",
      "22    my    73983\n",
      "23    do    68754\n",
      "24    at    64947\n",
      "25    on    62833\n",
      "26    by    61274\n",
      "27    this    61240\n",
      "28    we    60300\n",
      "29    which    58868\n",
      "30    all    58636\n",
      "31    say    58348\n",
      "32    from    50095\n",
      "33    so    47999\n",
      "34    or    47810\n",
      "35    her    42838\n",
      "36    one    41123\n",
      "37    will    40920\n",
      "38    man    39585\n",
      "39    their    38418\n",
      "40    what    37851\n",
      "41    no    37808\n",
      "42    there    37209\n",
      "43    if    34898\n",
      "44    go    33897\n",
      "45    when    33587\n",
      "46    an    32517\n",
      "47    come    32358\n",
      "48    see    32024\n",
      "49    would    31289\n",
      "50    who    30934\n"
     ]
    }
   ],
   "source": [
    "histogram_sort = sorted(histogram.items(),key = lambda w:w[1],reverse = True)\n",
    "#print the frequency table with rank and count\n",
    "print('Rank'.ljust(5), 'Lemma'.ljust(10), 'Count')\n",
    "for i, (lemma, freq) in enumerate(histogram_sort[:50]):\n",
    "    print( i+1 ,'  ',lemma, '  ', freq )"
   ]
  },
  {
   "cell_type": "markdown",
   "metadata": {
    "id": "CGpRkIBFIUhr"
   },
   "source": [
    "**(c) [10 pts]** Visualize the frequency table by plotting a **raw scatter plot** (put frequency as the y-axis and rank as the x-axis), and a **log-log plot** (use logarithmic scales on both the x- and y- axes). Note that this should be for all words and not only the top 50. As before, for the ranks, do not worry about ties, i.e., break ties arbitrarily."
   ]
  },
  {
   "cell_type": "code",
   "execution_count": 96,
   "metadata": {},
   "outputs": [
    {
     "data": {
      "image/png": "[encoded data removed]",
      "text/plain": [
       "<Figure size 640x480 with 1 Axes>"
      ]
     },
     "metadata": {},
     "output_type": "display_data"
    }
   ],
   "source": [
    "import matplotlib.pyplot as plt\n",
    "x=[]\n",
    "y=[]\n",
    "for i in range(len(histogram_sort)):\n",
    "    #append rank\n",
    "    x.append(i+1)\n",
    "    #append frequency\n",
    "    y.append(int(histogram_sort[i][1]))\n",
    "plt.scatter(x,y)\n",
    "plt.xlabel('Rank')\n",
    "plt.ylabel('Frequency')\n",
    "plt.show()"
   ]
  },
  {
   "cell_type": "code",
   "execution_count": 55,
   "metadata": {
    "id": "toULd9vUIUhr"
   },
   "outputs": [
    {
     "data": {
      "image/png": "[encoded data removed]",
      "text/plain": [
       "<Figure size 640x480 with 1 Axes>"
      ]
     },
     "metadata": {},
     "output_type": "display_data"
    }
   ],
   "source": [
    "# Log-log plot\n",
    "plt.scatter(x,y)\n",
    "plt.xlabel('Rank')\n",
    "plt.ylabel('Frequency')\n",
    "axis = plt.gca()  # gets the current axis\n",
    "axis.set_xscale('log')\n",
    "axis.set_yscale('log')"
   ]
  },
  {
   "cell_type": "markdown",
   "metadata": {
    "id": "VDfuokiVIUhr"
   },
   "source": [
    "**(d) [10 pts across subparts]** Let's now try to make sense of the very last plot in part **(c)**. Zipf's law states that term frequency is governed by a power law, i.e. the relationship between term frequency and rank can be approximated by $f(r) = cr^{-1}$, where $f(r)$ is the frequency of the term at rank $r$, $r$ is the rank of a term, and $c$ is a constant that is approximately 0.1*(corpus size) for English.\n",
    "\n",
    "Please answer the following questions:\n",
    "\n",
    "**Subpart i [3 pts].** What do you observe in the log-log plot above? Is this consist with the power law?"
   ]
  },
  {
   "cell_type": "markdown",
   "metadata": {
    "id": "OuxRv41gIUhr"
   },
   "source": [
    "Your text answer (for this question, your answer is *not* code):\n",
    "If we take logarithm on both side of the function, we get $log(f(r)) = -clog(r)$. Hence the Zipf's law indicates that the plot should have a negative slope of (-c).\n",
    "This is constant with our log plot, since it has a negative slope."
   ]
  },
  {
   "cell_type": "markdown",
   "metadata": {
    "id": "pGE9NFmKIUhs"
   },
   "source": [
    "**Subpart ii [4 pts].** Think of the corpus as a (large) unigram bag of words. Following the analogy from lecture, imagine drawing a single word from this big bag (note that we are assuming that we've lemmatized the words and also filtered out non-alphabetic words; thus what remains in the bag are actually alphabetic lemmas). What is the probability of drawing one of the 4 most frequent alphabetic lemmas? What is the probability of drawing one of the 50 most frequent alphabetic lemmas? Answer these two questions using code rather than just entering in the final answers as numbers."
   ]
  },
  {
   "cell_type": "code",
   "execution_count": 57,
   "metadata": {
    "id": "cTc9t8OhIUhs",
    "outputId": "84eb8f27-93d8-4228-e93a-4e518558e655"
   },
   "outputs": [
    {
     "name": "stdout",
     "output_type": "stream",
     "text": [
      "Probability of drawing one of the 4 most frequent alphabetic lemmas: \n",
      "0.16224400336116176\n",
      "Probability of drawing one of the 50 most frequent alphabetic lemmas: \n",
      "0.48310940071723874\n"
     ]
    }
   ],
   "source": [
    "print('Probability of drawing one of the 4 most frequent alphabetic lemmas: ')\n",
    "# y is the count of each lemma.In this question,we sum up top 4 counts and divided by total counts.\n",
    "print(sum(y[:4]) / sum(y))\n",
    "\n",
    "print('Probability of drawing one of the 50 most frequent alphabetic lemmas: ')\n",
    "print(sum(y[:50]) / sum(y))   "
   ]
  },
  {
   "cell_type": "markdown",
   "metadata": {
    "id": "59gHjrftIUhs"
   },
   "source": [
    "**Subpart iii [3 pts].** What proportion of the alphabetic lemmas occur only once? What proportion of the alphabetic lemmas occur fewer than 10 times?"
   ]
  },
  {
   "cell_type": "code",
   "execution_count": 59,
   "metadata": {
    "id": "ZbyM-TU2IUhs",
    "outputId": "77d23ea6-cf4e-49a8-91a9-e80ad344706a",
    "scrolled": true
   },
   "outputs": [
    {
     "name": "stdout",
     "output_type": "stream",
     "text": [
      "Occur only once: \n",
      "0.44752296068407005\n",
      "Occur fewer than 10 times: \n",
      "0.7815500158349545\n"
     ]
    }
   ],
   "source": [
    "print(\"Occur only once: \")\n",
    "# find out those lemma with only one count,divided by total number of lemmas.\n",
    "n = 0\n",
    "for i in y:\n",
    "    if i == 1:\n",
    "        n+=1\n",
    "\n",
    "print(n/len(y))\n",
    "\n",
    "\n",
    "print(\"Occur fewer than 10 times: \")\n",
    "# find out those lemma with less than 10 count,divided by total number of lemmas.\n",
    "n = 0\n",
    "for i in y:\n",
    "    if i < 10:\n",
    "        n+=1\n",
    "\n",
    "print(n/len(y))\n"
   ]
  },
  {
   "cell_type": "markdown",
   "metadata": {
    "id": "I63qS2ROIUhs"
   },
   "source": [
    "### [Problem 2] Entity Recognition and Pointwise Mutual Information (PMI) [55 pts]\n",
    "By using the entity recognition system in `spaCy`, let's identify named entities from newspaper articles. You'll be using Reuters corpus which contains more than ten thousand newspaper articles. To run the code below, you need to download the Reuters dataset. To do so, in a terminal/command line (recall that you can open a terminal from Jupyter's webpage that shows all the files, which by default is [http://localhost:8888/tree](http://localhost:8888/tree)), start up Python and enter:\n",
    "\n",
    "```python\n",
    "import nltk\n",
    "nltk.download('reuters')\n",
    "```\n",
    "\n",
    "Then proceed to the problem subparts below.\n",
    "\n",
    "Note that in this problem you will need named entity recognition but not grammatical parsing. Hence, you will want to instantiate the nlp object by calling:\n",
    "\n",
    "```python\n",
    "nlp = spacy.load('en_core_web_sm', disable=['parser'])\n",
    "```\n"
   ]
  },
  {
   "cell_type": "markdown",
   "metadata": {
    "id": "6xs7AaxHIUhs"
   },
   "source": [
    "**(a) [15 pts]** Draw a bar chart in which one of the axes shows entity labels and the other shows the frequency of the corresponding label. Use the variables `reuters_nlp` and `label_counter` provided in the code below."
   ]
  },
  {
   "cell_type": "code",
   "execution_count": 67,
   "metadata": {
    "colab": {
     "base_uri": "https://localhost:8080/"
    },
    "id": "aSZv6xESIqfo",
    "outputId": "ec8765c2-cd4c-4b45-aa15-64ee141bb342"
   },
   "outputs": [
    {
     "name": "stderr",
     "output_type": "stream",
     "text": [
      "[nltk_data] Downloading package reuters to\n",
      "[nltk_data]     C:\\Users\\王澍\\AppData\\Roaming\\nltk_data...\n",
      "[nltk_data]   Package reuters is already up-to-date!\n"
     ]
    },
    {
     "data": {
      "text/plain": [
       "True"
      ]
     },
     "execution_count": 67,
     "metadata": {},
     "output_type": "execute_result"
    }
   ],
   "source": [
    "import nltk\n",
    "nltk.download('reuters')"
   ]
  },
  {
   "cell_type": "code",
   "execution_count": 97,
   "metadata": {
    "colab": {
     "base_uri": "https://localhost:8080/"
    },
    "id": "gok69eE5IUhs",
    "outputId": "4e2fe383-a0b5-4c78-f2b8-57004dda0c04",
    "scrolled": false
   },
   "outputs": [],
   "source": [
    "import matplotlib.pyplot as plt\n",
    "from collections import Counter\n",
    "from nltk.corpus import reuters\n",
    "import re\n",
    "import spacy\n",
    "nlp = spacy.load('en_core_web_sm', disable=['parser'])\n",
    "reuters_fileids = reuters.fileids()  # hint: when first debugging, consider looking at just the first few\n",
    "reuters_nlp = [nlp(re.sub('\\s+',' ', reuters.raw(i)).strip()) for i in reuters_fileids]\n",
    "label_counter = Counter()\n",
    "\n"
   ]
  },
  {
   "cell_type": "code",
   "execution_count": 98,
   "metadata": {},
   "outputs": [
    {
     "data": {
      "image/png": "[encoded data removed]",
      "text/plain": [
       "<Figure size 640x480 with 1 Axes>"
      ]
     },
     "metadata": {},
     "output_type": "display_data"
    }
   ],
   "source": [
    "for article in reuters_nlp:\n",
    "    label_list = [ent.label_ for ent in article.ents]\n",
    "    label_counter.update(label_list)\n",
    "labels = [item[0] for item in label_counter.items()]\n",
    "label_frequency = [item[1] for item in label_counter.items()]\n",
    "plt.bar(labels, label_frequency)\n",
    "plt.xlabel(\"Entity Label\")\n",
    "plt.ylabel(\"Frequency\")\n",
    "plt.xticks(rotation=90)\n",
    "plt.show()"
   ]
  },
  {
   "cell_type": "markdown",
   "metadata": {
    "id": "P2UQvizFIUhs"
   },
   "source": [
    "**(b) [20 pts]** Now list the top 10 most frequently occurring entities (entity text and the number of occurence) with label `ORG` (organization). Separately list the top 10 most frequently occurring entities with label `GPE` (geopolitical entity such as countries, cities, states) respectively. **In both cases, please convert the entity names to lowercase first before computing the top 10.**\n",
    "\n",
    "Here, when counting the (raw count) frequency, we need to count how many articles have an entity with the desired property. For every article, we add 1 if the article has the entity and 0 otherwise."
   ]
  },
  {
   "cell_type": "code",
   "execution_count": 111,
   "metadata": {},
   "outputs": [
    {
     "name": "stdout",
     "output_type": "stream",
     "text": [
      "Most frequently 10 occurring ORG:\n",
      "ct 1030\n",
      "reuters 444\n",
      "the securities and exchange commission 248\n",
      "ec 231\n",
      "treasury 228\n",
      "fed 225\n",
      "ct net 178\n",
      "the u.s. agriculture department 170\n",
      "usda 154\n",
      "the bank of england 143\n",
      "\n",
      "Most frequently 10 occurring GPE:\n",
      "u.s. 1631\n",
      "japan 579\n",
      "the united states 383\n",
      "u.k. 297\n",
      "canada 295\n",
      "new york 251\n",
      "west germany 236\n",
      "washington 230\n",
      "london 216\n",
      "brazil 201\n"
     ]
    }
   ],
   "source": [
    "common_org = Counter()\n",
    "common_gpe = Counter()\n",
    "\n",
    "for article in reuters_nlp:\n",
    "    #create a list that append an entity if it occurs in the article with corresponding label.\n",
    "    org_list = set([ent.lemma_.lower() for ent in article.ents if ent.label_ == \"ORG\"])\n",
    "    gpe_list = set([ent.lemma_.lower() for ent in article.ents if ent.label_ == \"GPE\"])\n",
    "    \n",
    "    \n",
    "    # update the counter based on every article in the loop\n",
    "    common_org.update(org_list)\n",
    "    common_gpe.update(gpe_list)\n",
    "\n",
    "print('Most frequently 10 occurring ORG:')  \n",
    "for entity,count in common_org.most_common(10):\n",
    "    print (entity,count)\n",
    "\n",
    "print()\n",
    "\n",
    "print('Most frequently 10 occurring GPE:') \n",
    "for entity,count in common_gpe.most_common(10):\n",
    "    print (entity,count)\n"
   ]
  },
  {
   "cell_type": "markdown",
   "metadata": {
    "id": "awogDo8qIUht"
   },
   "source": [
    "**(c) [20 pts]** Give the top 50 `GPE` (countries, cities, states) entities that have the highest Pointwise Mutual Information (PMI) values with regard to the `ORG` (organization) entity **'opec'** (your list of this top 50 should be ranked in decreasing PMI value). Did you find any unexpected results? If so, why do you think it happened? If you found some of the results to be unsurprisingly, how come? **Just like in the previous part, please convert entity names to lowercase in your analysis.**\n",
    "\n",
    "Hint 1: As in lecture, when computing PMI, we will compute probabilities by counting the number of documents where entities occur or co-occur.  For example, $P('opec') = \\frac{number \\ \\ of \\ \\ documents \\ \\ containing \\ \\ 'opec'}{number \\ \\ of \\ \\ documents}$.  \n",
    "\n",
    "Hint 2: To compute this ranking, you do not have to compute the full PMI equation."
   ]
  },
  {
   "cell_type": "markdown",
   "metadata": {},
   "source": [
    "Answer:\n",
    "\n",
    "$PMI(opec,x) = log\\frac{(P(opec,x)}{p(opec)*p(x)}$.\n",
    "\n",
    "$p(opec)$ is constant and is not related to x.For simplicity(computation on ranking),we can ignore this part.\n",
    "logarithm is an increasing function, hence we could ignore logarithm in calculating ranking.\n",
    "The remaining term that we care is $p(opec,x)/p(x)$.\n",
    "By definition, p(opec,x) is the probability that both 'opec' & 'x' occurs.It is given by 'articles contain x and opec'/'total # of articles'\n",
    "p(x) is the probability that 'x' occurs.It is given by 'articles contain x'/'total # of articles'.\n",
    "As a ratio, $p(opec,x)/p(x)$ = 'articles contain  x and opec'/'articles contain x'\n",
    "So it suffices for us to calculate this part of the PMI.\n"
   ]
  },
  {
   "cell_type": "code",
   "execution_count": 95,
   "metadata": {
    "id": "MQhlS9DEIUht"
   },
   "outputs": [
    {
     "name": "stdout",
     "output_type": "stream",
     "text": [
      "Rank  Location                       Co-occurrence with opec        Occurrence           partial PMI         \n",
      "1     brent                          2                              2                    1.0\n",
      "2     ula field                      1                              1                    1.0\n",
      "3     emirates                       2                              2                    1.0\n",
      "4     the lake charles               1                              1                    1.0\n",
      "5     bethesda                       1                              1                    1.0\n",
      "6     franco                         1                              1                    1.0\n",
      "7     gabon                          2                              2                    1.0\n",
      "8     opec                           2                              2                    1.0\n",
      "9     saudi arabia reiterate commitment to 2                              2                    1.0\n",
      "10    yanbu                          2                              2                    1.0\n",
      "11    el salado                      1                              1                    1.0\n",
      "12    aguarico                       1                              1                    1.0\n",
      "13    ras tanurah                    1                              1                    1.0\n",
      "14    jubail                         1                              1                    1.0\n",
      "15    ju'aymah                       1                              1                    1.0\n",
      "16    tripoli                        2                              2                    1.0\n",
      "17    doha                           1                              1                    1.0\n",
      "18    guayaquil                      2                              2                    1.0\n",
      "19    tihamah                        1                              1                    1.0\n",
      "20    redoglia                       1                              1                    1.0\n",
      "21    carrington                     1                              1                    1.0\n",
      "22    materialy                      1                              1                    1.0\n",
      "23    vienna                         17                             20                   0.85\n",
      "24    riyadh                         4                              5                    0.8\n",
      "25    saudi arabia's                 11                             16                   0.6875\n",
      "26    balao                          8                              12                   0.6666666666666666\n",
      "27    quito                          4                              6                    0.6666666666666666\n",
      "28    qatar                          15                             26                   0.5769230769230769\n",
      "29    dubai                          4                              7                    0.5714285714285714\n",
      "30    caracas                        5                              9                    0.5555555555555556\n",
      "31    nigeria                        9                              18                   0.5\n",
      "32    kahan                          1                              2                    0.5\n",
      "33    nordic                         1                              2                    0.5\n",
      "34    statfjord                      1                              2                    0.5\n",
      "35    oseberg                        1                              2                    0.5\n",
      "36    la                             1                              2                    0.5\n",
      "37    dunham                         1                              2                    0.5\n",
      "38    libya                          6                              13                   0.46153846153846156\n",
      "39    ecuador                        25                             57                   0.43859649122807015\n",
      "40    saudi arabia                   27                             64                   0.421875\n",
      "41    kuwait                         27                             68                   0.39705882352941174\n",
      "42    the united arab emirates       11                             29                   0.3793103448275862\n",
      "43    venezuela                      17                             47                   0.3617021276595745\n",
      "44    lago agrio                     1                              3                    0.3333333333333333\n",
      "45    petromin                       1                              3                    0.3333333333333333\n",
      "46    alexandria                     1                              3                    0.3333333333333333\n",
      "47    lagos                          1                              3                    0.3333333333333333\n",
      "48    jakarta                        4                              12                   0.3333333333333333\n",
      "49    jamaica                        2                              7                    0.2857142857142857\n",
      "50    iceland                        1                              4                    0.25\n"
     ]
    }
   ],
   "source": [
    "co_occur = Counter()\n",
    "gpe_counts = Counter()\n",
    "\n",
    "for article in reuters_nlp:\n",
    "    #as previous step,calculate all GPE entities and ORG entities\n",
    "    article_gpe = set([ent.lemma_.lower() for ent in article.ents if ent.label_ == 'GPE'])\n",
    "    article_org = set([ent.lemma_.lower() for ent in article.ents if ent.label_ == 'ORG'])\n",
    "    gpe_counts.update(article_gpe)\n",
    "    # add GPE to co_occurence list if this article also has 'opec'\n",
    "    if 'opec'in article_org:\n",
    "        co_occur.update(article_gpe)\n",
    "\n",
    "#calculate the pmi that we are interested in:that is,'articles contain x and opec'/'articles contain x' \n",
    "pmi_related = Counter()\n",
    "for gpe, co_count in co_occur.items():\n",
    "    #formula for pmi\n",
    "    pmi_related[gpe] = co_count / gpe_counts[gpe]\n",
    "    \n",
    "print('Rank'.ljust(5), 'Location'.ljust(30), 'Co-occurrence with opec'.ljust(30), 'Occurrence '.ljust(20),'partial PMI'.ljust(20))\n",
    "\n",
    "for i, w in enumerate(sorted(pmi_related,\n",
    "                             key=pmi_related.get,\n",
    "                             reverse=True)[:50]):\n",
    "    print(str(i+1).ljust(5), w.ljust(30), str(co_occur[w]).ljust(30), str(gpe_counts[w]).ljust(20),str(pmi_related[w]))"
   ]
  },
  {
   "cell_type": "markdown",
   "metadata": {
    "id": "BIkSKMl1IUht"
   },
   "source": [
    "Your text answer (for this question, your answer is *not* code): \n",
    "Based on our above analysis,it is clear that some of the locations that are expected to have high PMI with 'opec' occurs in our rank list:\n",
    "saudi arabia,quatar,dubai,kuwait,etc.\n",
    "\n",
    "The unexpected results is that some meaningless entities have high PMI with 'opec'. Also, entities related to 'saudi arabia' occurs three times in the rank list and they are supposed to be one entity:saudi arabia.\n",
    "\n",
    "This is reasonable because spaCy might have some limitations while processing these words and phrases.Also, since PMI is defined as a ratio,if the denominator is small,the result would be sufficiently large.This gives preference to those rare words that may only occur in a small number of articles."
   ]
  }
 ],
 "metadata": {
  "anaconda-cloud": {},
  "colab": {
   "provenance": []
  },
  "kernelspec": {
   "display_name": "Python 3 (ipykernel)",
   "language": "python",
   "name": "python3"
  },
  "language_info": {
   "codemirror_mode": {
    "name": "ipython",
    "version": 3
   },
   "file_extension": ".py",
   "mimetype": "text/x-python",
   "name": "python",
   "nbconvert_exporter": "python",
   "pygments_lexer": "ipython3",
   "version": "3.9.13"
  }
 },
 "nbformat": 4,
 "nbformat_minor": 1
}
